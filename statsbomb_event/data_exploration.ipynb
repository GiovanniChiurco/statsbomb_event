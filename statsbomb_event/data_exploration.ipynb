{
 "cells": [
  {
   "cell_type": "markdown",
   "id": "69bd817c",
   "metadata": {},
   "source": [
    "# Importing libraries"
   ]
  },
  {
   "cell_type": "code",
   "execution_count": 1,
   "id": "60e0135f",
   "metadata": {},
   "outputs": [],
   "source": [
    "import pandas as pd\n",
    "import numpy as np\n",
    "from common_fun import *"
   ]
  },
  {
   "cell_type": "markdown",
   "id": "b7f50a0b",
   "metadata": {},
   "source": [
    "# Read parquet file"
   ]
  },
  {
   "cell_type": "code",
   "execution_count": 2,
   "id": "61abd8af",
   "metadata": {},
   "outputs": [],
   "source": [
    "file_path = \"../data/eng_1516_events.parquet\""
   ]
  },
  {
   "cell_type": "code",
   "execution_count": 3,
   "id": "2318bace",
   "metadata": {},
   "outputs": [],
   "source": [
    "df = pd.read_parquet(file_path)"
   ]
  },
  {
   "cell_type": "markdown",
   "id": "7b6f14c6",
   "metadata": {},
   "source": [
    "### Saving column names"
   ]
  },
  {
   "cell_type": "code",
   "execution_count": 4,
   "id": "191d2992",
   "metadata": {},
   "outputs": [],
   "source": [
    "column_list = df.columns.tolist()"
   ]
  },
  {
   "cell_type": "markdown",
   "id": "7e257d42",
   "metadata": {},
   "source": [
    "### Utility functions"
   ]
  },
  {
   "cell_type": "code",
   "execution_count": 5,
   "id": "5749506a",
   "metadata": {},
   "outputs": [],
   "source": [
    "players_df = df[[\"player_id\", \"player\"]].drop_duplicates().dropna()"
   ]
  },
  {
   "cell_type": "code",
   "execution_count": 6,
   "id": "22f3ca74",
   "metadata": {},
   "outputs": [],
   "source": [
    "def head_col(col_name: str, df: pd.DataFrame) -> pd.DataFrame:\n",
    "    return df[~df[col_name].isna()].dropna(axis=1)"
   ]
  },
  {
   "cell_type": "markdown",
   "id": "e3dd1f83",
   "metadata": {},
   "source": [
    "# Task 1"
   ]
  },
  {
   "cell_type": "markdown",
   "id": "d0e39ba7",
   "metadata": {},
   "source": [
    "## Which player attempted the most shots?"
   ]
  },
  {
   "cell_type": "code",
   "execution_count": 10,
   "id": "87cf5da9",
   "metadata": {},
   "outputs": [],
   "source": [
    "player_shot_df = (\n",
    "    df[df[\"type\"] == \"Shot\"]\n",
    "    .groupby(by=[\"player_id\", \"player\"])\n",
    "    .size()\n",
    "    .reset_index(name=\"shot_count\")\n",
    "    .sort_values(by=\"shot_count\", ascending=False, ignore_index=True)\n",
    ")"
   ]
  },
  {
   "cell_type": "code",
   "execution_count": 11,
   "id": "72309fac",
   "metadata": {},
   "outputs": [
    {
     "data": {
      "application/vnd.microsoft.datawrangler.viewer.v0+json": {
       "columns": [
        {
         "name": "index",
         "rawType": "int64",
         "type": "integer"
        },
        {
         "name": "player_id",
         "rawType": "float64",
         "type": "float"
        },
        {
         "name": "player",
         "rawType": "object",
         "type": "string"
        },
        {
         "name": "shot_count",
         "rawType": "int64",
         "type": "integer"
        }
       ],
       "ref": "ac925c8a-af38-448c-96b5-f9741d6e6632",
       "rows": [
        [
         "0",
         "10955.0",
         "Harry Kane",
         "158"
        ],
        [
         "1",
         "3237.0",
         "Sergio Leonel Agüero del Castillo",
         "118"
        ],
        [
         "2",
         "10960.0",
         "Jamie Vardy",
         "118"
        ],
        [
         "3",
         "3289.0",
         "Romelu Lukaku Menama",
         "116"
        ],
        [
         "4",
         "5458.0",
         "Odion Jude Ighalo",
         "111"
        ]
       ],
       "shape": {
        "columns": 3,
        "rows": 5
       }
      },
      "text/html": [
       "<div>\n",
       "<style scoped>\n",
       "    .dataframe tbody tr th:only-of-type {\n",
       "        vertical-align: middle;\n",
       "    }\n",
       "\n",
       "    .dataframe tbody tr th {\n",
       "        vertical-align: top;\n",
       "    }\n",
       "\n",
       "    .dataframe thead th {\n",
       "        text-align: right;\n",
       "    }\n",
       "</style>\n",
       "<table border=\"1\" class=\"dataframe\">\n",
       "  <thead>\n",
       "    <tr style=\"text-align: right;\">\n",
       "      <th></th>\n",
       "      <th>player_id</th>\n",
       "      <th>player</th>\n",
       "      <th>shot_count</th>\n",
       "    </tr>\n",
       "  </thead>\n",
       "  <tbody>\n",
       "    <tr>\n",
       "      <th>0</th>\n",
       "      <td>10955.0</td>\n",
       "      <td>Harry Kane</td>\n",
       "      <td>158</td>\n",
       "    </tr>\n",
       "    <tr>\n",
       "      <th>1</th>\n",
       "      <td>3237.0</td>\n",
       "      <td>Sergio Leonel Agüero del Castillo</td>\n",
       "      <td>118</td>\n",
       "    </tr>\n",
       "    <tr>\n",
       "      <th>2</th>\n",
       "      <td>10960.0</td>\n",
       "      <td>Jamie Vardy</td>\n",
       "      <td>118</td>\n",
       "    </tr>\n",
       "    <tr>\n",
       "      <th>3</th>\n",
       "      <td>3289.0</td>\n",
       "      <td>Romelu Lukaku Menama</td>\n",
       "      <td>116</td>\n",
       "    </tr>\n",
       "    <tr>\n",
       "      <th>4</th>\n",
       "      <td>5458.0</td>\n",
       "      <td>Odion Jude Ighalo</td>\n",
       "      <td>111</td>\n",
       "    </tr>\n",
       "  </tbody>\n",
       "</table>\n",
       "</div>"
      ],
      "text/plain": [
       "   player_id                             player  shot_count\n",
       "0    10955.0                         Harry Kane         158\n",
       "1     3237.0  Sergio Leonel Agüero del Castillo         118\n",
       "2    10960.0                        Jamie Vardy         118\n",
       "3     3289.0               Romelu Lukaku Menama         116\n",
       "4     5458.0                  Odion Jude Ighalo         111"
      ]
     },
     "execution_count": 11,
     "metadata": {},
     "output_type": "execute_result"
    }
   ],
   "source": [
    "player_shot_df.head()"
   ]
  },
  {
   "cell_type": "markdown",
   "id": "a3dfc93a",
   "metadata": {},
   "source": [
    "## Which team created the most expected goals?"
   ]
  },
  {
   "cell_type": "code",
   "execution_count": 12,
   "id": "f48a5f98",
   "metadata": {},
   "outputs": [],
   "source": [
    "team_xg_df = (\n",
    "    df.groupby(by=[\"team_id\", \"team\"])\n",
    "    .agg({\"shot_statsbomb_xg\": \"sum\"})\n",
    "    .reset_index()\n",
    "    .sort_values(by=\"shot_statsbomb_xg\", ascending=False)\n",
    ")"
   ]
  },
  {
   "cell_type": "code",
   "execution_count": 13,
   "id": "4b8daad0",
   "metadata": {},
   "outputs": [
    {
     "data": {
      "application/vnd.microsoft.datawrangler.viewer.v0+json": {
       "columns": [
        {
         "name": "index",
         "rawType": "int64",
         "type": "integer"
        },
        {
         "name": "team_id",
         "rawType": "int64",
         "type": "integer"
        },
        {
         "name": "team",
         "rawType": "object",
         "type": "string"
        },
        {
         "name": "shot_statsbomb_xg",
         "rawType": "float64",
         "type": "float"
        }
       ],
       "ref": "8dd88272-b1bd-4698-bee4-962089ef98f6",
       "rows": [
        [
         "1",
         "22",
         "Leicester City",
         "66.282170986"
        ],
        [
         "0",
         "1",
         "Arsenal",
         "65.1361259979"
        ],
        [
         "12",
         "36",
         "Manchester City",
         "64.5550554535"
        ],
        [
         "14",
         "38",
         "Tottenham Hotspur",
         "62.3562029292"
        ],
        [
         "3",
         "24",
         "Liverpool",
         "58.3736570603"
        ]
       ],
       "shape": {
        "columns": 3,
        "rows": 5
       }
      },
      "text/html": [
       "<div>\n",
       "<style scoped>\n",
       "    .dataframe tbody tr th:only-of-type {\n",
       "        vertical-align: middle;\n",
       "    }\n",
       "\n",
       "    .dataframe tbody tr th {\n",
       "        vertical-align: top;\n",
       "    }\n",
       "\n",
       "    .dataframe thead th {\n",
       "        text-align: right;\n",
       "    }\n",
       "</style>\n",
       "<table border=\"1\" class=\"dataframe\">\n",
       "  <thead>\n",
       "    <tr style=\"text-align: right;\">\n",
       "      <th></th>\n",
       "      <th>team_id</th>\n",
       "      <th>team</th>\n",
       "      <th>shot_statsbomb_xg</th>\n",
       "    </tr>\n",
       "  </thead>\n",
       "  <tbody>\n",
       "    <tr>\n",
       "      <th>1</th>\n",
       "      <td>22</td>\n",
       "      <td>Leicester City</td>\n",
       "      <td>66.282171</td>\n",
       "    </tr>\n",
       "    <tr>\n",
       "      <th>0</th>\n",
       "      <td>1</td>\n",
       "      <td>Arsenal</td>\n",
       "      <td>65.136126</td>\n",
       "    </tr>\n",
       "    <tr>\n",
       "      <th>12</th>\n",
       "      <td>36</td>\n",
       "      <td>Manchester City</td>\n",
       "      <td>64.555055</td>\n",
       "    </tr>\n",
       "    <tr>\n",
       "      <th>14</th>\n",
       "      <td>38</td>\n",
       "      <td>Tottenham Hotspur</td>\n",
       "      <td>62.356203</td>\n",
       "    </tr>\n",
       "    <tr>\n",
       "      <th>3</th>\n",
       "      <td>24</td>\n",
       "      <td>Liverpool</td>\n",
       "      <td>58.373657</td>\n",
       "    </tr>\n",
       "  </tbody>\n",
       "</table>\n",
       "</div>"
      ],
      "text/plain": [
       "    team_id               team  shot_statsbomb_xg\n",
       "1        22     Leicester City          66.282171\n",
       "0         1            Arsenal          65.136126\n",
       "12       36    Manchester City          64.555055\n",
       "14       38  Tottenham Hotspur          62.356203\n",
       "3        24          Liverpool          58.373657"
      ]
     },
     "execution_count": 13,
     "metadata": {},
     "output_type": "execute_result"
    }
   ],
   "source": [
    "team_xg_df.head()"
   ]
  },
  {
   "cell_type": "code",
   "execution_count": 14,
   "id": "d0d3d9bd",
   "metadata": {},
   "outputs": [],
   "source": [
    "most_xg_team = int(team_xg_df.iloc[0].team_id)"
   ]
  },
  {
   "cell_type": "markdown",
   "id": "c3c2687f",
   "metadata": {},
   "source": [
    "## How many different players were awarded a yellow card?"
   ]
  },
  {
   "cell_type": "code",
   "execution_count": 15,
   "id": "97156647",
   "metadata": {},
   "outputs": [
    {
     "data": {
      "text/plain": [
       "365"
      ]
     },
     "execution_count": 15,
     "metadata": {},
     "output_type": "execute_result"
    }
   ],
   "source": [
    "yellow_count = df[\n",
    "    (df[\"foul_committed_card\"] == \"Yellow Card\") | \n",
    "    (df[\"bad_behaviour_card\"] == \"Yellow Card\")][\"player_id\"].nunique()\n",
    "yellow_count"
   ]
  },
  {
   "cell_type": "markdown",
   "id": "00355e7e",
   "metadata": {},
   "source": [
    "## Which Liverpool player assisted the most shots with their right foot?"
   ]
  },
  {
   "cell_type": "code",
   "execution_count": 16,
   "id": "fba2ad77",
   "metadata": {},
   "outputs": [
    {
     "data": {
      "text/plain": [
       "np.int64(24)"
      ]
     },
     "execution_count": 16,
     "metadata": {},
     "output_type": "execute_result"
    }
   ],
   "source": [
    "chosen_team = df[df[\"team\"] == \"Liverpool\"][\"team_id\"].unique()[0]\n",
    "chosen_team"
   ]
  },
  {
   "cell_type": "markdown",
   "id": "9e29020c",
   "metadata": {},
   "source": [
    "I took into consideration both the goals and the shots that did not convert to goals."
   ]
  },
  {
   "cell_type": "code",
   "execution_count": 17,
   "id": "a7a97549",
   "metadata": {},
   "outputs": [],
   "source": [
    "cb_assist_p_df = (\n",
    "    df[\n",
    "        ((df[\"pass_shot_assist\"]) | (df[\"pass_goal_assist\"]))\n",
    "        & (df[\"pass_body_part\"] == \"Right Foot\")\n",
    "        & (df[\"team_id\"] == chosen_team)                        # Chosen team id\n",
    "    ]\n",
    "    .groupby(by=[\"player_id\", \"player\"])\n",
    "    .size()\n",
    "    .reset_index(name=\"shot_assist_count\")\n",
    "    .sort_values(by=\"shot_assist_count\", ascending=False)\n",
    ")"
   ]
  },
  {
   "cell_type": "code",
   "execution_count": 18,
   "id": "006b07b8",
   "metadata": {},
   "outputs": [
    {
     "data": {
      "application/vnd.microsoft.datawrangler.viewer.v0+json": {
       "columns": [
        {
         "name": "index",
         "rawType": "int64",
         "type": "integer"
        },
        {
         "name": "player_id",
         "rawType": "float64",
         "type": "float"
        },
        {
         "name": "player",
         "rawType": "object",
         "type": "string"
        },
        {
         "name": "shot_assist_count",
         "rawType": "int64",
         "type": "integer"
        }
       ],
       "ref": "b71c7766-9f36-4455-8f3e-74c465e65413",
       "rows": [
        [
         "2",
         "3473.0",
         "James Philip Milner",
         "42"
        ],
        [
         "6",
         "3501.0",
         "Philippe Coutinho Correia",
         "41"
        ],
        [
         "10",
         "3535.0",
         "Roberto Firmino Barbosa de Oliveira",
         "31"
        ],
        [
         "13",
         "4090.0",
         "Adam David Lallana",
         "27"
        ],
        [
         "15",
         "4590.0",
         "Nathaniel Edwin Clyne",
         "25"
        ]
       ],
       "shape": {
        "columns": 3,
        "rows": 5
       }
      },
      "text/html": [
       "<div>\n",
       "<style scoped>\n",
       "    .dataframe tbody tr th:only-of-type {\n",
       "        vertical-align: middle;\n",
       "    }\n",
       "\n",
       "    .dataframe tbody tr th {\n",
       "        vertical-align: top;\n",
       "    }\n",
       "\n",
       "    .dataframe thead th {\n",
       "        text-align: right;\n",
       "    }\n",
       "</style>\n",
       "<table border=\"1\" class=\"dataframe\">\n",
       "  <thead>\n",
       "    <tr style=\"text-align: right;\">\n",
       "      <th></th>\n",
       "      <th>player_id</th>\n",
       "      <th>player</th>\n",
       "      <th>shot_assist_count</th>\n",
       "    </tr>\n",
       "  </thead>\n",
       "  <tbody>\n",
       "    <tr>\n",
       "      <th>2</th>\n",
       "      <td>3473.0</td>\n",
       "      <td>James Philip Milner</td>\n",
       "      <td>42</td>\n",
       "    </tr>\n",
       "    <tr>\n",
       "      <th>6</th>\n",
       "      <td>3501.0</td>\n",
       "      <td>Philippe Coutinho Correia</td>\n",
       "      <td>41</td>\n",
       "    </tr>\n",
       "    <tr>\n",
       "      <th>10</th>\n",
       "      <td>3535.0</td>\n",
       "      <td>Roberto Firmino Barbosa de Oliveira</td>\n",
       "      <td>31</td>\n",
       "    </tr>\n",
       "    <tr>\n",
       "      <th>13</th>\n",
       "      <td>4090.0</td>\n",
       "      <td>Adam David Lallana</td>\n",
       "      <td>27</td>\n",
       "    </tr>\n",
       "    <tr>\n",
       "      <th>15</th>\n",
       "      <td>4590.0</td>\n",
       "      <td>Nathaniel Edwin Clyne</td>\n",
       "      <td>25</td>\n",
       "    </tr>\n",
       "  </tbody>\n",
       "</table>\n",
       "</div>"
      ],
      "text/plain": [
       "    player_id                               player  shot_assist_count\n",
       "2      3473.0                  James Philip Milner                 42\n",
       "6      3501.0            Philippe Coutinho Correia                 41\n",
       "10     3535.0  Roberto Firmino Barbosa de Oliveira                 31\n",
       "13     4090.0                   Adam David Lallana                 27\n",
       "15     4590.0                Nathaniel Edwin Clyne                 25"
      ]
     },
     "execution_count": 18,
     "metadata": {},
     "output_type": "execute_result"
    }
   ],
   "source": [
    "cb_assist_p_df.head()"
   ]
  },
  {
   "cell_type": "markdown",
   "id": "c5e3f84f",
   "metadata": {},
   "source": [
    "## Which Liverpool player applied the most counterpressures?"
   ]
  },
  {
   "cell_type": "code",
   "execution_count": 19,
   "id": "a1a32555",
   "metadata": {},
   "outputs": [],
   "source": [
    "counterpress_player_df = (\n",
    "    df[(df[\"counterpress\"]) & (df[\"team_id\"] == chosen_team)]\n",
    "    .groupby(by=[\"player_id\", \"player\"])\n",
    "    .size()\n",
    "    .reset_index(name=\"counterpressure_count\")\n",
    "    .sort_values(by=\"counterpressure_count\", ascending=False)\n",
    ")"
   ]
  },
  {
   "cell_type": "code",
   "execution_count": 20,
   "id": "a228bf54",
   "metadata": {},
   "outputs": [
    {
     "data": {
      "application/vnd.microsoft.datawrangler.viewer.v0+json": {
       "columns": [
        {
         "name": "index",
         "rawType": "int64",
         "type": "integer"
        },
        {
         "name": "player_id",
         "rawType": "float64",
         "type": "float"
        },
        {
         "name": "player",
         "rawType": "object",
         "type": "string"
        },
        {
         "name": "counterpressure_count",
         "rawType": "int64",
         "type": "integer"
        }
       ],
       "ref": "58c01a31-da5a-45d4-849e-1ad4c9187ade",
       "rows": [
        [
         "18",
         "7780.0",
         "Lucas Pezzini Leiva",
         "257"
        ],
        [
         "2",
         "3473.0",
         "James Philip Milner",
         "252"
        ],
        [
         "4",
         "3493.0",
         "Emre Can",
         "248"
        ],
        [
         "10",
         "3535.0",
         "Roberto Firmino Barbosa de Oliveira",
         "240"
        ],
        [
         "13",
         "4090.0",
         "Adam David Lallana",
         "211"
        ]
       ],
       "shape": {
        "columns": 3,
        "rows": 5
       }
      },
      "text/html": [
       "<div>\n",
       "<style scoped>\n",
       "    .dataframe tbody tr th:only-of-type {\n",
       "        vertical-align: middle;\n",
       "    }\n",
       "\n",
       "    .dataframe tbody tr th {\n",
       "        vertical-align: top;\n",
       "    }\n",
       "\n",
       "    .dataframe thead th {\n",
       "        text-align: right;\n",
       "    }\n",
       "</style>\n",
       "<table border=\"1\" class=\"dataframe\">\n",
       "  <thead>\n",
       "    <tr style=\"text-align: right;\">\n",
       "      <th></th>\n",
       "      <th>player_id</th>\n",
       "      <th>player</th>\n",
       "      <th>counterpressure_count</th>\n",
       "    </tr>\n",
       "  </thead>\n",
       "  <tbody>\n",
       "    <tr>\n",
       "      <th>18</th>\n",
       "      <td>7780.0</td>\n",
       "      <td>Lucas Pezzini Leiva</td>\n",
       "      <td>257</td>\n",
       "    </tr>\n",
       "    <tr>\n",
       "      <th>2</th>\n",
       "      <td>3473.0</td>\n",
       "      <td>James Philip Milner</td>\n",
       "      <td>252</td>\n",
       "    </tr>\n",
       "    <tr>\n",
       "      <th>4</th>\n",
       "      <td>3493.0</td>\n",
       "      <td>Emre Can</td>\n",
       "      <td>248</td>\n",
       "    </tr>\n",
       "    <tr>\n",
       "      <th>10</th>\n",
       "      <td>3535.0</td>\n",
       "      <td>Roberto Firmino Barbosa de Oliveira</td>\n",
       "      <td>240</td>\n",
       "    </tr>\n",
       "    <tr>\n",
       "      <th>13</th>\n",
       "      <td>4090.0</td>\n",
       "      <td>Adam David Lallana</td>\n",
       "      <td>211</td>\n",
       "    </tr>\n",
       "  </tbody>\n",
       "</table>\n",
       "</div>"
      ],
      "text/plain": [
       "    player_id                               player  counterpressure_count\n",
       "18     7780.0                  Lucas Pezzini Leiva                    257\n",
       "2      3473.0                  James Philip Milner                    252\n",
       "4      3493.0                             Emre Can                    248\n",
       "10     3535.0  Roberto Firmino Barbosa de Oliveira                    240\n",
       "13     4090.0                   Adam David Lallana                    211"
      ]
     },
     "execution_count": 20,
     "metadata": {},
     "output_type": "execute_result"
    }
   ],
   "source": [
    "counterpress_player_df.head()"
   ]
  },
  {
   "cell_type": "markdown",
   "id": "e2918b6d",
   "metadata": {},
   "source": [
    "# Task 2"
   ]
  },
  {
   "cell_type": "markdown",
   "id": "bf4b4009",
   "metadata": {},
   "source": [
    "## Read players positions"
   ]
  },
  {
   "cell_type": "code",
   "execution_count": 7,
   "id": "6165ac2a",
   "metadata": {},
   "outputs": [],
   "source": [
    "player_positions = pd.read_csv('../data/player_positions.csv')"
   ]
  },
  {
   "cell_type": "code",
   "execution_count": 13,
   "id": "d0f1719e",
   "metadata": {},
   "outputs": [],
   "source": [
    "def get_position_metric(\n",
    "        position: str, player_positions: pd.DataFrame, metric_df: pd.DataFrame\n",
    ") -> pd.DataFrame:\n",
    "    chosen_pos_players = player_positions[player_positions['position_group_name'] == position]\n",
    "    metric_df_copy = metric_df.copy()\n",
    "    metric_df_copy = metric_df_copy.drop(columns='player')\n",
    "    metric_df_copy = pd.merge(\n",
    "        metric_df_copy,\n",
    "        chosen_pos_players,\n",
    "        on='player_id'\n",
    "    )\n",
    "    return metric_df_copy"
   ]
  },
  {
   "cell_type": "markdown",
   "id": "fc7686bf",
   "metadata": {},
   "source": [
    "## Aerial Wins"
   ]
  },
  {
   "cell_type": "code",
   "execution_count": 9,
   "id": "af9bb652",
   "metadata": {},
   "outputs": [],
   "source": [
    "def get_aerial_wins(df: pd.DataFrame) -> pd.DataFrame:\n",
    "    \"\"\"Extract the number of aerial wins for player.\n",
    "\n",
    "    Parameters\n",
    "    ----------\n",
    "    df : pd.DataFrame\n",
    "        Event data\n",
    "\n",
    "    Returns\n",
    "    -------\n",
    "    pd.DataFrame\n",
    "        DataFrame with player_id, aerial_win_count as columns\n",
    "    \"\"\"\n",
    "    return (\n",
    "        df[\n",
    "            (df[\"clearance_aerial_won\"])\n",
    "            | (df[\"miscontrol_aerial_won\"])\n",
    "            | (df[\"pass_aerial_won\"])\n",
    "            | (df[\"shot_aerial_won\"])\n",
    "        ]\n",
    "        .groupby(by=[\"player_id\",\"player\"])\n",
    "        .size()\n",
    "        .reset_index(name=\"aerial_win_count\")\n",
    "        .sort_values(by=\"aerial_win_count\", ascending=False, ignore_index=True)\n",
    "    )"
   ]
  },
  {
   "cell_type": "code",
   "execution_count": 10,
   "id": "75d0b505",
   "metadata": {},
   "outputs": [],
   "source": [
    "aerial_win_players = get_aerial_wins(df=df)"
   ]
  },
  {
   "cell_type": "markdown",
   "id": "e40b7bee",
   "metadata": {},
   "source": [
    "### Best 5 midfielders according to Aerial Wins"
   ]
  },
  {
   "cell_type": "code",
   "execution_count": 14,
   "id": "f41a76a6",
   "metadata": {},
   "outputs": [
    {
     "data": {
      "application/vnd.microsoft.datawrangler.viewer.v0+json": {
       "columns": [
        {
         "name": "index",
         "rawType": "int64",
         "type": "integer"
        },
        {
         "name": "player_id",
         "rawType": "float64",
         "type": "float"
        },
        {
         "name": "aerial_win_count",
         "rawType": "int64",
         "type": "integer"
        },
        {
         "name": "player",
         "rawType": "object",
         "type": "string"
        },
        {
         "name": "position_group_name",
         "rawType": "object",
         "type": "string"
        }
       ],
       "ref": "7dcfed79-c5bf-4d31-afd9-3dd5e8a4a9d5",
       "rows": [
        [
         "0",
         "5489.0",
         "121",
         "Mile Jedinak",
         "Midfielder"
        ],
        [
         "1",
         "3684.0",
         "111",
         "Cheikhou Kouyaté",
         "Midfielder"
        ],
        [
         "2",
         "10956.0",
         "106",
         "Eric Dier",
         "Midfielder"
        ],
        [
         "3",
         "3098.0",
         "87",
         "Victor Wanyama",
         "Midfielder"
        ],
        [
         "4",
         "3462.0",
         "85",
         "Jack Frank Porteous Cork",
         "Midfielder"
        ]
       ],
       "shape": {
        "columns": 4,
        "rows": 5
       }
      },
      "text/html": [
       "<div>\n",
       "<style scoped>\n",
       "    .dataframe tbody tr th:only-of-type {\n",
       "        vertical-align: middle;\n",
       "    }\n",
       "\n",
       "    .dataframe tbody tr th {\n",
       "        vertical-align: top;\n",
       "    }\n",
       "\n",
       "    .dataframe thead th {\n",
       "        text-align: right;\n",
       "    }\n",
       "</style>\n",
       "<table border=\"1\" class=\"dataframe\">\n",
       "  <thead>\n",
       "    <tr style=\"text-align: right;\">\n",
       "      <th></th>\n",
       "      <th>player_id</th>\n",
       "      <th>aerial_win_count</th>\n",
       "      <th>player</th>\n",
       "      <th>position_group_name</th>\n",
       "    </tr>\n",
       "  </thead>\n",
       "  <tbody>\n",
       "    <tr>\n",
       "      <th>0</th>\n",
       "      <td>5489.0</td>\n",
       "      <td>121</td>\n",
       "      <td>Mile Jedinak</td>\n",
       "      <td>Midfielder</td>\n",
       "    </tr>\n",
       "    <tr>\n",
       "      <th>1</th>\n",
       "      <td>3684.0</td>\n",
       "      <td>111</td>\n",
       "      <td>Cheikhou Kouyaté</td>\n",
       "      <td>Midfielder</td>\n",
       "    </tr>\n",
       "    <tr>\n",
       "      <th>2</th>\n",
       "      <td>10956.0</td>\n",
       "      <td>106</td>\n",
       "      <td>Eric Dier</td>\n",
       "      <td>Midfielder</td>\n",
       "    </tr>\n",
       "    <tr>\n",
       "      <th>3</th>\n",
       "      <td>3098.0</td>\n",
       "      <td>87</td>\n",
       "      <td>Victor Wanyama</td>\n",
       "      <td>Midfielder</td>\n",
       "    </tr>\n",
       "    <tr>\n",
       "      <th>4</th>\n",
       "      <td>3462.0</td>\n",
       "      <td>85</td>\n",
       "      <td>Jack Frank Porteous Cork</td>\n",
       "      <td>Midfielder</td>\n",
       "    </tr>\n",
       "  </tbody>\n",
       "</table>\n",
       "</div>"
      ],
      "text/plain": [
       "   player_id  aerial_win_count                    player position_group_name\n",
       "0     5489.0               121              Mile Jedinak          Midfielder\n",
       "1     3684.0               111          Cheikhou Kouyaté          Midfielder\n",
       "2    10956.0               106                 Eric Dier          Midfielder\n",
       "3     3098.0                87            Victor Wanyama          Midfielder\n",
       "4     3462.0                85  Jack Frank Porteous Cork          Midfielder"
      ]
     },
     "execution_count": 14,
     "metadata": {},
     "output_type": "execute_result"
    }
   ],
   "source": [
    "mid_aerial_win = get_position_metric(\n",
    "    position='Midfielder',\n",
    "    player_positions=player_positions,\n",
    "    metric_df=aerial_win_players\n",
    ")\n",
    "mid_aerial_win.head(5)"
   ]
  },
  {
   "cell_type": "markdown",
   "id": "6b472bb0",
   "metadata": {},
   "source": [
    "## Aerial Win Percentage"
   ]
  },
  {
   "cell_type": "code",
   "execution_count": 16,
   "id": "a972cccf",
   "metadata": {},
   "outputs": [],
   "source": [
    "def get_aerial_wins_perc(df: pd.DataFrame) -> pd.DataFrame:\n",
    "    \"\"\"First, extract the Aerial Win count with the method 'get_aerial_wins'.\n",
    "    Then, extract the number of lost aerial duels using the feature 'duel_type'\n",
    "    with value \"Aerial Lost\" (id = 10); I did not use the feature 'is_aerial_won' = False\n",
    "    because it is set to false also for all the events, even those which are not duels.\n",
    "    Eventually, compute the percentage.\n",
    "\n",
    "    Parameters\n",
    "    ----------\n",
    "    df : pd.DataFrame\n",
    "        Event data\n",
    "\n",
    "    Returns\n",
    "    -------\n",
    "    pd.DataFrame\n",
    "        DataFrame with player_id, aerial_win_percentage\n",
    "    \"\"\"\n",
    "    # Get the Aerial wins for each player with the get_aerial_wins method\n",
    "    aerial_wins_df = get_aerial_wins(df=df)\n",
    "    # Get only the aerial lost events\n",
    "    aerial_lost_df = (\n",
    "        df[\n",
    "            (df[\"duel_type\"] == \"Aerial Lost\")  # Duel of type \"Aerial Lost\"\n",
    "        ]\n",
    "        .groupby(by=\"player_id\")\n",
    "        .size()\n",
    "        .reset_index(name=\"aerial_lost_count\")\n",
    "    )\n",
    "    # Join the two dataframes with aerial wins and lost counts\n",
    "    aerial_w_l_df = pd.merge(\n",
    "        left=aerial_wins_df, right=aerial_lost_df, how=\"inner\", on=\"player_id\"\n",
    "    )\n",
    "    # Compute the percentage\n",
    "    aerial_w_l_df[\"aerial_total_count\"] = (\n",
    "        aerial_w_l_df[\"aerial_win_count\"] + aerial_w_l_df[\"aerial_lost_count\"]\n",
    "    )\n",
    "    aerial_w_l_df[\"aerial_win_percentage\"] = (\n",
    "        aerial_w_l_df[\"aerial_win_count\"] / aerial_w_l_df[\"aerial_total_count\"]\n",
    "    )\n",
    "\n",
    "    aerial_w_l_df = aerial_w_l_df.drop(\n",
    "        columns=[\"aerial_win_count\", \"aerial_lost_count\", \"aerial_total_count\"]\n",
    "    )\n",
    "\n",
    "    return aerial_w_l_df.sort_values(\n",
    "        by=\"aerial_win_percentage\", ascending=False, ignore_index=True\n",
    "    )"
   ]
  },
  {
   "cell_type": "code",
   "execution_count": 17,
   "id": "585ba2e3",
   "metadata": {},
   "outputs": [],
   "source": [
    "aerial_win_perc_players = get_aerial_wins_perc(df=df)"
   ]
  },
  {
   "cell_type": "code",
   "execution_count": 19,
   "id": "bab4a690",
   "metadata": {},
   "outputs": [
    {
     "data": {
      "application/vnd.microsoft.datawrangler.viewer.v0+json": {
       "columns": [
        {
         "name": "index",
         "rawType": "int64",
         "type": "integer"
        },
        {
         "name": "player_id",
         "rawType": "float64",
         "type": "float"
        },
        {
         "name": "aerial_win_percentage",
         "rawType": "float64",
         "type": "float"
        },
        {
         "name": "player",
         "rawType": "object",
         "type": "string"
        },
        {
         "name": "position_group_name",
         "rawType": "object",
         "type": "string"
        }
       ],
       "ref": "6a819583-5b06-4829-bcff-610a1a76323b",
       "rows": [
        [
         "0",
         "20067.0",
         "0.7777777777777778",
         "Darron Gibson",
         "Midfielder"
        ],
        [
         "1",
         "20951.0",
         "0.75",
         "Jordan Lyden",
         "Midfielder"
        ],
        [
         "2",
         "42703.0",
         "0.7142857142857143",
         "Mikel Arteta Amatriain",
         "Midfielder"
        ],
        [
         "3",
         "3636.0",
         "0.7",
         "Charlie Adam",
         "Midfielder"
        ],
        [
         "4",
         "4804.0",
         "0.7",
         "Bradley Johnson",
         "Midfielder"
        ]
       ],
       "shape": {
        "columns": 4,
        "rows": 5
       }
      },
      "text/html": [
       "<div>\n",
       "<style scoped>\n",
       "    .dataframe tbody tr th:only-of-type {\n",
       "        vertical-align: middle;\n",
       "    }\n",
       "\n",
       "    .dataframe tbody tr th {\n",
       "        vertical-align: top;\n",
       "    }\n",
       "\n",
       "    .dataframe thead th {\n",
       "        text-align: right;\n",
       "    }\n",
       "</style>\n",
       "<table border=\"1\" class=\"dataframe\">\n",
       "  <thead>\n",
       "    <tr style=\"text-align: right;\">\n",
       "      <th></th>\n",
       "      <th>player_id</th>\n",
       "      <th>aerial_win_percentage</th>\n",
       "      <th>player</th>\n",
       "      <th>position_group_name</th>\n",
       "    </tr>\n",
       "  </thead>\n",
       "  <tbody>\n",
       "    <tr>\n",
       "      <th>0</th>\n",
       "      <td>20067.0</td>\n",
       "      <td>0.777778</td>\n",
       "      <td>Darron Gibson</td>\n",
       "      <td>Midfielder</td>\n",
       "    </tr>\n",
       "    <tr>\n",
       "      <th>1</th>\n",
       "      <td>20951.0</td>\n",
       "      <td>0.750000</td>\n",
       "      <td>Jordan Lyden</td>\n",
       "      <td>Midfielder</td>\n",
       "    </tr>\n",
       "    <tr>\n",
       "      <th>2</th>\n",
       "      <td>42703.0</td>\n",
       "      <td>0.714286</td>\n",
       "      <td>Mikel Arteta Amatriain</td>\n",
       "      <td>Midfielder</td>\n",
       "    </tr>\n",
       "    <tr>\n",
       "      <th>3</th>\n",
       "      <td>3636.0</td>\n",
       "      <td>0.700000</td>\n",
       "      <td>Charlie Adam</td>\n",
       "      <td>Midfielder</td>\n",
       "    </tr>\n",
       "    <tr>\n",
       "      <th>4</th>\n",
       "      <td>4804.0</td>\n",
       "      <td>0.700000</td>\n",
       "      <td>Bradley Johnson</td>\n",
       "      <td>Midfielder</td>\n",
       "    </tr>\n",
       "  </tbody>\n",
       "</table>\n",
       "</div>"
      ],
      "text/plain": [
       "   player_id  aerial_win_percentage                  player  \\\n",
       "0    20067.0               0.777778           Darron Gibson   \n",
       "1    20951.0               0.750000            Jordan Lyden   \n",
       "2    42703.0               0.714286  Mikel Arteta Amatriain   \n",
       "3     3636.0               0.700000            Charlie Adam   \n",
       "4     4804.0               0.700000         Bradley Johnson   \n",
       "\n",
       "  position_group_name  \n",
       "0          Midfielder  \n",
       "1          Midfielder  \n",
       "2          Midfielder  \n",
       "3          Midfielder  \n",
       "4          Midfielder  "
      ]
     },
     "execution_count": 19,
     "metadata": {},
     "output_type": "execute_result"
    }
   ],
   "source": [
    "mid_aerial_win_perc = get_position_metric(\n",
    "    position='Midfielder',\n",
    "    player_positions=player_positions,\n",
    "    metric_df=aerial_win_perc_players\n",
    ")\n",
    "mid_aerial_win_perc.head()"
   ]
  },
  {
   "cell_type": "markdown",
   "id": "10654452",
   "metadata": {},
   "source": [
    "## Long Balls"
   ]
  },
  {
   "cell_type": "markdown",
   "id": "22b1f8fa",
   "metadata": {},
   "source": [
    "Make sure that the completed passes have the outcome feature equal to null."
   ]
  },
  {
   "cell_type": "code",
   "execution_count": 20,
   "id": "606dfc4d",
   "metadata": {},
   "outputs": [],
   "source": [
    "def get_long_balls(df: pd.DataFrame) -> pd.DataFrame:\n",
    "    \"\"\"Extract the completed passes with length more than 35 yards.\n",
    "    The completed passes are those with the outcome equal to null, as specified on\n",
    "    https://statsbomb.com/wp-content/uploads/2022/08/Working-with-R.pdf.\n",
    "\n",
    "    Parameters\n",
    "    ----------\n",
    "    df : pd.DataFrame\n",
    "        Event data\n",
    "\n",
    "    Returns\n",
    "    -------\n",
    "    pd.DataFrame\n",
    "        DataFrame with player_id, long_balls\n",
    "    \"\"\"\n",
    "    return (\n",
    "        df[\n",
    "            (df[\"type\"] == \"Pass\")  # Pass id\n",
    "            & (df[\"pass_length\"] >= 35)\n",
    "            & (df[\"pass_outcome\"].isna())\n",
    "        ]\n",
    "        .groupby(by=[\"player_id\",\"player\"])\n",
    "        .size()\n",
    "        .reset_index(name=\"long_balls\")\n",
    "        .sort_values(by=\"long_balls\", ascending=False, ignore_index=True)\n",
    "    )"
   ]
  },
  {
   "cell_type": "code",
   "execution_count": 21,
   "id": "bc12eede",
   "metadata": {},
   "outputs": [],
   "source": [
    "long_balls_players = get_long_balls(df=df)"
   ]
  },
  {
   "cell_type": "code",
   "execution_count": 22,
   "id": "b72161da",
   "metadata": {},
   "outputs": [
    {
     "data": {
      "application/vnd.microsoft.datawrangler.viewer.v0+json": {
       "columns": [
        {
         "name": "index",
         "rawType": "int64",
         "type": "integer"
        },
        {
         "name": "player_id",
         "rawType": "float64",
         "type": "float"
        },
        {
         "name": "long_balls",
         "rawType": "int64",
         "type": "integer"
        },
        {
         "name": "player",
         "rawType": "object",
         "type": "string"
        },
        {
         "name": "position_group_name",
         "rawType": "object",
         "type": "string"
        }
       ],
       "ref": "173ac671-c20e-45b2-bcb8-eb251fff8521",
       "rows": [
        [
         "0",
         "3478.0",
         "250",
         "Francesc Fàbregas i Soler",
         "Midfielder"
        ],
        [
         "1",
         "3344.0",
         "243",
         "Andrew Surman",
         "Midfielder"
        ],
        [
         "2",
         "3057.0",
         "203",
         "Jonjo Shelvey",
         "Midfielder"
        ],
        [
         "3",
         "3633.0",
         "181",
         "Gareth Barry",
         "Midfielder"
        ],
        [
         "4",
         "3583.0",
         "178",
         "Ashley Westwood",
         "Midfielder"
        ]
       ],
       "shape": {
        "columns": 4,
        "rows": 5
       }
      },
      "text/html": [
       "<div>\n",
       "<style scoped>\n",
       "    .dataframe tbody tr th:only-of-type {\n",
       "        vertical-align: middle;\n",
       "    }\n",
       "\n",
       "    .dataframe tbody tr th {\n",
       "        vertical-align: top;\n",
       "    }\n",
       "\n",
       "    .dataframe thead th {\n",
       "        text-align: right;\n",
       "    }\n",
       "</style>\n",
       "<table border=\"1\" class=\"dataframe\">\n",
       "  <thead>\n",
       "    <tr style=\"text-align: right;\">\n",
       "      <th></th>\n",
       "      <th>player_id</th>\n",
       "      <th>long_balls</th>\n",
       "      <th>player</th>\n",
       "      <th>position_group_name</th>\n",
       "    </tr>\n",
       "  </thead>\n",
       "  <tbody>\n",
       "    <tr>\n",
       "      <th>0</th>\n",
       "      <td>3478.0</td>\n",
       "      <td>250</td>\n",
       "      <td>Francesc Fàbregas i Soler</td>\n",
       "      <td>Midfielder</td>\n",
       "    </tr>\n",
       "    <tr>\n",
       "      <th>1</th>\n",
       "      <td>3344.0</td>\n",
       "      <td>243</td>\n",
       "      <td>Andrew Surman</td>\n",
       "      <td>Midfielder</td>\n",
       "    </tr>\n",
       "    <tr>\n",
       "      <th>2</th>\n",
       "      <td>3057.0</td>\n",
       "      <td>203</td>\n",
       "      <td>Jonjo Shelvey</td>\n",
       "      <td>Midfielder</td>\n",
       "    </tr>\n",
       "    <tr>\n",
       "      <th>3</th>\n",
       "      <td>3633.0</td>\n",
       "      <td>181</td>\n",
       "      <td>Gareth Barry</td>\n",
       "      <td>Midfielder</td>\n",
       "    </tr>\n",
       "    <tr>\n",
       "      <th>4</th>\n",
       "      <td>3583.0</td>\n",
       "      <td>178</td>\n",
       "      <td>Ashley Westwood</td>\n",
       "      <td>Midfielder</td>\n",
       "    </tr>\n",
       "  </tbody>\n",
       "</table>\n",
       "</div>"
      ],
      "text/plain": [
       "   player_id  long_balls                     player position_group_name\n",
       "0     3478.0         250  Francesc Fàbregas i Soler          Midfielder\n",
       "1     3344.0         243              Andrew Surman          Midfielder\n",
       "2     3057.0         203              Jonjo Shelvey          Midfielder\n",
       "3     3633.0         181               Gareth Barry          Midfielder\n",
       "4     3583.0         178            Ashley Westwood          Midfielder"
      ]
     },
     "execution_count": 22,
     "metadata": {},
     "output_type": "execute_result"
    }
   ],
   "source": [
    "mid_long_balls_players = get_position_metric(\n",
    "    position='Midfielder',\n",
    "    player_positions=player_positions,\n",
    "    metric_df=long_balls_players\n",
    ")\n",
    "mid_long_balls_players.head()"
   ]
  },
  {
   "cell_type": "markdown",
   "id": "3cf65ff1",
   "metadata": {},
   "source": [
    "## Final Pass"
   ]
  },
  {
   "cell_type": "markdown",
   "id": "e4683c98",
   "metadata": {},
   "source": [
    "*Final Pass* is defined as the ability to create goal-scoring opportunities for teammates by passing the ball."
   ]
  },
  {
   "cell_type": "markdown",
   "id": "2bb4573a",
   "metadata": {},
   "source": [
    "I used the following metrics to assess the players' Final Pass capabilities:\n",
    "- Assists.\n",
    "- xG Assisted.\n",
    "- Key passes.\n",
    "- Key passes under pressure.\n",
    "- Progressive passes.\n",
    "\n"
   ]
  },
  {
   "cell_type": "markdown",
   "id": "5a44aec1",
   "metadata": {},
   "source": [
    "### Assist"
   ]
  },
  {
   "cell_type": "code",
   "execution_count": 23,
   "id": "00745413",
   "metadata": {},
   "outputs": [],
   "source": [
    "def get_assist(df: pd.DataFrame) -> pd.DataFrame:\n",
    "    \"\"\"Get the number of goals assisted.\n",
    "\n",
    "    Parameters\n",
    "    ----------\n",
    "    df : pd.DataFrame\n",
    "        Event data\n",
    "\n",
    "    Returns\n",
    "    -------\n",
    "    pd.DataFrame\n",
    "        DataFrame with player_id, assists\n",
    "    \"\"\"\n",
    "    return (\n",
    "        df[df[\"pass_goal_assist\"]==True]\n",
    "        .groupby(by=[\"player_id\", \"player\"])\n",
    "        .size()\n",
    "        .reset_index(name=\"assists\")\n",
    "        .sort_values(by=\"assists\", ascending=False, ignore_index=False)\n",
    "    )"
   ]
  },
  {
   "cell_type": "code",
   "execution_count": 24,
   "id": "6a566745",
   "metadata": {},
   "outputs": [],
   "source": [
    "assist_players = get_assist(df=df)"
   ]
  },
  {
   "cell_type": "code",
   "execution_count": 25,
   "id": "5ff52a83",
   "metadata": {},
   "outputs": [
    {
     "data": {
      "application/vnd.microsoft.datawrangler.viewer.v0+json": {
       "columns": [
        {
         "name": "index",
         "rawType": "int64",
         "type": "integer"
        },
        {
         "name": "player_id",
         "rawType": "float64",
         "type": "float"
        },
        {
         "name": "assists",
         "rawType": "int64",
         "type": "integer"
        },
        {
         "name": "player",
         "rawType": "object",
         "type": "string"
        },
        {
         "name": "position_group_name",
         "rawType": "object",
         "type": "string"
        }
       ],
       "ref": "7b7888d6-80a0-423f-acb7-74807ccbf346",
       "rows": [
        [
         "0",
         "3496.0",
         "19",
         "Mesut Özil",
         "Midfielder"
        ],
        [
         "1",
         "3473.0",
         "11",
         "James Philip Milner",
         "Midfielder"
        ],
        [
         "2",
         "3064.0",
         "10",
         "David Josué Jiménez Silva",
         "Midfielder"
        ],
        [
         "3",
         "3814.0",
         "10",
         "Riyad Mahrez",
         "Midfielder"
        ],
        [
         "4",
         "3089.0",
         "9",
         "Kevin De Bruyne",
         "Midfielder"
        ],
        [
         "5",
         "4275.0",
         "8",
         "Ross Barkley",
         "Midfielder"
        ],
        [
         "6",
         "3094.0",
         "8",
         "Bamidele Alli",
         "Midfielder"
        ],
        [
         "7",
         "3478.0",
         "7",
         "Francesc Fàbregas i Soler",
         "Midfielder"
        ],
        [
         "8",
         "3307.0",
         "7",
         "Marc Albrighton",
         "Midfielder"
        ],
        [
         "9",
         "3535.0",
         "7",
         "Roberto Firmino Barbosa de Oliveira",
         "Midfielder"
        ]
       ],
       "shape": {
        "columns": 4,
        "rows": 10
       }
      },
      "text/html": [
       "<div>\n",
       "<style scoped>\n",
       "    .dataframe tbody tr th:only-of-type {\n",
       "        vertical-align: middle;\n",
       "    }\n",
       "\n",
       "    .dataframe tbody tr th {\n",
       "        vertical-align: top;\n",
       "    }\n",
       "\n",
       "    .dataframe thead th {\n",
       "        text-align: right;\n",
       "    }\n",
       "</style>\n",
       "<table border=\"1\" class=\"dataframe\">\n",
       "  <thead>\n",
       "    <tr style=\"text-align: right;\">\n",
       "      <th></th>\n",
       "      <th>player_id</th>\n",
       "      <th>assists</th>\n",
       "      <th>player</th>\n",
       "      <th>position_group_name</th>\n",
       "    </tr>\n",
       "  </thead>\n",
       "  <tbody>\n",
       "    <tr>\n",
       "      <th>0</th>\n",
       "      <td>3496.0</td>\n",
       "      <td>19</td>\n",
       "      <td>Mesut Özil</td>\n",
       "      <td>Midfielder</td>\n",
       "    </tr>\n",
       "    <tr>\n",
       "      <th>1</th>\n",
       "      <td>3473.0</td>\n",
       "      <td>11</td>\n",
       "      <td>James Philip Milner</td>\n",
       "      <td>Midfielder</td>\n",
       "    </tr>\n",
       "    <tr>\n",
       "      <th>2</th>\n",
       "      <td>3064.0</td>\n",
       "      <td>10</td>\n",
       "      <td>David Josué Jiménez Silva</td>\n",
       "      <td>Midfielder</td>\n",
       "    </tr>\n",
       "    <tr>\n",
       "      <th>3</th>\n",
       "      <td>3814.0</td>\n",
       "      <td>10</td>\n",
       "      <td>Riyad Mahrez</td>\n",
       "      <td>Midfielder</td>\n",
       "    </tr>\n",
       "    <tr>\n",
       "      <th>4</th>\n",
       "      <td>3089.0</td>\n",
       "      <td>9</td>\n",
       "      <td>Kevin De Bruyne</td>\n",
       "      <td>Midfielder</td>\n",
       "    </tr>\n",
       "    <tr>\n",
       "      <th>5</th>\n",
       "      <td>4275.0</td>\n",
       "      <td>8</td>\n",
       "      <td>Ross Barkley</td>\n",
       "      <td>Midfielder</td>\n",
       "    </tr>\n",
       "    <tr>\n",
       "      <th>6</th>\n",
       "      <td>3094.0</td>\n",
       "      <td>8</td>\n",
       "      <td>Bamidele Alli</td>\n",
       "      <td>Midfielder</td>\n",
       "    </tr>\n",
       "    <tr>\n",
       "      <th>7</th>\n",
       "      <td>3478.0</td>\n",
       "      <td>7</td>\n",
       "      <td>Francesc Fàbregas i Soler</td>\n",
       "      <td>Midfielder</td>\n",
       "    </tr>\n",
       "    <tr>\n",
       "      <th>8</th>\n",
       "      <td>3307.0</td>\n",
       "      <td>7</td>\n",
       "      <td>Marc Albrighton</td>\n",
       "      <td>Midfielder</td>\n",
       "    </tr>\n",
       "    <tr>\n",
       "      <th>9</th>\n",
       "      <td>3535.0</td>\n",
       "      <td>7</td>\n",
       "      <td>Roberto Firmino Barbosa de Oliveira</td>\n",
       "      <td>Midfielder</td>\n",
       "    </tr>\n",
       "  </tbody>\n",
       "</table>\n",
       "</div>"
      ],
      "text/plain": [
       "   player_id  assists                               player position_group_name\n",
       "0     3496.0       19                           Mesut Özil          Midfielder\n",
       "1     3473.0       11                  James Philip Milner          Midfielder\n",
       "2     3064.0       10            David Josué Jiménez Silva          Midfielder\n",
       "3     3814.0       10                         Riyad Mahrez          Midfielder\n",
       "4     3089.0        9                      Kevin De Bruyne          Midfielder\n",
       "5     4275.0        8                         Ross Barkley          Midfielder\n",
       "6     3094.0        8                        Bamidele Alli          Midfielder\n",
       "7     3478.0        7            Francesc Fàbregas i Soler          Midfielder\n",
       "8     3307.0        7                      Marc Albrighton          Midfielder\n",
       "9     3535.0        7  Roberto Firmino Barbosa de Oliveira          Midfielder"
      ]
     },
     "execution_count": 25,
     "metadata": {},
     "output_type": "execute_result"
    }
   ],
   "source": [
    "mid_assist_players = get_position_metric(\n",
    "    position='Midfielder',\n",
    "    player_positions=player_positions,\n",
    "    metric_df=assist_players\n",
    ")\n",
    "mid_assist_players.head(10)"
   ]
  },
  {
   "cell_type": "markdown",
   "id": "3fe60b81",
   "metadata": {},
   "source": [
    "### xG assisted"
   ]
  },
  {
   "cell_type": "code",
   "execution_count": 26,
   "id": "a06fa920",
   "metadata": {},
   "outputs": [],
   "source": [
    "def get_xga(df: pd.DataFrame) -> pd.DataFrame:\n",
    "    \"\"\"Compute the xG of the shots assisted by each player.\n",
    "    Use the 'pass_assisted_shot_id' feature to have the corresponding shot for each assist.\n",
    "\n",
    "    Parameters\n",
    "    ----------\n",
    "    df : pd.DataFrame\n",
    "        Event data\n",
    "\n",
    "    Returns\n",
    "    -------\n",
    "    pd.DataFrame\n",
    "        DataFrame with player_id, xg_assist\n",
    "    \"\"\"\n",
    "    support_df = pd.merge(\n",
    "        left=df,\n",
    "        right=df,\n",
    "        left_on=\"pass_assisted_shot_id\",\n",
    "        right_on=\"id\",\n",
    "        how=\"inner\",\n",
    "        suffixes=[\"_assist\", \"_shot\"],\n",
    "    )\n",
    "\n",
    "    return (\n",
    "        support_df.groupby(by=[\"player_id_assist\", \"player_assist\"])\n",
    "        .agg({\"shot_statsbomb_xg_shot\": \"sum\"})\n",
    "        .reset_index()\n",
    "        .rename(\n",
    "            columns={\n",
    "                \"player_id_assist\": \"player_id\",\n",
    "                \"player_assist\": \"player\",\n",
    "                \"shot_statsbomb_xg_shot\": \"xg_assist\",\n",
    "            }\n",
    "        )\n",
    "        .sort_values(by=\"xg_assist\", ascending=False, ignore_index=True)\n",
    "    )"
   ]
  },
  {
   "cell_type": "code",
   "execution_count": 27,
   "id": "f5c7074f",
   "metadata": {},
   "outputs": [],
   "source": [
    "xga_players = get_xga(df=df)"
   ]
  },
  {
   "cell_type": "code",
   "execution_count": 28,
   "id": "45ba3d3d",
   "metadata": {},
   "outputs": [
    {
     "data": {
      "application/vnd.microsoft.datawrangler.viewer.v0+json": {
       "columns": [
        {
         "name": "index",
         "rawType": "int64",
         "type": "integer"
        },
        {
         "name": "player_id",
         "rawType": "float64",
         "type": "float"
        },
        {
         "name": "xg_assist",
         "rawType": "float64",
         "type": "float"
        },
        {
         "name": "player",
         "rawType": "object",
         "type": "string"
        },
        {
         "name": "position_group_name",
         "rawType": "object",
         "type": "string"
        }
       ],
       "ref": "b88f06ce-cdcb-4cb2-b0b0-9bd1d3f34604",
       "rows": [
        [
         "0",
         "3496.0",
         "13.8245627795",
         "Mesut Özil",
         "Midfielder"
        ],
        [
         "1",
         "3814.0",
         "9.525557537",
         "Riyad Mahrez",
         "Midfielder"
        ],
        [
         "2",
         "3089.0",
         "9.401009442",
         "Kevin De Bruyne",
         "Midfielder"
        ],
        [
         "3",
         "3478.0",
         "8.067357749",
         "Francesc Fàbregas i Soler",
         "Midfielder"
        ],
        [
         "4",
         "3307.0",
         "7.513881211",
         "Marc Albrighton",
         "Midfielder"
        ],
        [
         "5",
         "3535.0",
         "6.706735995",
         "Roberto Firmino Barbosa de Oliveira",
         "Midfielder"
        ],
        [
         "6",
         "4275.0",
         "6.5211166931",
         "Ross Barkley",
         "Midfielder"
        ],
        [
         "7",
         "3094.0",
         "5.9928541515",
         "Bamidele Alli",
         "Midfielder"
        ],
        [
         "8",
         "4090.0",
         "5.795494965",
         "Adam David Lallana",
         "Midfielder"
        ],
        [
         "9",
         "3091.0",
         "5.639088292",
         "Moussa Sissoko",
         "Midfielder"
        ]
       ],
       "shape": {
        "columns": 4,
        "rows": 10
       }
      },
      "text/html": [
       "<div>\n",
       "<style scoped>\n",
       "    .dataframe tbody tr th:only-of-type {\n",
       "        vertical-align: middle;\n",
       "    }\n",
       "\n",
       "    .dataframe tbody tr th {\n",
       "        vertical-align: top;\n",
       "    }\n",
       "\n",
       "    .dataframe thead th {\n",
       "        text-align: right;\n",
       "    }\n",
       "</style>\n",
       "<table border=\"1\" class=\"dataframe\">\n",
       "  <thead>\n",
       "    <tr style=\"text-align: right;\">\n",
       "      <th></th>\n",
       "      <th>player_id</th>\n",
       "      <th>xg_assist</th>\n",
       "      <th>player</th>\n",
       "      <th>position_group_name</th>\n",
       "    </tr>\n",
       "  </thead>\n",
       "  <tbody>\n",
       "    <tr>\n",
       "      <th>0</th>\n",
       "      <td>3496.0</td>\n",
       "      <td>13.824563</td>\n",
       "      <td>Mesut Özil</td>\n",
       "      <td>Midfielder</td>\n",
       "    </tr>\n",
       "    <tr>\n",
       "      <th>1</th>\n",
       "      <td>3814.0</td>\n",
       "      <td>9.525558</td>\n",
       "      <td>Riyad Mahrez</td>\n",
       "      <td>Midfielder</td>\n",
       "    </tr>\n",
       "    <tr>\n",
       "      <th>2</th>\n",
       "      <td>3089.0</td>\n",
       "      <td>9.401009</td>\n",
       "      <td>Kevin De Bruyne</td>\n",
       "      <td>Midfielder</td>\n",
       "    </tr>\n",
       "    <tr>\n",
       "      <th>3</th>\n",
       "      <td>3478.0</td>\n",
       "      <td>8.067358</td>\n",
       "      <td>Francesc Fàbregas i Soler</td>\n",
       "      <td>Midfielder</td>\n",
       "    </tr>\n",
       "    <tr>\n",
       "      <th>4</th>\n",
       "      <td>3307.0</td>\n",
       "      <td>7.513881</td>\n",
       "      <td>Marc Albrighton</td>\n",
       "      <td>Midfielder</td>\n",
       "    </tr>\n",
       "    <tr>\n",
       "      <th>5</th>\n",
       "      <td>3535.0</td>\n",
       "      <td>6.706736</td>\n",
       "      <td>Roberto Firmino Barbosa de Oliveira</td>\n",
       "      <td>Midfielder</td>\n",
       "    </tr>\n",
       "    <tr>\n",
       "      <th>6</th>\n",
       "      <td>4275.0</td>\n",
       "      <td>6.521117</td>\n",
       "      <td>Ross Barkley</td>\n",
       "      <td>Midfielder</td>\n",
       "    </tr>\n",
       "    <tr>\n",
       "      <th>7</th>\n",
       "      <td>3094.0</td>\n",
       "      <td>5.992854</td>\n",
       "      <td>Bamidele Alli</td>\n",
       "      <td>Midfielder</td>\n",
       "    </tr>\n",
       "    <tr>\n",
       "      <th>8</th>\n",
       "      <td>4090.0</td>\n",
       "      <td>5.795495</td>\n",
       "      <td>Adam David Lallana</td>\n",
       "      <td>Midfielder</td>\n",
       "    </tr>\n",
       "    <tr>\n",
       "      <th>9</th>\n",
       "      <td>3091.0</td>\n",
       "      <td>5.639088</td>\n",
       "      <td>Moussa Sissoko</td>\n",
       "      <td>Midfielder</td>\n",
       "    </tr>\n",
       "  </tbody>\n",
       "</table>\n",
       "</div>"
      ],
      "text/plain": [
       "   player_id  xg_assist                               player  \\\n",
       "0     3496.0  13.824563                           Mesut Özil   \n",
       "1     3814.0   9.525558                         Riyad Mahrez   \n",
       "2     3089.0   9.401009                      Kevin De Bruyne   \n",
       "3     3478.0   8.067358            Francesc Fàbregas i Soler   \n",
       "4     3307.0   7.513881                      Marc Albrighton   \n",
       "5     3535.0   6.706736  Roberto Firmino Barbosa de Oliveira   \n",
       "6     4275.0   6.521117                         Ross Barkley   \n",
       "7     3094.0   5.992854                        Bamidele Alli   \n",
       "8     4090.0   5.795495                   Adam David Lallana   \n",
       "9     3091.0   5.639088                       Moussa Sissoko   \n",
       "\n",
       "  position_group_name  \n",
       "0          Midfielder  \n",
       "1          Midfielder  \n",
       "2          Midfielder  \n",
       "3          Midfielder  \n",
       "4          Midfielder  \n",
       "5          Midfielder  \n",
       "6          Midfielder  \n",
       "7          Midfielder  \n",
       "8          Midfielder  \n",
       "9          Midfielder  "
      ]
     },
     "execution_count": 28,
     "metadata": {},
     "output_type": "execute_result"
    }
   ],
   "source": [
    "mid_xga_players = get_position_metric(\n",
    "    position='Midfielder',\n",
    "    player_positions=player_positions,\n",
    "    metric_df=xga_players\n",
    ")\n",
    "mid_xga_players.head(10)"
   ]
  },
  {
   "cell_type": "markdown",
   "id": "1324b3bc",
   "metadata": {},
   "source": [
    "### Key Passes"
   ]
  },
  {
   "cell_type": "code",
   "execution_count": 29,
   "id": "2992ed94",
   "metadata": {},
   "outputs": [],
   "source": [
    "def get_key_passes(df: pd.DataFrame) -> pd.DataFrame:\n",
    "    \"\"\"Extract the passes that lead to a shot or a goal, called key passes.\n",
    "\n",
    "    Parameters\n",
    "    ----------\n",
    "    df : pd.DataFrame\n",
    "        Event data dataframe\n",
    "\n",
    "    Returns\n",
    "    -------\n",
    "    pd.DataFrame\n",
    "        Dataframe with player_id and the number of key passes\n",
    "    \"\"\"\n",
    "    return (\n",
    "        df[\n",
    "            (df[\"pass_goal_assist\"]) | (df[\"pass_shot_assist\"])\n",
    "        ]\n",
    "        .groupby(by=[\"player_id\", \"player\"])\n",
    "        .size()\n",
    "        .reset_index(name=\"key_passes\")\n",
    "        .sort_values(by=\"key_passes\", ascending=False, ignore_index=True)\n",
    "    )"
   ]
  },
  {
   "cell_type": "code",
   "execution_count": 30,
   "id": "2d145e4c",
   "metadata": {},
   "outputs": [],
   "source": [
    "key_passes_players = get_key_passes(df=df)"
   ]
  },
  {
   "cell_type": "code",
   "execution_count": 31,
   "id": "413647ee",
   "metadata": {},
   "outputs": [
    {
     "data": {
      "application/vnd.microsoft.datawrangler.viewer.v0+json": {
       "columns": [
        {
         "name": "index",
         "rawType": "int64",
         "type": "integer"
        },
        {
         "name": "player_id",
         "rawType": "float64",
         "type": "float"
        },
        {
         "name": "key_passes",
         "rawType": "int64",
         "type": "integer"
        },
        {
         "name": "player",
         "rawType": "object",
         "type": "string"
        },
        {
         "name": "position_group_name",
         "rawType": "object",
         "type": "string"
        }
       ],
       "ref": "54476593-becb-4f2a-ba3f-9ba1c36677aa",
       "rows": [
        [
         "0",
         "3496.0",
         "19",
         "Mesut Özil",
         "Midfielder"
        ],
        [
         "1",
         "3473.0",
         "11",
         "James Philip Milner",
         "Midfielder"
        ],
        [
         "2",
         "3064.0",
         "10",
         "David Josué Jiménez Silva",
         "Midfielder"
        ],
        [
         "3",
         "3814.0",
         "10",
         "Riyad Mahrez",
         "Midfielder"
        ],
        [
         "4",
         "3089.0",
         "9",
         "Kevin De Bruyne",
         "Midfielder"
        ],
        [
         "5",
         "4275.0",
         "8",
         "Ross Barkley",
         "Midfielder"
        ],
        [
         "6",
         "3094.0",
         "8",
         "Bamidele Alli",
         "Midfielder"
        ],
        [
         "7",
         "3478.0",
         "7",
         "Francesc Fàbregas i Soler",
         "Midfielder"
        ],
        [
         "8",
         "3307.0",
         "7",
         "Marc Albrighton",
         "Midfielder"
        ],
        [
         "9",
         "3535.0",
         "7",
         "Roberto Firmino Barbosa de Oliveira",
         "Midfielder"
        ]
       ],
       "shape": {
        "columns": 4,
        "rows": 10
       }
      },
      "text/html": [
       "<div>\n",
       "<style scoped>\n",
       "    .dataframe tbody tr th:only-of-type {\n",
       "        vertical-align: middle;\n",
       "    }\n",
       "\n",
       "    .dataframe tbody tr th {\n",
       "        vertical-align: top;\n",
       "    }\n",
       "\n",
       "    .dataframe thead th {\n",
       "        text-align: right;\n",
       "    }\n",
       "</style>\n",
       "<table border=\"1\" class=\"dataframe\">\n",
       "  <thead>\n",
       "    <tr style=\"text-align: right;\">\n",
       "      <th></th>\n",
       "      <th>player_id</th>\n",
       "      <th>key_passes</th>\n",
       "      <th>player</th>\n",
       "      <th>position_group_name</th>\n",
       "    </tr>\n",
       "  </thead>\n",
       "  <tbody>\n",
       "    <tr>\n",
       "      <th>0</th>\n",
       "      <td>3496.0</td>\n",
       "      <td>19</td>\n",
       "      <td>Mesut Özil</td>\n",
       "      <td>Midfielder</td>\n",
       "    </tr>\n",
       "    <tr>\n",
       "      <th>1</th>\n",
       "      <td>3473.0</td>\n",
       "      <td>11</td>\n",
       "      <td>James Philip Milner</td>\n",
       "      <td>Midfielder</td>\n",
       "    </tr>\n",
       "    <tr>\n",
       "      <th>2</th>\n",
       "      <td>3064.0</td>\n",
       "      <td>10</td>\n",
       "      <td>David Josué Jiménez Silva</td>\n",
       "      <td>Midfielder</td>\n",
       "    </tr>\n",
       "    <tr>\n",
       "      <th>3</th>\n",
       "      <td>3814.0</td>\n",
       "      <td>10</td>\n",
       "      <td>Riyad Mahrez</td>\n",
       "      <td>Midfielder</td>\n",
       "    </tr>\n",
       "    <tr>\n",
       "      <th>4</th>\n",
       "      <td>3089.0</td>\n",
       "      <td>9</td>\n",
       "      <td>Kevin De Bruyne</td>\n",
       "      <td>Midfielder</td>\n",
       "    </tr>\n",
       "    <tr>\n",
       "      <th>5</th>\n",
       "      <td>4275.0</td>\n",
       "      <td>8</td>\n",
       "      <td>Ross Barkley</td>\n",
       "      <td>Midfielder</td>\n",
       "    </tr>\n",
       "    <tr>\n",
       "      <th>6</th>\n",
       "      <td>3094.0</td>\n",
       "      <td>8</td>\n",
       "      <td>Bamidele Alli</td>\n",
       "      <td>Midfielder</td>\n",
       "    </tr>\n",
       "    <tr>\n",
       "      <th>7</th>\n",
       "      <td>3478.0</td>\n",
       "      <td>7</td>\n",
       "      <td>Francesc Fàbregas i Soler</td>\n",
       "      <td>Midfielder</td>\n",
       "    </tr>\n",
       "    <tr>\n",
       "      <th>8</th>\n",
       "      <td>3307.0</td>\n",
       "      <td>7</td>\n",
       "      <td>Marc Albrighton</td>\n",
       "      <td>Midfielder</td>\n",
       "    </tr>\n",
       "    <tr>\n",
       "      <th>9</th>\n",
       "      <td>3535.0</td>\n",
       "      <td>7</td>\n",
       "      <td>Roberto Firmino Barbosa de Oliveira</td>\n",
       "      <td>Midfielder</td>\n",
       "    </tr>\n",
       "  </tbody>\n",
       "</table>\n",
       "</div>"
      ],
      "text/plain": [
       "   player_id  key_passes                               player  \\\n",
       "0     3496.0          19                           Mesut Özil   \n",
       "1     3473.0          11                  James Philip Milner   \n",
       "2     3064.0          10            David Josué Jiménez Silva   \n",
       "3     3814.0          10                         Riyad Mahrez   \n",
       "4     3089.0           9                      Kevin De Bruyne   \n",
       "5     4275.0           8                         Ross Barkley   \n",
       "6     3094.0           8                        Bamidele Alli   \n",
       "7     3478.0           7            Francesc Fàbregas i Soler   \n",
       "8     3307.0           7                      Marc Albrighton   \n",
       "9     3535.0           7  Roberto Firmino Barbosa de Oliveira   \n",
       "\n",
       "  position_group_name  \n",
       "0          Midfielder  \n",
       "1          Midfielder  \n",
       "2          Midfielder  \n",
       "3          Midfielder  \n",
       "4          Midfielder  \n",
       "5          Midfielder  \n",
       "6          Midfielder  \n",
       "7          Midfielder  \n",
       "8          Midfielder  \n",
       "9          Midfielder  "
      ]
     },
     "execution_count": 31,
     "metadata": {},
     "output_type": "execute_result"
    }
   ],
   "source": [
    "mid_key_passes_players = get_position_metric(\n",
    "    position='Midfielder',\n",
    "    player_positions=player_positions,\n",
    "    metric_df=key_passes_players\n",
    ")\n",
    "mid_key_passes_players.head(10)"
   ]
  },
  {
   "cell_type": "markdown",
   "id": "b078f353",
   "metadata": {},
   "source": [
    "### Under pressure key passes"
   ]
  },
  {
   "cell_type": "code",
   "execution_count": 33,
   "id": "efb98663",
   "metadata": {},
   "outputs": [],
   "source": [
    "def get_under_pressure_key_passes(df: pd.DataFrame) -> pd.DataFrame:\n",
    "    \"\"\"Extract the passes that lead to a shot or a goal, called key passes,\n",
    "    considering only those played under pressure.\n",
    "\n",
    "    Parameters\n",
    "    ----------\n",
    "    df : pd.DataFrame\n",
    "        Event data dataframe\n",
    "\n",
    "    Returns\n",
    "    -------\n",
    "    pd.DataFrame\n",
    "        Dataframe with player_id and the number of key passes under pressure\n",
    "        \n",
    "    \"\"\"\n",
    "    return (\n",
    "        df[\n",
    "            ((df[\"pass_goal_assist\"]) | (df[\"pass_shot_assist\"]))\n",
    "            & (df[\"under_pressure\"] == True)\n",
    "        ]\n",
    "        .groupby(by=[\"player_id\", \"player\"])\n",
    "        .size()\n",
    "        .reset_index(name=\"under_pressure_key_passes\")\n",
    "        .sort_values(by=\"under_pressure_key_passes\", ascending=False, ignore_index=True)\n",
    "    )"
   ]
  },
  {
   "cell_type": "code",
   "execution_count": 34,
   "id": "7afb55fb",
   "metadata": {},
   "outputs": [],
   "source": [
    "under_pressure_key_passes_players = get_under_pressure_key_passes(df=df)"
   ]
  },
  {
   "cell_type": "code",
   "execution_count": 35,
   "id": "815d5ea2",
   "metadata": {},
   "outputs": [
    {
     "data": {
      "application/vnd.microsoft.datawrangler.viewer.v0+json": {
       "columns": [
        {
         "name": "index",
         "rawType": "int64",
         "type": "integer"
        },
        {
         "name": "player_id",
         "rawType": "float64",
         "type": "float"
        },
        {
         "name": "under_pressure_key_passes",
         "rawType": "int64",
         "type": "integer"
        },
        {
         "name": "player",
         "rawType": "object",
         "type": "string"
        },
        {
         "name": "position_group_name",
         "rawType": "object",
         "type": "string"
        }
       ],
       "ref": "300db5b8-9cb6-4257-b622-ced18af49bd9",
       "rows": [
        [
         "0",
         "3094.0",
         "4",
         "Bamidele Alli",
         "Midfielder"
        ],
        [
         "1",
         "4090.0",
         "3",
         "Adam David Lallana",
         "Midfielder"
        ],
        [
         "2",
         "4275.0",
         "2",
         "Ross Barkley",
         "Midfielder"
        ],
        [
         "3",
         "3567.0",
         "2",
         "Georginio Wijnaldum",
         "Midfielder"
        ],
        [
         "4",
         "3473.0",
         "2",
         "James Philip Milner",
         "Midfielder"
        ],
        [
         "5",
         "40122.0",
         "2",
         "Oscar dos Santos Emboaba Júnior",
         "Midfielder"
        ],
        [
         "6",
         "10966.0",
         "1",
         "Wes Hoolahan",
         "Midfielder"
        ],
        [
         "7",
         "4416.0",
         "1",
         "Max-Alain Gradel",
         "Midfielder"
        ],
        [
         "8",
         "4429.0",
         "1",
         "Yann Gérard M''Vila",
         "Midfielder"
        ],
        [
         "9",
         "16457.0",
         "1",
         "Jeremain Lens",
         "Midfielder"
        ]
       ],
       "shape": {
        "columns": 4,
        "rows": 10
       }
      },
      "text/html": [
       "<div>\n",
       "<style scoped>\n",
       "    .dataframe tbody tr th:only-of-type {\n",
       "        vertical-align: middle;\n",
       "    }\n",
       "\n",
       "    .dataframe tbody tr th {\n",
       "        vertical-align: top;\n",
       "    }\n",
       "\n",
       "    .dataframe thead th {\n",
       "        text-align: right;\n",
       "    }\n",
       "</style>\n",
       "<table border=\"1\" class=\"dataframe\">\n",
       "  <thead>\n",
       "    <tr style=\"text-align: right;\">\n",
       "      <th></th>\n",
       "      <th>player_id</th>\n",
       "      <th>under_pressure_key_passes</th>\n",
       "      <th>player</th>\n",
       "      <th>position_group_name</th>\n",
       "    </tr>\n",
       "  </thead>\n",
       "  <tbody>\n",
       "    <tr>\n",
       "      <th>0</th>\n",
       "      <td>3094.0</td>\n",
       "      <td>4</td>\n",
       "      <td>Bamidele Alli</td>\n",
       "      <td>Midfielder</td>\n",
       "    </tr>\n",
       "    <tr>\n",
       "      <th>1</th>\n",
       "      <td>4090.0</td>\n",
       "      <td>3</td>\n",
       "      <td>Adam David Lallana</td>\n",
       "      <td>Midfielder</td>\n",
       "    </tr>\n",
       "    <tr>\n",
       "      <th>2</th>\n",
       "      <td>4275.0</td>\n",
       "      <td>2</td>\n",
       "      <td>Ross Barkley</td>\n",
       "      <td>Midfielder</td>\n",
       "    </tr>\n",
       "    <tr>\n",
       "      <th>3</th>\n",
       "      <td>3567.0</td>\n",
       "      <td>2</td>\n",
       "      <td>Georginio Wijnaldum</td>\n",
       "      <td>Midfielder</td>\n",
       "    </tr>\n",
       "    <tr>\n",
       "      <th>4</th>\n",
       "      <td>3473.0</td>\n",
       "      <td>2</td>\n",
       "      <td>James Philip Milner</td>\n",
       "      <td>Midfielder</td>\n",
       "    </tr>\n",
       "    <tr>\n",
       "      <th>5</th>\n",
       "      <td>40122.0</td>\n",
       "      <td>2</td>\n",
       "      <td>Oscar dos Santos Emboaba Júnior</td>\n",
       "      <td>Midfielder</td>\n",
       "    </tr>\n",
       "    <tr>\n",
       "      <th>6</th>\n",
       "      <td>10966.0</td>\n",
       "      <td>1</td>\n",
       "      <td>Wes Hoolahan</td>\n",
       "      <td>Midfielder</td>\n",
       "    </tr>\n",
       "    <tr>\n",
       "      <th>7</th>\n",
       "      <td>4416.0</td>\n",
       "      <td>1</td>\n",
       "      <td>Max-Alain Gradel</td>\n",
       "      <td>Midfielder</td>\n",
       "    </tr>\n",
       "    <tr>\n",
       "      <th>8</th>\n",
       "      <td>4429.0</td>\n",
       "      <td>1</td>\n",
       "      <td>Yann Gérard M''Vila</td>\n",
       "      <td>Midfielder</td>\n",
       "    </tr>\n",
       "    <tr>\n",
       "      <th>9</th>\n",
       "      <td>16457.0</td>\n",
       "      <td>1</td>\n",
       "      <td>Jeremain Lens</td>\n",
       "      <td>Midfielder</td>\n",
       "    </tr>\n",
       "  </tbody>\n",
       "</table>\n",
       "</div>"
      ],
      "text/plain": [
       "   player_id  under_pressure_key_passes                           player  \\\n",
       "0     3094.0                          4                    Bamidele Alli   \n",
       "1     4090.0                          3               Adam David Lallana   \n",
       "2     4275.0                          2                     Ross Barkley   \n",
       "3     3567.0                          2              Georginio Wijnaldum   \n",
       "4     3473.0                          2              James Philip Milner   \n",
       "5    40122.0                          2  Oscar dos Santos Emboaba Júnior   \n",
       "6    10966.0                          1                     Wes Hoolahan   \n",
       "7     4416.0                          1                 Max-Alain Gradel   \n",
       "8     4429.0                          1              Yann Gérard M''Vila   \n",
       "9    16457.0                          1                    Jeremain Lens   \n",
       "\n",
       "  position_group_name  \n",
       "0          Midfielder  \n",
       "1          Midfielder  \n",
       "2          Midfielder  \n",
       "3          Midfielder  \n",
       "4          Midfielder  \n",
       "5          Midfielder  \n",
       "6          Midfielder  \n",
       "7          Midfielder  \n",
       "8          Midfielder  \n",
       "9          Midfielder  "
      ]
     },
     "execution_count": 35,
     "metadata": {},
     "output_type": "execute_result"
    }
   ],
   "source": [
    "mid_under_pressure_key_passes_players = get_position_metric(\n",
    "    position='Midfielder',\n",
    "    player_positions=player_positions,\n",
    "    metric_df=under_pressure_key_passes_players\n",
    ")\n",
    "mid_under_pressure_key_passes_players.head(10)"
   ]
  },
  {
   "cell_type": "markdown",
   "id": "694b0651",
   "metadata": {},
   "source": [
    "### Progressive passes"
   ]
  },
  {
   "cell_type": "code",
   "execution_count": null,
   "id": "d33c522f",
   "metadata": {},
   "outputs": [],
   "source": [
    "def get_progressive_passes(df: pd.DataFrame) -> pd.DataFrame:\n",
    "    \"\"\"Completed open-play passes that move at least 25% closer to the goal from its origin.\n",
    "    Exclude passes from the defending 40% of the pitch.\n",
    "\n",
    "    Parameters\n",
    "    ----------\n",
    "    df : pd.DataFrame\n",
    "        Statsbomb Event data\n",
    "\n",
    "    Returns\n",
    "    -------\n",
    "    pd.DataFrame\n",
    "    \"\"\"\n",
    "    df_copy = df.copy()\n",
    "    df_copy = df_copy.dropna(subset='location')\n",
    "    passes = df_copy[\n",
    "        (df_copy[\"type\"] == \"Pass\")\n",
    "        & (df_copy[\"pass_outcome\"].isna())  # Only completed passes\n",
    "        & (df_copy[\"pass_type\"].isna())     # Only open-play passes\n",
    "    ]\n",
    "    # Excludes passes from the defending 40% of the pitch\n",
    "    x_not_def = 120 * 0.4\n",
    "    passes_not_def = passes[passes[\"location\"].apply(lambda x: x[0] > x_not_def)]\n",
    "    # Compute distance from the opposition goal for both origin and destination of the pass\n",
    "    passes_not_def[\"dist_origin\"] = passes_not_def[\"location\"].apply(\n",
    "        lambda loc: np.sqrt(np.square(120 - loc[0]) + np.square(40 - loc[1]))\n",
    "    )\n",
    "    passes_not_def[\"dist_dest\"] = passes_not_def[\"pass_end_location\"].apply(\n",
    "        lambda loc: np.sqrt(np.square(120 - loc[0]) + np.square(40 - loc[1]))\n",
    "    )\n",
    "    # Compute the ratio between dist_dest and dist_origin\n",
    "    passes_not_def[\"ratio_dist\"] = (\n",
    "        passes_not_def[\"dist_dest\"] / passes_not_def[\"dist_origin\"]\n",
    "    )\n",
    "    passes_not_def[\"is_progressive\"] = passes_not_def[\"ratio_dist\"] < 0.75\n",
    "    # Progressive passes only those passes that approach the opposition goal line of the 25%\n",
    "    prog_passes = passes_not_def[passes_not_def[\"is_progressive\"]]\n",
    "\n",
    "    return (\n",
    "        prog_passes.groupby(by=[\"player_id\",\"player\"])\n",
    "        .size()\n",
    "        .reset_index(name=\"prog_pass\")\n",
    "        .sort_values(by=\"prog_pass\", ascending=False, ignore_index=True)\n",
    "    )"
   ]
  },
  {
   "cell_type": "code",
   "execution_count": 37,
   "id": "4ea731bb",
   "metadata": {},
   "outputs": [
    {
     "name": "stderr",
     "output_type": "stream",
     "text": [
      "/var/folders/pt/p9_0myf16lx1rjjrf63vkx5w0000gp/T/ipykernel_75040/3224069199.py:25: SettingWithCopyWarning: \n",
      "A value is trying to be set on a copy of a slice from a DataFrame.\n",
      "Try using .loc[row_indexer,col_indexer] = value instead\n",
      "\n",
      "See the caveats in the documentation: https://pandas.pydata.org/pandas-docs/stable/user_guide/indexing.html#returning-a-view-versus-a-copy\n",
      "  passes_not_def[\"dist_origin\"] = passes_not_def[\"location\"].apply(\n",
      "/var/folders/pt/p9_0myf16lx1rjjrf63vkx5w0000gp/T/ipykernel_75040/3224069199.py:28: SettingWithCopyWarning: \n",
      "A value is trying to be set on a copy of a slice from a DataFrame.\n",
      "Try using .loc[row_indexer,col_indexer] = value instead\n",
      "\n",
      "See the caveats in the documentation: https://pandas.pydata.org/pandas-docs/stable/user_guide/indexing.html#returning-a-view-versus-a-copy\n",
      "  passes_not_def[\"dist_dest\"] = passes_not_def[\"pass_end_location\"].apply(\n",
      "/var/folders/pt/p9_0myf16lx1rjjrf63vkx5w0000gp/T/ipykernel_75040/3224069199.py:32: SettingWithCopyWarning: \n",
      "A value is trying to be set on a copy of a slice from a DataFrame.\n",
      "Try using .loc[row_indexer,col_indexer] = value instead\n",
      "\n",
      "See the caveats in the documentation: https://pandas.pydata.org/pandas-docs/stable/user_guide/indexing.html#returning-a-view-versus-a-copy\n",
      "  passes_not_def[\"ratio_dist\"] = (\n",
      "/var/folders/pt/p9_0myf16lx1rjjrf63vkx5w0000gp/T/ipykernel_75040/3224069199.py:35: SettingWithCopyWarning: \n",
      "A value is trying to be set on a copy of a slice from a DataFrame.\n",
      "Try using .loc[row_indexer,col_indexer] = value instead\n",
      "\n",
      "See the caveats in the documentation: https://pandas.pydata.org/pandas-docs/stable/user_guide/indexing.html#returning-a-view-versus-a-copy\n",
      "  passes_not_def[\"is_progressive\"] = passes_not_def[\"ratio_dist\"] < 0.75\n"
     ]
    }
   ],
   "source": [
    "prog_pass_players = get_progressive_passes(df=df)"
   ]
  },
  {
   "cell_type": "code",
   "execution_count": 38,
   "id": "1a50f8c5",
   "metadata": {},
   "outputs": [
    {
     "data": {
      "application/vnd.microsoft.datawrangler.viewer.v0+json": {
       "columns": [
        {
         "name": "index",
         "rawType": "int64",
         "type": "integer"
        },
        {
         "name": "player_id",
         "rawType": "float64",
         "type": "float"
        },
        {
         "name": "prog_pass",
         "rawType": "int64",
         "type": "integer"
        },
        {
         "name": "player",
         "rawType": "object",
         "type": "string"
        },
        {
         "name": "position_group_name",
         "rawType": "object",
         "type": "string"
        }
       ],
       "ref": "39d94c67-30ac-4349-acd8-07f92a9e54cf",
       "rows": [
        [
         "0",
         "3478.0",
         "265",
         "Francesc Fàbregas i Soler",
         "Midfielder"
        ],
        [
         "1",
         "3496.0",
         "259",
         "Mesut Özil",
         "Midfielder"
        ],
        [
         "2",
         "3633.0",
         "181",
         "Gareth Barry",
         "Midfielder"
        ],
        [
         "3",
         "3473.0",
         "156",
         "James Philip Milner",
         "Midfielder"
        ],
        [
         "4",
         "3517.0",
         "154",
         "Aaron Ramsey",
         "Midfielder"
        ],
        [
         "5",
         "4751.0",
         "154",
         "Michael Carrick",
         "Midfielder"
        ],
        [
         "6",
         "3874.0",
         "144",
         "Mark Noble",
         "Midfielder"
        ],
        [
         "7",
         "3828.0",
         "136",
         "Steven Davis",
         "Midfielder"
        ],
        [
         "8",
         "4429.0",
         "134",
         "Yann Gérard M''Vila",
         "Midfielder"
        ],
        [
         "9",
         "3049.0",
         "134",
         "Matt Ritchie",
         "Midfielder"
        ]
       ],
       "shape": {
        "columns": 4,
        "rows": 10
       }
      },
      "text/html": [
       "<div>\n",
       "<style scoped>\n",
       "    .dataframe tbody tr th:only-of-type {\n",
       "        vertical-align: middle;\n",
       "    }\n",
       "\n",
       "    .dataframe tbody tr th {\n",
       "        vertical-align: top;\n",
       "    }\n",
       "\n",
       "    .dataframe thead th {\n",
       "        text-align: right;\n",
       "    }\n",
       "</style>\n",
       "<table border=\"1\" class=\"dataframe\">\n",
       "  <thead>\n",
       "    <tr style=\"text-align: right;\">\n",
       "      <th></th>\n",
       "      <th>player_id</th>\n",
       "      <th>prog_pass</th>\n",
       "      <th>player</th>\n",
       "      <th>position_group_name</th>\n",
       "    </tr>\n",
       "  </thead>\n",
       "  <tbody>\n",
       "    <tr>\n",
       "      <th>0</th>\n",
       "      <td>3478.0</td>\n",
       "      <td>265</td>\n",
       "      <td>Francesc Fàbregas i Soler</td>\n",
       "      <td>Midfielder</td>\n",
       "    </tr>\n",
       "    <tr>\n",
       "      <th>1</th>\n",
       "      <td>3496.0</td>\n",
       "      <td>259</td>\n",
       "      <td>Mesut Özil</td>\n",
       "      <td>Midfielder</td>\n",
       "    </tr>\n",
       "    <tr>\n",
       "      <th>2</th>\n",
       "      <td>3633.0</td>\n",
       "      <td>181</td>\n",
       "      <td>Gareth Barry</td>\n",
       "      <td>Midfielder</td>\n",
       "    </tr>\n",
       "    <tr>\n",
       "      <th>3</th>\n",
       "      <td>3473.0</td>\n",
       "      <td>156</td>\n",
       "      <td>James Philip Milner</td>\n",
       "      <td>Midfielder</td>\n",
       "    </tr>\n",
       "    <tr>\n",
       "      <th>4</th>\n",
       "      <td>3517.0</td>\n",
       "      <td>154</td>\n",
       "      <td>Aaron Ramsey</td>\n",
       "      <td>Midfielder</td>\n",
       "    </tr>\n",
       "    <tr>\n",
       "      <th>5</th>\n",
       "      <td>4751.0</td>\n",
       "      <td>154</td>\n",
       "      <td>Michael Carrick</td>\n",
       "      <td>Midfielder</td>\n",
       "    </tr>\n",
       "    <tr>\n",
       "      <th>6</th>\n",
       "      <td>3874.0</td>\n",
       "      <td>144</td>\n",
       "      <td>Mark Noble</td>\n",
       "      <td>Midfielder</td>\n",
       "    </tr>\n",
       "    <tr>\n",
       "      <th>7</th>\n",
       "      <td>3828.0</td>\n",
       "      <td>136</td>\n",
       "      <td>Steven Davis</td>\n",
       "      <td>Midfielder</td>\n",
       "    </tr>\n",
       "    <tr>\n",
       "      <th>8</th>\n",
       "      <td>4429.0</td>\n",
       "      <td>134</td>\n",
       "      <td>Yann Gérard M''Vila</td>\n",
       "      <td>Midfielder</td>\n",
       "    </tr>\n",
       "    <tr>\n",
       "      <th>9</th>\n",
       "      <td>3049.0</td>\n",
       "      <td>134</td>\n",
       "      <td>Matt Ritchie</td>\n",
       "      <td>Midfielder</td>\n",
       "    </tr>\n",
       "  </tbody>\n",
       "</table>\n",
       "</div>"
      ],
      "text/plain": [
       "   player_id  prog_pass                     player position_group_name\n",
       "0     3478.0        265  Francesc Fàbregas i Soler          Midfielder\n",
       "1     3496.0        259                 Mesut Özil          Midfielder\n",
       "2     3633.0        181               Gareth Barry          Midfielder\n",
       "3     3473.0        156        James Philip Milner          Midfielder\n",
       "4     3517.0        154               Aaron Ramsey          Midfielder\n",
       "5     4751.0        154            Michael Carrick          Midfielder\n",
       "6     3874.0        144                 Mark Noble          Midfielder\n",
       "7     3828.0        136               Steven Davis          Midfielder\n",
       "8     4429.0        134        Yann Gérard M''Vila          Midfielder\n",
       "9     3049.0        134               Matt Ritchie          Midfielder"
      ]
     },
     "execution_count": 38,
     "metadata": {},
     "output_type": "execute_result"
    }
   ],
   "source": [
    "mid_prog_pass_players = get_position_metric(\n",
    "    position='Midfielder',\n",
    "    player_positions=player_positions,\n",
    "    metric_df=prog_pass_players\n",
    ")\n",
    "mid_prog_pass_players.head(10)"
   ]
  },
  {
   "cell_type": "markdown",
   "id": "4f9ab60c",
   "metadata": {},
   "source": [
    "### Progressive key passes"
   ]
  },
  {
   "cell_type": "code",
   "execution_count": 60,
   "id": "aed06e96",
   "metadata": {},
   "outputs": [],
   "source": [
    "def get_progressive_key_passes(df: pd.DataFrame) -> pd.DataFrame:\n",
    "    \"\"\"Completed open-play passes that move at least 25% closer to the goal from its origin\n",
    "    and that lead to a shot or a goal. Exclude passes from the defending 40% of the pitch.\n",
    "\n",
    "    Parameters\n",
    "    ----------\n",
    "    df : pd.DataFrame\n",
    "        Statsbomb Event data\n",
    "\n",
    "    Returns\n",
    "    -------\n",
    "    pd.DataFrame\n",
    "    \"\"\"\n",
    "    df_copy = df.copy()\n",
    "    df_copy = df_copy.dropna(subset='location')\n",
    "    passes = df_copy[\n",
    "        (df_copy[\"type\"] == \"Pass\")\n",
    "        & (df_copy[\"pass_outcome\"].isna())                      # Only completed passes\n",
    "        & (df_copy[\"pass_type\"].isna())                         # Only open-play passes\n",
    "        & ((df_copy[\"pass_goal_assist\"]) | (df_copy[\"pass_shot_assist\"])) # Key pass\n",
    "    ]\n",
    "    # Excludes passes from the defending 40% of the pitch\n",
    "    x_not_def = 120 * 0.4\n",
    "    passes_not_def = passes[passes[\"location\"].apply(lambda x: x[0] > x_not_def)].copy()\n",
    "    # Compute distance from the opposition goal for both origin and destination of the pass\n",
    "    passes_not_def[\"dist_origin\"] = passes_not_def[\"location\"].apply(\n",
    "        lambda loc: np.sqrt(np.square(120 - loc[0]) + np.square(40 - loc[1]))\n",
    "    )\n",
    "    passes_not_def[\"dist_dest\"] = passes_not_def[\"pass_end_location\"].apply(\n",
    "        lambda loc: np.sqrt(np.square(120 - loc[0]) + np.square(40 - loc[1]))\n",
    "    )\n",
    "    # Compute the ratio between dist_dest and dist_origin\n",
    "    passes_not_def[\"ratio_dist\"] = (\n",
    "        passes_not_def[\"dist_dest\"] / passes_not_def[\"dist_origin\"]\n",
    "    )\n",
    "    passes_not_def[\"is_progressive\"] = passes_not_def[\"ratio_dist\"] < 0.75\n",
    "    # Progressive passes only those passes that approach the opposition goal line of the 25%\n",
    "    prog_passes = passes_not_def[passes_not_def[\"is_progressive\"]]\n",
    "\n",
    "    return (\n",
    "        prog_passes.groupby(by=[\"player_id\",\"player\"])\n",
    "        .size()\n",
    "        .reset_index(name=\"prog_pass\")\n",
    "        .sort_values(by=\"prog_pass\", ascending=False, ignore_index=True)\n",
    "    )"
   ]
  },
  {
   "cell_type": "code",
   "execution_count": 61,
   "id": "80aaadb3",
   "metadata": {},
   "outputs": [
    {
     "data": {
      "application/vnd.microsoft.datawrangler.viewer.v0+json": {
       "columns": [
        {
         "name": "index",
         "rawType": "int64",
         "type": "integer"
        },
        {
         "name": "player_id",
         "rawType": "float64",
         "type": "float"
        },
        {
         "name": "prog_pass",
         "rawType": "int64",
         "type": "integer"
        },
        {
         "name": "player",
         "rawType": "object",
         "type": "string"
        },
        {
         "name": "position_group_name",
         "rawType": "object",
         "type": "string"
        }
       ],
       "ref": "999ba638-2e9f-47ca-8c60-f5890670672d",
       "rows": [
        [
         "0",
         "3496.0",
         "9",
         "Mesut Özil",
         "Midfielder"
        ],
        [
         "1",
         "3473.0",
         "7",
         "James Philip Milner",
         "Midfielder"
        ],
        [
         "2",
         "3089.0",
         "6",
         "Kevin De Bruyne",
         "Midfielder"
        ],
        [
         "3",
         "3091.0",
         "6",
         "Moussa Sissoko",
         "Midfielder"
        ],
        [
         "4",
         "3629.0",
         "5",
         "Sadio Mané",
         "Midfielder"
        ],
        [
         "5",
         "3814.0",
         "5",
         "Riyad Mahrez",
         "Midfielder"
        ],
        [
         "6",
         "10966.0",
         "5",
         "Wes Hoolahan",
         "Midfielder"
        ],
        [
         "7",
         "4275.0",
         "5",
         "Ross Barkley",
         "Midfielder"
        ],
        [
         "8",
         "42902.0",
         "4",
         "Adam Johnson",
         "Midfielder"
        ],
        [
         "9",
         "3307.0",
         "4",
         "Marc Albrighton",
         "Midfielder"
        ]
       ],
       "shape": {
        "columns": 4,
        "rows": 10
       }
      },
      "text/html": [
       "<div>\n",
       "<style scoped>\n",
       "    .dataframe tbody tr th:only-of-type {\n",
       "        vertical-align: middle;\n",
       "    }\n",
       "\n",
       "    .dataframe tbody tr th {\n",
       "        vertical-align: top;\n",
       "    }\n",
       "\n",
       "    .dataframe thead th {\n",
       "        text-align: right;\n",
       "    }\n",
       "</style>\n",
       "<table border=\"1\" class=\"dataframe\">\n",
       "  <thead>\n",
       "    <tr style=\"text-align: right;\">\n",
       "      <th></th>\n",
       "      <th>player_id</th>\n",
       "      <th>prog_pass</th>\n",
       "      <th>player</th>\n",
       "      <th>position_group_name</th>\n",
       "    </tr>\n",
       "  </thead>\n",
       "  <tbody>\n",
       "    <tr>\n",
       "      <th>0</th>\n",
       "      <td>3496.0</td>\n",
       "      <td>9</td>\n",
       "      <td>Mesut Özil</td>\n",
       "      <td>Midfielder</td>\n",
       "    </tr>\n",
       "    <tr>\n",
       "      <th>1</th>\n",
       "      <td>3473.0</td>\n",
       "      <td>7</td>\n",
       "      <td>James Philip Milner</td>\n",
       "      <td>Midfielder</td>\n",
       "    </tr>\n",
       "    <tr>\n",
       "      <th>2</th>\n",
       "      <td>3089.0</td>\n",
       "      <td>6</td>\n",
       "      <td>Kevin De Bruyne</td>\n",
       "      <td>Midfielder</td>\n",
       "    </tr>\n",
       "    <tr>\n",
       "      <th>3</th>\n",
       "      <td>3091.0</td>\n",
       "      <td>6</td>\n",
       "      <td>Moussa Sissoko</td>\n",
       "      <td>Midfielder</td>\n",
       "    </tr>\n",
       "    <tr>\n",
       "      <th>4</th>\n",
       "      <td>3629.0</td>\n",
       "      <td>5</td>\n",
       "      <td>Sadio Mané</td>\n",
       "      <td>Midfielder</td>\n",
       "    </tr>\n",
       "    <tr>\n",
       "      <th>5</th>\n",
       "      <td>3814.0</td>\n",
       "      <td>5</td>\n",
       "      <td>Riyad Mahrez</td>\n",
       "      <td>Midfielder</td>\n",
       "    </tr>\n",
       "    <tr>\n",
       "      <th>6</th>\n",
       "      <td>10966.0</td>\n",
       "      <td>5</td>\n",
       "      <td>Wes Hoolahan</td>\n",
       "      <td>Midfielder</td>\n",
       "    </tr>\n",
       "    <tr>\n",
       "      <th>7</th>\n",
       "      <td>4275.0</td>\n",
       "      <td>5</td>\n",
       "      <td>Ross Barkley</td>\n",
       "      <td>Midfielder</td>\n",
       "    </tr>\n",
       "    <tr>\n",
       "      <th>8</th>\n",
       "      <td>42902.0</td>\n",
       "      <td>4</td>\n",
       "      <td>Adam Johnson</td>\n",
       "      <td>Midfielder</td>\n",
       "    </tr>\n",
       "    <tr>\n",
       "      <th>9</th>\n",
       "      <td>3307.0</td>\n",
       "      <td>4</td>\n",
       "      <td>Marc Albrighton</td>\n",
       "      <td>Midfielder</td>\n",
       "    </tr>\n",
       "  </tbody>\n",
       "</table>\n",
       "</div>"
      ],
      "text/plain": [
       "   player_id  prog_pass               player position_group_name\n",
       "0     3496.0          9           Mesut Özil          Midfielder\n",
       "1     3473.0          7  James Philip Milner          Midfielder\n",
       "2     3089.0          6      Kevin De Bruyne          Midfielder\n",
       "3     3091.0          6       Moussa Sissoko          Midfielder\n",
       "4     3629.0          5           Sadio Mané          Midfielder\n",
       "5     3814.0          5         Riyad Mahrez          Midfielder\n",
       "6    10966.0          5         Wes Hoolahan          Midfielder\n",
       "7     4275.0          5         Ross Barkley          Midfielder\n",
       "8    42902.0          4         Adam Johnson          Midfielder\n",
       "9     3307.0          4      Marc Albrighton          Midfielder"
      ]
     },
     "execution_count": 61,
     "metadata": {},
     "output_type": "execute_result"
    }
   ],
   "source": [
    "prog_key_pass_players = get_progressive_key_passes(df=df)\n",
    "\n",
    "mid_prog_pass_key_players = get_position_metric(\n",
    "    position='Midfielder',\n",
    "    player_positions=player_positions,\n",
    "    metric_df=prog_key_pass_players\n",
    ")\n",
    "mid_prog_pass_key_players.head(10)"
   ]
  },
  {
   "cell_type": "markdown",
   "id": "53a3d8f3",
   "metadata": {},
   "source": [
    "## Box Positioning"
   ]
  },
  {
   "cell_type": "markdown",
   "id": "051a9402",
   "metadata": {},
   "source": [
    "*Box Positioning* is defined as the ability to move into goal-scoring\n",
    "positions in valuable pitch locations by clever positioning in and around the opponent\n",
    "penalty area at the right time."
   ]
  },
  {
   "cell_type": "markdown",
   "id": "1303386c",
   "metadata": {},
   "source": [
    "I considered the number of ball receipts in the penalty box and in the Zone 14, i.e., the zone located in the middle of the pitch immediately outside the penalty area appears crucial for goal scoring (Taylor et al., 2002), that indicates how well players are positioned near the opposition goal to receive the passes. Then, the number of non-penalty expected goals indicates how dangerous players are positioned when they shot the ball."
   ]
  },
  {
   "cell_type": "markdown",
   "id": "c0a7b1d4",
   "metadata": {},
   "source": [
    "### Penalty box receipts"
   ]
  },
  {
   "cell_type": "code",
   "execution_count": 41,
   "id": "6e1461a3",
   "metadata": {},
   "outputs": [],
   "source": [
    "def get_penalty_box_receipts(df: pd.DataFrame) -> pd.DataFrame:\n",
    "    succ_ball_rec = df[\n",
    "        (df[\"ball_receipt_outcome\"].isna())  # Successful receipt\n",
    "        & (df[\"type\"] == \"Ball Receipt*\")\n",
    "    ]\n",
    "    \n",
    "    pen_box_receipts = succ_ball_rec[\n",
    "        succ_ball_rec[\"location\"].apply(\n",
    "            lambda loc: loc[0] >= 102 and loc[1] >= 18 and loc[1] >= 62\n",
    "    )]\n",
    "\n",
    "    return (\n",
    "        pen_box_receipts.groupby(by=[\"player_id\", \"player\"])\n",
    "        .size()\n",
    "        .reset_index(name=\"penalty_receipts\")\n",
    "        .sort_values(by=\"penalty_receipts\", ascending=False, ignore_index=True)\n",
    "    )"
   ]
  },
  {
   "cell_type": "code",
   "execution_count": 42,
   "id": "d7234051",
   "metadata": {},
   "outputs": [],
   "source": [
    "penalty_box_receipts_players = get_penalty_box_receipts(df=df)"
   ]
  },
  {
   "cell_type": "code",
   "execution_count": 43,
   "id": "2b308a10",
   "metadata": {},
   "outputs": [
    {
     "data": {
      "application/vnd.microsoft.datawrangler.viewer.v0+json": {
       "columns": [
        {
         "name": "index",
         "rawType": "int64",
         "type": "integer"
        },
        {
         "name": "player_id",
         "rawType": "float64",
         "type": "float"
        },
        {
         "name": "penalty_receipts",
         "rawType": "int64",
         "type": "integer"
        },
        {
         "name": "player",
         "rawType": "object",
         "type": "string"
        },
        {
         "name": "position_group_name",
         "rawType": "object",
         "type": "string"
        }
       ],
       "ref": "c0a3d6cb-7f0c-48c7-aa1c-5a7af1768190",
       "rows": [
        [
         "0",
         "3091.0",
         "105",
         "Moussa Sissoko",
         "Midfielder"
        ],
        [
         "1",
         "3049.0",
         "92",
         "Matt Ritchie",
         "Midfielder"
        ],
        [
         "2",
         "3286.0",
         "79",
         "Nathan Redmond",
         "Midfielder"
        ],
        [
         "3",
         "3814.0",
         "77",
         "Riyad Mahrez",
         "Midfielder"
        ],
        [
         "4",
         "2966.0",
         "75",
         "Stéphane Sessègnon",
         "Midfielder"
        ],
        [
         "5",
         "3473.0",
         "73",
         "James Philip Milner",
         "Midfielder"
        ],
        [
         "6",
         "3089.0",
         "69",
         "Kevin De Bruyne",
         "Midfielder"
        ],
        [
         "7",
         "3629.0",
         "63",
         "Sadio Mané",
         "Midfielder"
        ],
        [
         "8",
         "3293.0",
         "51",
         "Jesse Lingard",
         "Midfielder"
        ],
        [
         "9",
         "3496.0",
         "50",
         "Mesut Özil",
         "Midfielder"
        ]
       ],
       "shape": {
        "columns": 4,
        "rows": 10
       }
      },
      "text/html": [
       "<div>\n",
       "<style scoped>\n",
       "    .dataframe tbody tr th:only-of-type {\n",
       "        vertical-align: middle;\n",
       "    }\n",
       "\n",
       "    .dataframe tbody tr th {\n",
       "        vertical-align: top;\n",
       "    }\n",
       "\n",
       "    .dataframe thead th {\n",
       "        text-align: right;\n",
       "    }\n",
       "</style>\n",
       "<table border=\"1\" class=\"dataframe\">\n",
       "  <thead>\n",
       "    <tr style=\"text-align: right;\">\n",
       "      <th></th>\n",
       "      <th>player_id</th>\n",
       "      <th>penalty_receipts</th>\n",
       "      <th>player</th>\n",
       "      <th>position_group_name</th>\n",
       "    </tr>\n",
       "  </thead>\n",
       "  <tbody>\n",
       "    <tr>\n",
       "      <th>0</th>\n",
       "      <td>3091.0</td>\n",
       "      <td>105</td>\n",
       "      <td>Moussa Sissoko</td>\n",
       "      <td>Midfielder</td>\n",
       "    </tr>\n",
       "    <tr>\n",
       "      <th>1</th>\n",
       "      <td>3049.0</td>\n",
       "      <td>92</td>\n",
       "      <td>Matt Ritchie</td>\n",
       "      <td>Midfielder</td>\n",
       "    </tr>\n",
       "    <tr>\n",
       "      <th>2</th>\n",
       "      <td>3286.0</td>\n",
       "      <td>79</td>\n",
       "      <td>Nathan Redmond</td>\n",
       "      <td>Midfielder</td>\n",
       "    </tr>\n",
       "    <tr>\n",
       "      <th>3</th>\n",
       "      <td>3814.0</td>\n",
       "      <td>77</td>\n",
       "      <td>Riyad Mahrez</td>\n",
       "      <td>Midfielder</td>\n",
       "    </tr>\n",
       "    <tr>\n",
       "      <th>4</th>\n",
       "      <td>2966.0</td>\n",
       "      <td>75</td>\n",
       "      <td>Stéphane Sessègnon</td>\n",
       "      <td>Midfielder</td>\n",
       "    </tr>\n",
       "    <tr>\n",
       "      <th>5</th>\n",
       "      <td>3473.0</td>\n",
       "      <td>73</td>\n",
       "      <td>James Philip Milner</td>\n",
       "      <td>Midfielder</td>\n",
       "    </tr>\n",
       "    <tr>\n",
       "      <th>6</th>\n",
       "      <td>3089.0</td>\n",
       "      <td>69</td>\n",
       "      <td>Kevin De Bruyne</td>\n",
       "      <td>Midfielder</td>\n",
       "    </tr>\n",
       "    <tr>\n",
       "      <th>7</th>\n",
       "      <td>3629.0</td>\n",
       "      <td>63</td>\n",
       "      <td>Sadio Mané</td>\n",
       "      <td>Midfielder</td>\n",
       "    </tr>\n",
       "    <tr>\n",
       "      <th>8</th>\n",
       "      <td>3293.0</td>\n",
       "      <td>51</td>\n",
       "      <td>Jesse Lingard</td>\n",
       "      <td>Midfielder</td>\n",
       "    </tr>\n",
       "    <tr>\n",
       "      <th>9</th>\n",
       "      <td>3496.0</td>\n",
       "      <td>50</td>\n",
       "      <td>Mesut Özil</td>\n",
       "      <td>Midfielder</td>\n",
       "    </tr>\n",
       "  </tbody>\n",
       "</table>\n",
       "</div>"
      ],
      "text/plain": [
       "   player_id  penalty_receipts               player position_group_name\n",
       "0     3091.0               105       Moussa Sissoko          Midfielder\n",
       "1     3049.0                92         Matt Ritchie          Midfielder\n",
       "2     3286.0                79       Nathan Redmond          Midfielder\n",
       "3     3814.0                77         Riyad Mahrez          Midfielder\n",
       "4     2966.0                75   Stéphane Sessègnon          Midfielder\n",
       "5     3473.0                73  James Philip Milner          Midfielder\n",
       "6     3089.0                69      Kevin De Bruyne          Midfielder\n",
       "7     3629.0                63           Sadio Mané          Midfielder\n",
       "8     3293.0                51        Jesse Lingard          Midfielder\n",
       "9     3496.0                50           Mesut Özil          Midfielder"
      ]
     },
     "execution_count": 43,
     "metadata": {},
     "output_type": "execute_result"
    }
   ],
   "source": [
    "mid_penalty_box_receipts_players = get_position_metric(\n",
    "    position='Midfielder',\n",
    "    player_positions=player_positions,\n",
    "    metric_df=penalty_box_receipts_players\n",
    ")\n",
    "mid_penalty_box_receipts_players.head(10)"
   ]
  },
  {
   "cell_type": "markdown",
   "id": "e6c5247f",
   "metadata": {},
   "source": [
    "### Zone 14 receipts"
   ]
  },
  {
   "cell_type": "code",
   "execution_count": 44,
   "id": "893d4c52",
   "metadata": {},
   "outputs": [],
   "source": [
    "def get_zone14_receipts(df: pd.DataFrame) -> pd.DataFrame:\n",
    "    zone_14_x1 = (120 / 6) * 4\n",
    "    zone_14_x2 = (120 / 6) * 5\n",
    "    zone_14_y1 = 80 / 3\n",
    "    zone_14_y2 = (80 / 3) * 2\n",
    "    # Consider only the events in the Zone 14\n",
    "    succ_ball_rec = df[\n",
    "        (df[\"ball_receipt_outcome\"].isna())  # Successful receipt\n",
    "        & (df[\"type\"] == \"Ball Receipt*\")\n",
    "    ]\n",
    "    zone_14_receipts_df = succ_ball_rec[\n",
    "        succ_ball_rec[\"location\"].apply(\n",
    "            lambda loc: loc[0] >= zone_14_x1 and\n",
    "                        loc[0] <= zone_14_x2 and\n",
    "                        loc[1] >= zone_14_y1 and\n",
    "                        loc[1] <= zone_14_y2\n",
    "        )\n",
    "    ]\n",
    "\n",
    "    return (\n",
    "        zone_14_receipts_df.groupby(by=[\"player_id\", \"player\"])\n",
    "        .size()\n",
    "        .reset_index(name=\"zone14_receipts\")\n",
    "        .sort_values(by=\"zone14_receipts\", ascending=False, ignore_index=True)\n",
    "    )"
   ]
  },
  {
   "cell_type": "code",
   "execution_count": 45,
   "id": "73c9fdc9",
   "metadata": {},
   "outputs": [],
   "source": [
    "zone14_receipts_players = get_zone14_receipts(df=df)"
   ]
  },
  {
   "cell_type": "code",
   "execution_count": 46,
   "id": "e58f506a",
   "metadata": {},
   "outputs": [
    {
     "data": {
      "application/vnd.microsoft.datawrangler.viewer.v0+json": {
       "columns": [
        {
         "name": "index",
         "rawType": "int64",
         "type": "integer"
        },
        {
         "name": "player_id",
         "rawType": "float64",
         "type": "float"
        },
        {
         "name": "zone14_receipts",
         "rawType": "int64",
         "type": "integer"
        },
        {
         "name": "player",
         "rawType": "object",
         "type": "string"
        },
        {
         "name": "position_group_name",
         "rawType": "object",
         "type": "string"
        }
       ],
       "ref": "87454b2f-2c9e-4657-ac05-0df58fcd49f1",
       "rows": [
        [
         "0",
         "3496.0",
         "163",
         "Mesut Özil",
         "Midfielder"
        ],
        [
         "1",
         "4275.0",
         "154",
         "Ross Barkley",
         "Midfielder"
        ],
        [
         "2",
         "3094.0",
         "153",
         "Bamidele Alli",
         "Midfielder"
        ],
        [
         "3",
         "3478.0",
         "149",
         "Francesc Fàbregas i Soler",
         "Midfielder"
        ],
        [
         "4",
         "3087.0",
         "139",
         "Gnégnéri Yaya Touré",
         "Midfielder"
        ],
        [
         "5",
         "3944.0",
         "138",
         "Gylfi Þór Sigurðsson",
         "Midfielder"
        ],
        [
         "6",
         "3517.0",
         "135",
         "Aaron Ramsey",
         "Midfielder"
        ],
        [
         "7",
         "11386.0",
         "93",
         "Santiago Cazorla González",
         "Midfielder"
        ],
        [
         "8",
         "3629.0",
         "92",
         "Sadio Mané",
         "Midfielder"
        ],
        [
         "9",
         "3567.0",
         "91",
         "Georginio Wijnaldum",
         "Midfielder"
        ]
       ],
       "shape": {
        "columns": 4,
        "rows": 10
       }
      },
      "text/html": [
       "<div>\n",
       "<style scoped>\n",
       "    .dataframe tbody tr th:only-of-type {\n",
       "        vertical-align: middle;\n",
       "    }\n",
       "\n",
       "    .dataframe tbody tr th {\n",
       "        vertical-align: top;\n",
       "    }\n",
       "\n",
       "    .dataframe thead th {\n",
       "        text-align: right;\n",
       "    }\n",
       "</style>\n",
       "<table border=\"1\" class=\"dataframe\">\n",
       "  <thead>\n",
       "    <tr style=\"text-align: right;\">\n",
       "      <th></th>\n",
       "      <th>player_id</th>\n",
       "      <th>zone14_receipts</th>\n",
       "      <th>player</th>\n",
       "      <th>position_group_name</th>\n",
       "    </tr>\n",
       "  </thead>\n",
       "  <tbody>\n",
       "    <tr>\n",
       "      <th>0</th>\n",
       "      <td>3496.0</td>\n",
       "      <td>163</td>\n",
       "      <td>Mesut Özil</td>\n",
       "      <td>Midfielder</td>\n",
       "    </tr>\n",
       "    <tr>\n",
       "      <th>1</th>\n",
       "      <td>4275.0</td>\n",
       "      <td>154</td>\n",
       "      <td>Ross Barkley</td>\n",
       "      <td>Midfielder</td>\n",
       "    </tr>\n",
       "    <tr>\n",
       "      <th>2</th>\n",
       "      <td>3094.0</td>\n",
       "      <td>153</td>\n",
       "      <td>Bamidele Alli</td>\n",
       "      <td>Midfielder</td>\n",
       "    </tr>\n",
       "    <tr>\n",
       "      <th>3</th>\n",
       "      <td>3478.0</td>\n",
       "      <td>149</td>\n",
       "      <td>Francesc Fàbregas i Soler</td>\n",
       "      <td>Midfielder</td>\n",
       "    </tr>\n",
       "    <tr>\n",
       "      <th>4</th>\n",
       "      <td>3087.0</td>\n",
       "      <td>139</td>\n",
       "      <td>Gnégnéri Yaya Touré</td>\n",
       "      <td>Midfielder</td>\n",
       "    </tr>\n",
       "    <tr>\n",
       "      <th>5</th>\n",
       "      <td>3944.0</td>\n",
       "      <td>138</td>\n",
       "      <td>Gylfi Þór Sigurðsson</td>\n",
       "      <td>Midfielder</td>\n",
       "    </tr>\n",
       "    <tr>\n",
       "      <th>6</th>\n",
       "      <td>3517.0</td>\n",
       "      <td>135</td>\n",
       "      <td>Aaron Ramsey</td>\n",
       "      <td>Midfielder</td>\n",
       "    </tr>\n",
       "    <tr>\n",
       "      <th>7</th>\n",
       "      <td>11386.0</td>\n",
       "      <td>93</td>\n",
       "      <td>Santiago Cazorla González</td>\n",
       "      <td>Midfielder</td>\n",
       "    </tr>\n",
       "    <tr>\n",
       "      <th>8</th>\n",
       "      <td>3629.0</td>\n",
       "      <td>92</td>\n",
       "      <td>Sadio Mané</td>\n",
       "      <td>Midfielder</td>\n",
       "    </tr>\n",
       "    <tr>\n",
       "      <th>9</th>\n",
       "      <td>3567.0</td>\n",
       "      <td>91</td>\n",
       "      <td>Georginio Wijnaldum</td>\n",
       "      <td>Midfielder</td>\n",
       "    </tr>\n",
       "  </tbody>\n",
       "</table>\n",
       "</div>"
      ],
      "text/plain": [
       "   player_id  zone14_receipts                     player position_group_name\n",
       "0     3496.0              163                 Mesut Özil          Midfielder\n",
       "1     4275.0              154               Ross Barkley          Midfielder\n",
       "2     3094.0              153              Bamidele Alli          Midfielder\n",
       "3     3478.0              149  Francesc Fàbregas i Soler          Midfielder\n",
       "4     3087.0              139        Gnégnéri Yaya Touré          Midfielder\n",
       "5     3944.0              138       Gylfi Þór Sigurðsson          Midfielder\n",
       "6     3517.0              135               Aaron Ramsey          Midfielder\n",
       "7    11386.0               93  Santiago Cazorla González          Midfielder\n",
       "8     3629.0               92                 Sadio Mané          Midfielder\n",
       "9     3567.0               91        Georginio Wijnaldum          Midfielder"
      ]
     },
     "execution_count": 46,
     "metadata": {},
     "output_type": "execute_result"
    }
   ],
   "source": [
    "mid_zone14_receipts_players = get_position_metric(\n",
    "    position='Midfielder',\n",
    "    player_positions=player_positions,\n",
    "    metric_df=zone14_receipts_players\n",
    ")\n",
    "mid_zone14_receipts_players.head(10)"
   ]
  },
  {
   "cell_type": "markdown",
   "id": "66bcdb62",
   "metadata": {},
   "source": [
    "### Non-penalty xG"
   ]
  },
  {
   "cell_type": "code",
   "execution_count": 47,
   "id": "ef77ad66",
   "metadata": {},
   "outputs": [],
   "source": [
    "def get_tot_players_statsbomb_openplayxg(df: pd.DataFrame) -> pd.DataFrame:\n",
    "    \"\"\"Compute the total number of open-play expected goals of each player.\n",
    "\n",
    "    Parameters\n",
    "    ----------\n",
    "    df : pd.DataFrame\n",
    "        The Statsbomb event data\n",
    "\n",
    "    Returns\n",
    "    -------\n",
    "    pd.DataFrame\n",
    "        player_id, tot_npxg\n",
    "    \"\"\"\n",
    "    return (\n",
    "        df[df['shot_type'] == \"Open Play\"]\n",
    "        .groupby(by=[\"player_id\", \"player\"])\n",
    "        .agg({\"shot_statsbomb_xg\": \"sum\"})\n",
    "        .reset_index()\n",
    "        .rename(columns={\"shot_statsbomb_xg\": \"tot_npxg\"})\n",
    "        .sort_values(by=\"tot_npxg\", ascending=False, ignore_index=True)\n",
    "    )"
   ]
  },
  {
   "cell_type": "code",
   "execution_count": 48,
   "id": "78863181",
   "metadata": {},
   "outputs": [],
   "source": [
    "openplay_xg_players = get_tot_players_statsbomb_openplayxg(df=df)"
   ]
  },
  {
   "cell_type": "code",
   "execution_count": 50,
   "id": "a1b77b91",
   "metadata": {},
   "outputs": [
    {
     "data": {
      "application/vnd.microsoft.datawrangler.viewer.v0+json": {
       "columns": [
        {
         "name": "index",
         "rawType": "int64",
         "type": "integer"
        },
        {
         "name": "player_id",
         "rawType": "float64",
         "type": "float"
        },
        {
         "name": "tot_npxg",
         "rawType": "float64",
         "type": "float"
        },
        {
         "name": "player",
         "rawType": "object",
         "type": "string"
        },
        {
         "name": "position_group_name",
         "rawType": "object",
         "type": "string"
        }
       ],
       "ref": "587f5185-e618-4bc5-ba94-49c88d5f3f22",
       "rows": [
        [
         "0",
         "3629.0",
         "11.268578225",
         "Sadio Mané",
         "Midfielder"
        ],
        [
         "1",
         "3094.0",
         "8.3984632963",
         "Bamidele Alli",
         "Midfielder"
        ],
        [
         "2",
         "3517.0",
         "7.4206954298",
         "Aaron Ramsey",
         "Midfielder"
        ],
        [
         "3",
         "3535.0",
         "7.3023224204",
         "Roberto Firmino Barbosa de Oliveira",
         "Midfielder"
        ],
        [
         "4",
         "3814.0",
         "7.1626653860000005",
         "Riyad Mahrez",
         "Midfielder"
        ],
        [
         "5",
         "3567.0",
         "6.791590111",
         "Georginio Wijnaldum",
         "Midfielder"
        ],
        [
         "6",
         "4275.0",
         "5.740483997",
         "Ross Barkley",
         "Midfielder"
        ],
        [
         "7",
         "3496.0",
         "5.6611237954",
         "Mesut Özil",
         "Midfielder"
        ],
        [
         "8",
         "3684.0",
         "5.440102105",
         "Cheikhou Kouyaté",
         "Midfielder"
        ],
        [
         "9",
         "3087.0",
         "4.631859385",
         "Gnégnéri Yaya Touré",
         "Midfielder"
        ]
       ],
       "shape": {
        "columns": 4,
        "rows": 10
       }
      },
      "text/html": [
       "<div>\n",
       "<style scoped>\n",
       "    .dataframe tbody tr th:only-of-type {\n",
       "        vertical-align: middle;\n",
       "    }\n",
       "\n",
       "    .dataframe tbody tr th {\n",
       "        vertical-align: top;\n",
       "    }\n",
       "\n",
       "    .dataframe thead th {\n",
       "        text-align: right;\n",
       "    }\n",
       "</style>\n",
       "<table border=\"1\" class=\"dataframe\">\n",
       "  <thead>\n",
       "    <tr style=\"text-align: right;\">\n",
       "      <th></th>\n",
       "      <th>player_id</th>\n",
       "      <th>tot_npxg</th>\n",
       "      <th>player</th>\n",
       "      <th>position_group_name</th>\n",
       "    </tr>\n",
       "  </thead>\n",
       "  <tbody>\n",
       "    <tr>\n",
       "      <th>0</th>\n",
       "      <td>3629.0</td>\n",
       "      <td>11.268578</td>\n",
       "      <td>Sadio Mané</td>\n",
       "      <td>Midfielder</td>\n",
       "    </tr>\n",
       "    <tr>\n",
       "      <th>1</th>\n",
       "      <td>3094.0</td>\n",
       "      <td>8.398463</td>\n",
       "      <td>Bamidele Alli</td>\n",
       "      <td>Midfielder</td>\n",
       "    </tr>\n",
       "    <tr>\n",
       "      <th>2</th>\n",
       "      <td>3517.0</td>\n",
       "      <td>7.420695</td>\n",
       "      <td>Aaron Ramsey</td>\n",
       "      <td>Midfielder</td>\n",
       "    </tr>\n",
       "    <tr>\n",
       "      <th>3</th>\n",
       "      <td>3535.0</td>\n",
       "      <td>7.302322</td>\n",
       "      <td>Roberto Firmino Barbosa de Oliveira</td>\n",
       "      <td>Midfielder</td>\n",
       "    </tr>\n",
       "    <tr>\n",
       "      <th>4</th>\n",
       "      <td>3814.0</td>\n",
       "      <td>7.162665</td>\n",
       "      <td>Riyad Mahrez</td>\n",
       "      <td>Midfielder</td>\n",
       "    </tr>\n",
       "    <tr>\n",
       "      <th>5</th>\n",
       "      <td>3567.0</td>\n",
       "      <td>6.791590</td>\n",
       "      <td>Georginio Wijnaldum</td>\n",
       "      <td>Midfielder</td>\n",
       "    </tr>\n",
       "    <tr>\n",
       "      <th>6</th>\n",
       "      <td>4275.0</td>\n",
       "      <td>5.740484</td>\n",
       "      <td>Ross Barkley</td>\n",
       "      <td>Midfielder</td>\n",
       "    </tr>\n",
       "    <tr>\n",
       "      <th>7</th>\n",
       "      <td>3496.0</td>\n",
       "      <td>5.661124</td>\n",
       "      <td>Mesut Özil</td>\n",
       "      <td>Midfielder</td>\n",
       "    </tr>\n",
       "    <tr>\n",
       "      <th>8</th>\n",
       "      <td>3684.0</td>\n",
       "      <td>5.440102</td>\n",
       "      <td>Cheikhou Kouyaté</td>\n",
       "      <td>Midfielder</td>\n",
       "    </tr>\n",
       "    <tr>\n",
       "      <th>9</th>\n",
       "      <td>3087.0</td>\n",
       "      <td>4.631859</td>\n",
       "      <td>Gnégnéri Yaya Touré</td>\n",
       "      <td>Midfielder</td>\n",
       "    </tr>\n",
       "  </tbody>\n",
       "</table>\n",
       "</div>"
      ],
      "text/plain": [
       "   player_id   tot_npxg                               player  \\\n",
       "0     3629.0  11.268578                           Sadio Mané   \n",
       "1     3094.0   8.398463                        Bamidele Alli   \n",
       "2     3517.0   7.420695                         Aaron Ramsey   \n",
       "3     3535.0   7.302322  Roberto Firmino Barbosa de Oliveira   \n",
       "4     3814.0   7.162665                         Riyad Mahrez   \n",
       "5     3567.0   6.791590                  Georginio Wijnaldum   \n",
       "6     4275.0   5.740484                         Ross Barkley   \n",
       "7     3496.0   5.661124                           Mesut Özil   \n",
       "8     3684.0   5.440102                     Cheikhou Kouyaté   \n",
       "9     3087.0   4.631859                  Gnégnéri Yaya Touré   \n",
       "\n",
       "  position_group_name  \n",
       "0          Midfielder  \n",
       "1          Midfielder  \n",
       "2          Midfielder  \n",
       "3          Midfielder  \n",
       "4          Midfielder  \n",
       "5          Midfielder  \n",
       "6          Midfielder  \n",
       "7          Midfielder  \n",
       "8          Midfielder  \n",
       "9          Midfielder  "
      ]
     },
     "execution_count": 50,
     "metadata": {},
     "output_type": "execute_result"
    }
   ],
   "source": [
    "mid_openplay_xg_players = get_position_metric(\n",
    "    position='Midfielder',\n",
    "    player_positions=player_positions,\n",
    "    metric_df=openplay_xg_players\n",
    ")\n",
    "mid_openplay_xg_players.head(10)"
   ]
  },
  {
   "cell_type": "markdown",
   "id": "14deb0b8",
   "metadata": {},
   "source": [
    "### Final Pass and Box Positioning evaluation"
   ]
  },
  {
   "cell_type": "markdown",
   "id": "37394202",
   "metadata": {},
   "source": [
    "All the metrics to assess Final Pass and Box Positioning capabilities are rescaled between 0 and 1 and averaged to get an unique metric, called *fin_pass_box_pos*."
   ]
  },
  {
   "cell_type": "code",
   "execution_count": 51,
   "id": "92497758",
   "metadata": {},
   "outputs": [],
   "source": [
    "def join_metrics(metric_df_list: list[pd.DataFrame]) -> pd.DataFrame:\n",
    "    \"\"\"Method to join together all the Final Pass and Box Positioning metrics.\n",
    "\n",
    "    Parameters\n",
    "    ----------\n",
    "    metric_df_list : list[pd.DataFrame]\n",
    "        List of the Final Pass and Box Positioning metrics\n",
    "\n",
    "    Returns\n",
    "    -------\n",
    "    Optional[pd.DataFrame]\n",
    "        A DataFrame with the player id and all the corresponding Final Pass and Box Positioning metrics\n",
    "    \"\"\"\n",
    "    if len(metric_df_list) < 2:\n",
    "        print(\"Add more metrics.\")\n",
    "        return pd.DataFrame()\n",
    "\n",
    "    df_to_ret = metric_df_list[0]\n",
    "    df_to_ret = df_to_ret.drop(columns=['player', 'position_group_name'])\n",
    "\n",
    "    for i in range(1, len(metric_df_list)):\n",
    "        df_to_ret = pd.merge(df_to_ret, metric_df_list[i], on=\"player_id\", how=\"inner\", suffixes=[f\"_{i-1}\", f\"_{i}\"])\n",
    "        df_to_ret = df_to_ret.drop(columns=['player', 'position_group_name'])\n",
    "\n",
    "    return df_to_ret"
   ]
  },
  {
   "cell_type": "code",
   "execution_count": 53,
   "id": "6c02e3bf",
   "metadata": {},
   "outputs": [],
   "source": [
    "# List of the Final Pass and Box Positioning metrics\n",
    "metric_df_list = [\n",
    "    mid_assist_players,\n",
    "    mid_xga_players,\n",
    "    mid_key_passes_players,\n",
    "    mid_under_pressure_key_passes_players,\n",
    "    mid_prog_pass_players,\n",
    "    mid_prog_pass_key_players,\n",
    "    mid_penalty_box_receipts_players,\n",
    "    mid_zone14_receipts_players,\n",
    "    mid_openplay_xg_players,\n",
    "]"
   ]
  },
  {
   "cell_type": "code",
   "execution_count": 55,
   "id": "1120f950",
   "metadata": {},
   "outputs": [],
   "source": [
    "# Join the dataframe with the single metrics\n",
    "finalpass_boxpos_metrics = join_metrics(metric_df_list=metric_df_list)\n",
    "# Save the player ids to later concatenate them with the rescaled metrics\n",
    "player_id = finalpass_boxpos_metrics[\"player_id\"]\n",
    "\n",
    "finalpass_boxpos_metrics = finalpass_boxpos_metrics.drop(columns=\"player_id\")\n",
    "finalpass_boxpos_metrics = finalpass_boxpos_metrics.select_dtypes(exclude=\"object\")\n",
    "# Metrics rescaling\n",
    "scaled_finalpass_boxpos_metrics = (\n",
    "    finalpass_boxpos_metrics - finalpass_boxpos_metrics.min()\n",
    ") / (finalpass_boxpos_metrics.max() - finalpass_boxpos_metrics.min())\n",
    "# Get a unique metric that is the average of the other ones\n",
    "fin_pass_box_pos = (\n",
    "    scaled_finalpass_boxpos_metrics.mean(axis=1)\n",
    "    .reset_index(name=\"fin_pass_box_pos\")\n",
    "    .drop(columns=\"index\")\n",
    ")\n",
    "fin_pass_box_pos = pd.concat((fin_pass_box_pos, player_id), axis=1)\n",
    "fin_pass_box_pos = fin_pass_box_pos.rename(columns={\"player_0\": \"player\"})\n",
    "fin_pass_box_pos = fin_pass_box_pos.sort_values(\n",
    "    by=\"fin_pass_box_pos\", ascending=False, ignore_index=True\n",
    ")"
   ]
  },
  {
   "cell_type": "markdown",
   "id": "b840c1ba",
   "metadata": {},
   "source": [
    "### The top 5 Premier League 2015/2016 midfielders according to Final Pass and Box Positioning capabilities"
   ]
  },
  {
   "cell_type": "code",
   "execution_count": 57,
   "id": "07e45992",
   "metadata": {},
   "outputs": [
    {
     "data": {
      "application/vnd.microsoft.datawrangler.viewer.v0+json": {
       "columns": [
        {
         "name": "index",
         "rawType": "int64",
         "type": "integer"
        },
        {
         "name": "fin_pass_box_pos",
         "rawType": "float64",
         "type": "float"
        },
        {
         "name": "player_id",
         "rawType": "float64",
         "type": "float"
        },
        {
         "name": "player",
         "rawType": "object",
         "type": "string"
        }
       ],
       "ref": "4281ea7c-c0e4-4652-b010-3146bdbaaa9e",
       "rows": [
        [
         "0",
         "0.6804902329777884",
         "3473.0",
         "James Philip Milner"
        ],
        [
         "1",
         "0.6570057668845233",
         "3814.0",
         "Riyad Mahrez"
        ],
        [
         "2",
         "0.6302337304394582",
         "3094.0",
         "Bamidele Alli"
        ],
        [
         "3",
         "0.6079441916883401",
         "4275.0",
         "Ross Barkley"
        ],
        [
         "4",
         "0.5290321230466003",
         "3091.0",
         "Moussa Sissoko"
        ]
       ],
       "shape": {
        "columns": 3,
        "rows": 5
       }
      },
      "text/html": [
       "<div>\n",
       "<style scoped>\n",
       "    .dataframe tbody tr th:only-of-type {\n",
       "        vertical-align: middle;\n",
       "    }\n",
       "\n",
       "    .dataframe tbody tr th {\n",
       "        vertical-align: top;\n",
       "    }\n",
       "\n",
       "    .dataframe thead th {\n",
       "        text-align: right;\n",
       "    }\n",
       "</style>\n",
       "<table border=\"1\" class=\"dataframe\">\n",
       "  <thead>\n",
       "    <tr style=\"text-align: right;\">\n",
       "      <th></th>\n",
       "      <th>fin_pass_box_pos</th>\n",
       "      <th>player_id</th>\n",
       "      <th>player</th>\n",
       "    </tr>\n",
       "  </thead>\n",
       "  <tbody>\n",
       "    <tr>\n",
       "      <th>0</th>\n",
       "      <td>0.680490</td>\n",
       "      <td>3473.0</td>\n",
       "      <td>James Philip Milner</td>\n",
       "    </tr>\n",
       "    <tr>\n",
       "      <th>1</th>\n",
       "      <td>0.657006</td>\n",
       "      <td>3814.0</td>\n",
       "      <td>Riyad Mahrez</td>\n",
       "    </tr>\n",
       "    <tr>\n",
       "      <th>2</th>\n",
       "      <td>0.630234</td>\n",
       "      <td>3094.0</td>\n",
       "      <td>Bamidele Alli</td>\n",
       "    </tr>\n",
       "    <tr>\n",
       "      <th>3</th>\n",
       "      <td>0.607944</td>\n",
       "      <td>4275.0</td>\n",
       "      <td>Ross Barkley</td>\n",
       "    </tr>\n",
       "    <tr>\n",
       "      <th>4</th>\n",
       "      <td>0.529032</td>\n",
       "      <td>3091.0</td>\n",
       "      <td>Moussa Sissoko</td>\n",
       "    </tr>\n",
       "  </tbody>\n",
       "</table>\n",
       "</div>"
      ],
      "text/plain": [
       "   fin_pass_box_pos  player_id               player\n",
       "0          0.680490     3473.0  James Philip Milner\n",
       "1          0.657006     3814.0         Riyad Mahrez\n",
       "2          0.630234     3094.0        Bamidele Alli\n",
       "3          0.607944     4275.0         Ross Barkley\n",
       "4          0.529032     3091.0       Moussa Sissoko"
      ]
     },
     "execution_count": 57,
     "metadata": {},
     "output_type": "execute_result"
    }
   ],
   "source": [
    "add_name_players(fin_pass_box_pos, players_df).head(5)"
   ]
  },
  {
   "cell_type": "code",
   "execution_count": null,
   "id": "8b031e48",
   "metadata": {},
   "outputs": [],
   "source": []
  }
 ],
 "metadata": {
  "kernelspec": {
   "display_name": ".venv",
   "language": "python",
   "name": "python3"
  },
  "language_info": {
   "codemirror_mode": {
    "name": "ipython",
    "version": 3
   },
   "file_extension": ".py",
   "mimetype": "text/x-python",
   "name": "python",
   "nbconvert_exporter": "python",
   "pygments_lexer": "ipython3",
   "version": "3.12.4"
  }
 },
 "nbformat": 4,
 "nbformat_minor": 5
}
