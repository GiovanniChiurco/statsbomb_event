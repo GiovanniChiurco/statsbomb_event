{
 "cells": [
  {
   "cell_type": "markdown",
   "id": "69bd817c",
   "metadata": {},
   "source": [
    "# Importing libraries"
   ]
  },
  {
   "cell_type": "code",
   "execution_count": 1,
   "id": "60e0135f",
   "metadata": {},
   "outputs": [],
   "source": [
    "import pandas as pd\n",
    "import json\n",
    "import numpy as np"
   ]
  },
  {
   "cell_type": "markdown",
   "id": "b7f50a0b",
   "metadata": {},
   "source": [
    "# Read parquet file"
   ]
  },
  {
   "cell_type": "code",
   "execution_count": 2,
   "id": "61abd8af",
   "metadata": {},
   "outputs": [],
   "source": [
    "file_path = \"../data/eng_1516_events.parquet\""
   ]
  },
  {
   "cell_type": "code",
   "execution_count": 3,
   "id": "2318bace",
   "metadata": {},
   "outputs": [],
   "source": [
    "df = pd.read_parquet(file_path)"
   ]
  },
  {
   "cell_type": "markdown",
   "id": "7b6f14c6",
   "metadata": {},
   "source": [
    "### Saving column names"
   ]
  },
  {
   "cell_type": "code",
   "execution_count": 4,
   "id": "191d2992",
   "metadata": {},
   "outputs": [],
   "source": [
    "column_list = df.columns.tolist()"
   ]
  },
  {
   "cell_type": "markdown",
   "id": "7e257d42",
   "metadata": {},
   "source": [
    "### Utility functions"
   ]
  },
  {
   "cell_type": "code",
   "execution_count": 5,
   "id": "5749506a",
   "metadata": {},
   "outputs": [],
   "source": [
    "players_df = df[[\"player_id\", \"player\"]].drop_duplicates().dropna()"
   ]
  },
  {
   "cell_type": "code",
   "execution_count": 6,
   "id": "08773b76",
   "metadata": {},
   "outputs": [],
   "source": [
    "def add_name_players(metric_df: pd.DataFrame, players_df: pd.DataFrame):\n",
    "    \"\"\"Add the players names to metric dataframe\n",
    "\n",
    "    Parameters\n",
    "    ----------\n",
    "    metric_df : pd.DataFrame\n",
    "        player_id, metric\n",
    "    players_df : pd.DataFrame\n",
    "        player_id, player_name\n",
    "    \"\"\"\n",
    "    return pd.merge(left=metric_df, right=players_df, on=\"player_id\")"
   ]
  },
  {
   "cell_type": "code",
   "execution_count": 7,
   "id": "22f3ca74",
   "metadata": {},
   "outputs": [],
   "source": [
    "def head_col(col_name: str, df: pd.DataFrame) -> pd.DataFrame:\n",
    "    return df[~df[col_name].isna()].dropna(axis=1)"
   ]
  },
  {
   "cell_type": "code",
   "execution_count": 8,
   "id": "f8cb2441",
   "metadata": {},
   "outputs": [],
   "source": [
    "def check_column(partial_name: str, column_list: list[str]) -> None:\n",
    "    for col in column_list:\n",
    "        if partial_name in col:\n",
    "            print(col)"
   ]
  },
  {
   "cell_type": "code",
   "execution_count": 9,
   "id": "d9d57031",
   "metadata": {},
   "outputs": [
    {
     "name": "stdout",
     "output_type": "stream",
     "text": [
      "tactics\n"
     ]
    }
   ],
   "source": [
    "check_column(\"tactics\", column_list)"
   ]
  },
  {
   "cell_type": "markdown",
   "id": "e3dd1f83",
   "metadata": {},
   "source": [
    "# Task 1"
   ]
  },
  {
   "cell_type": "markdown",
   "id": "d0e39ba7",
   "metadata": {},
   "source": [
    "## Which player attempted the most shots?"
   ]
  },
  {
   "cell_type": "code",
   "execution_count": 10,
   "id": "87cf5da9",
   "metadata": {},
   "outputs": [],
   "source": [
    "player_shot_df = (\n",
    "    df[df[\"type\"] == \"Shot\"]\n",
    "    .groupby(by=[\"player_id\", \"player\"])\n",
    "    .size()\n",
    "    .reset_index(name=\"shot_count\")\n",
    "    .sort_values(by=\"shot_count\", ascending=False, ignore_index=True)\n",
    ")"
   ]
  },
  {
   "cell_type": "code",
   "execution_count": 11,
   "id": "72309fac",
   "metadata": {},
   "outputs": [
    {
     "data": {
      "application/vnd.microsoft.datawrangler.viewer.v0+json": {
       "columns": [
        {
         "name": "index",
         "rawType": "int64",
         "type": "integer"
        },
        {
         "name": "player_id",
         "rawType": "float64",
         "type": "float"
        },
        {
         "name": "player",
         "rawType": "object",
         "type": "string"
        },
        {
         "name": "shot_count",
         "rawType": "int64",
         "type": "integer"
        }
       ],
       "ref": "ac925c8a-af38-448c-96b5-f9741d6e6632",
       "rows": [
        [
         "0",
         "10955.0",
         "Harry Kane",
         "158"
        ],
        [
         "1",
         "3237.0",
         "Sergio Leonel Agüero del Castillo",
         "118"
        ],
        [
         "2",
         "10960.0",
         "Jamie Vardy",
         "118"
        ],
        [
         "3",
         "3289.0",
         "Romelu Lukaku Menama",
         "116"
        ],
        [
         "4",
         "5458.0",
         "Odion Jude Ighalo",
         "111"
        ]
       ],
       "shape": {
        "columns": 3,
        "rows": 5
       }
      },
      "text/html": [
       "<div>\n",
       "<style scoped>\n",
       "    .dataframe tbody tr th:only-of-type {\n",
       "        vertical-align: middle;\n",
       "    }\n",
       "\n",
       "    .dataframe tbody tr th {\n",
       "        vertical-align: top;\n",
       "    }\n",
       "\n",
       "    .dataframe thead th {\n",
       "        text-align: right;\n",
       "    }\n",
       "</style>\n",
       "<table border=\"1\" class=\"dataframe\">\n",
       "  <thead>\n",
       "    <tr style=\"text-align: right;\">\n",
       "      <th></th>\n",
       "      <th>player_id</th>\n",
       "      <th>player</th>\n",
       "      <th>shot_count</th>\n",
       "    </tr>\n",
       "  </thead>\n",
       "  <tbody>\n",
       "    <tr>\n",
       "      <th>0</th>\n",
       "      <td>10955.0</td>\n",
       "      <td>Harry Kane</td>\n",
       "      <td>158</td>\n",
       "    </tr>\n",
       "    <tr>\n",
       "      <th>1</th>\n",
       "      <td>3237.0</td>\n",
       "      <td>Sergio Leonel Agüero del Castillo</td>\n",
       "      <td>118</td>\n",
       "    </tr>\n",
       "    <tr>\n",
       "      <th>2</th>\n",
       "      <td>10960.0</td>\n",
       "      <td>Jamie Vardy</td>\n",
       "      <td>118</td>\n",
       "    </tr>\n",
       "    <tr>\n",
       "      <th>3</th>\n",
       "      <td>3289.0</td>\n",
       "      <td>Romelu Lukaku Menama</td>\n",
       "      <td>116</td>\n",
       "    </tr>\n",
       "    <tr>\n",
       "      <th>4</th>\n",
       "      <td>5458.0</td>\n",
       "      <td>Odion Jude Ighalo</td>\n",
       "      <td>111</td>\n",
       "    </tr>\n",
       "  </tbody>\n",
       "</table>\n",
       "</div>"
      ],
      "text/plain": [
       "   player_id                             player  shot_count\n",
       "0    10955.0                         Harry Kane         158\n",
       "1     3237.0  Sergio Leonel Agüero del Castillo         118\n",
       "2    10960.0                        Jamie Vardy         118\n",
       "3     3289.0               Romelu Lukaku Menama         116\n",
       "4     5458.0                  Odion Jude Ighalo         111"
      ]
     },
     "execution_count": 11,
     "metadata": {},
     "output_type": "execute_result"
    }
   ],
   "source": [
    "player_shot_df.head()"
   ]
  },
  {
   "cell_type": "markdown",
   "id": "a3dfc93a",
   "metadata": {},
   "source": [
    "## Which team created the most expected goals?"
   ]
  },
  {
   "cell_type": "code",
   "execution_count": 12,
   "id": "f48a5f98",
   "metadata": {},
   "outputs": [],
   "source": [
    "team_xg_df = (\n",
    "    df.groupby(by=[\"team_id\", \"team\"])\n",
    "    .agg({\"shot_statsbomb_xg\": \"sum\"})\n",
    "    .reset_index()\n",
    "    .sort_values(by=\"shot_statsbomb_xg\", ascending=False)\n",
    ")"
   ]
  },
  {
   "cell_type": "code",
   "execution_count": 13,
   "id": "4b8daad0",
   "metadata": {},
   "outputs": [
    {
     "data": {
      "application/vnd.microsoft.datawrangler.viewer.v0+json": {
       "columns": [
        {
         "name": "index",
         "rawType": "int64",
         "type": "integer"
        },
        {
         "name": "team_id",
         "rawType": "int64",
         "type": "integer"
        },
        {
         "name": "team",
         "rawType": "object",
         "type": "string"
        },
        {
         "name": "shot_statsbomb_xg",
         "rawType": "float64",
         "type": "float"
        }
       ],
       "ref": "8dd88272-b1bd-4698-bee4-962089ef98f6",
       "rows": [
        [
         "1",
         "22",
         "Leicester City",
         "66.282170986"
        ],
        [
         "0",
         "1",
         "Arsenal",
         "65.1361259979"
        ],
        [
         "12",
         "36",
         "Manchester City",
         "64.5550554535"
        ],
        [
         "14",
         "38",
         "Tottenham Hotspur",
         "62.3562029292"
        ],
        [
         "3",
         "24",
         "Liverpool",
         "58.3736570603"
        ]
       ],
       "shape": {
        "columns": 3,
        "rows": 5
       }
      },
      "text/html": [
       "<div>\n",
       "<style scoped>\n",
       "    .dataframe tbody tr th:only-of-type {\n",
       "        vertical-align: middle;\n",
       "    }\n",
       "\n",
       "    .dataframe tbody tr th {\n",
       "        vertical-align: top;\n",
       "    }\n",
       "\n",
       "    .dataframe thead th {\n",
       "        text-align: right;\n",
       "    }\n",
       "</style>\n",
       "<table border=\"1\" class=\"dataframe\">\n",
       "  <thead>\n",
       "    <tr style=\"text-align: right;\">\n",
       "      <th></th>\n",
       "      <th>team_id</th>\n",
       "      <th>team</th>\n",
       "      <th>shot_statsbomb_xg</th>\n",
       "    </tr>\n",
       "  </thead>\n",
       "  <tbody>\n",
       "    <tr>\n",
       "      <th>1</th>\n",
       "      <td>22</td>\n",
       "      <td>Leicester City</td>\n",
       "      <td>66.282171</td>\n",
       "    </tr>\n",
       "    <tr>\n",
       "      <th>0</th>\n",
       "      <td>1</td>\n",
       "      <td>Arsenal</td>\n",
       "      <td>65.136126</td>\n",
       "    </tr>\n",
       "    <tr>\n",
       "      <th>12</th>\n",
       "      <td>36</td>\n",
       "      <td>Manchester City</td>\n",
       "      <td>64.555055</td>\n",
       "    </tr>\n",
       "    <tr>\n",
       "      <th>14</th>\n",
       "      <td>38</td>\n",
       "      <td>Tottenham Hotspur</td>\n",
       "      <td>62.356203</td>\n",
       "    </tr>\n",
       "    <tr>\n",
       "      <th>3</th>\n",
       "      <td>24</td>\n",
       "      <td>Liverpool</td>\n",
       "      <td>58.373657</td>\n",
       "    </tr>\n",
       "  </tbody>\n",
       "</table>\n",
       "</div>"
      ],
      "text/plain": [
       "    team_id               team  shot_statsbomb_xg\n",
       "1        22     Leicester City          66.282171\n",
       "0         1            Arsenal          65.136126\n",
       "12       36    Manchester City          64.555055\n",
       "14       38  Tottenham Hotspur          62.356203\n",
       "3        24          Liverpool          58.373657"
      ]
     },
     "execution_count": 13,
     "metadata": {},
     "output_type": "execute_result"
    }
   ],
   "source": [
    "team_xg_df.head()"
   ]
  },
  {
   "cell_type": "code",
   "execution_count": 14,
   "id": "d0d3d9bd",
   "metadata": {},
   "outputs": [],
   "source": [
    "most_xg_team = int(team_xg_df.iloc[0].team_id)"
   ]
  },
  {
   "cell_type": "markdown",
   "id": "c3c2687f",
   "metadata": {},
   "source": [
    "## How many different players were awarded a yellow card?"
   ]
  },
  {
   "cell_type": "code",
   "execution_count": 15,
   "id": "97156647",
   "metadata": {},
   "outputs": [
    {
     "data": {
      "text/plain": [
       "365"
      ]
     },
     "execution_count": 15,
     "metadata": {},
     "output_type": "execute_result"
    }
   ],
   "source": [
    "yellow_count = df[\n",
    "    (df[\"foul_committed_card\"] == \"Yellow Card\") | \n",
    "    (df[\"bad_behaviour_card\"] == \"Yellow Card\")][\"player_id\"].nunique()\n",
    "yellow_count"
   ]
  },
  {
   "cell_type": "markdown",
   "id": "00355e7e",
   "metadata": {},
   "source": [
    "## Which Liverpool player assisted the most shots with their right foot?"
   ]
  },
  {
   "cell_type": "code",
   "execution_count": 16,
   "id": "fba2ad77",
   "metadata": {},
   "outputs": [
    {
     "data": {
      "text/plain": [
       "np.int64(24)"
      ]
     },
     "execution_count": 16,
     "metadata": {},
     "output_type": "execute_result"
    }
   ],
   "source": [
    "chosen_team = df[df[\"team\"] == \"Liverpool\"][\"team_id\"].unique()[0]\n",
    "chosen_team"
   ]
  },
  {
   "cell_type": "markdown",
   "id": "9e29020c",
   "metadata": {},
   "source": [
    "I took into consideration both the goals and the shots that did not convert to goals."
   ]
  },
  {
   "cell_type": "code",
   "execution_count": 17,
   "id": "a7a97549",
   "metadata": {},
   "outputs": [],
   "source": [
    "cb_assist_p_df = (\n",
    "    df[\n",
    "        ((df[\"pass_shot_assist\"]) | (df[\"pass_goal_assist\"]))\n",
    "        & (df[\"pass_body_part\"] == \"Right Foot\")\n",
    "        & (df[\"team_id\"] == chosen_team)                        # Chosen team id\n",
    "    ]\n",
    "    .groupby(by=[\"player_id\", \"player\"])\n",
    "    .size()\n",
    "    .reset_index(name=\"shot_assist_count\")\n",
    "    .sort_values(by=\"shot_assist_count\", ascending=False)\n",
    ")"
   ]
  },
  {
   "cell_type": "code",
   "execution_count": 18,
   "id": "006b07b8",
   "metadata": {},
   "outputs": [
    {
     "data": {
      "application/vnd.microsoft.datawrangler.viewer.v0+json": {
       "columns": [
        {
         "name": "index",
         "rawType": "int64",
         "type": "integer"
        },
        {
         "name": "player_id",
         "rawType": "float64",
         "type": "float"
        },
        {
         "name": "player",
         "rawType": "object",
         "type": "string"
        },
        {
         "name": "shot_assist_count",
         "rawType": "int64",
         "type": "integer"
        }
       ],
       "ref": "b71c7766-9f36-4455-8f3e-74c465e65413",
       "rows": [
        [
         "2",
         "3473.0",
         "James Philip Milner",
         "42"
        ],
        [
         "6",
         "3501.0",
         "Philippe Coutinho Correia",
         "41"
        ],
        [
         "10",
         "3535.0",
         "Roberto Firmino Barbosa de Oliveira",
         "31"
        ],
        [
         "13",
         "4090.0",
         "Adam David Lallana",
         "27"
        ],
        [
         "15",
         "4590.0",
         "Nathaniel Edwin Clyne",
         "25"
        ]
       ],
       "shape": {
        "columns": 3,
        "rows": 5
       }
      },
      "text/html": [
       "<div>\n",
       "<style scoped>\n",
       "    .dataframe tbody tr th:only-of-type {\n",
       "        vertical-align: middle;\n",
       "    }\n",
       "\n",
       "    .dataframe tbody tr th {\n",
       "        vertical-align: top;\n",
       "    }\n",
       "\n",
       "    .dataframe thead th {\n",
       "        text-align: right;\n",
       "    }\n",
       "</style>\n",
       "<table border=\"1\" class=\"dataframe\">\n",
       "  <thead>\n",
       "    <tr style=\"text-align: right;\">\n",
       "      <th></th>\n",
       "      <th>player_id</th>\n",
       "      <th>player</th>\n",
       "      <th>shot_assist_count</th>\n",
       "    </tr>\n",
       "  </thead>\n",
       "  <tbody>\n",
       "    <tr>\n",
       "      <th>2</th>\n",
       "      <td>3473.0</td>\n",
       "      <td>James Philip Milner</td>\n",
       "      <td>42</td>\n",
       "    </tr>\n",
       "    <tr>\n",
       "      <th>6</th>\n",
       "      <td>3501.0</td>\n",
       "      <td>Philippe Coutinho Correia</td>\n",
       "      <td>41</td>\n",
       "    </tr>\n",
       "    <tr>\n",
       "      <th>10</th>\n",
       "      <td>3535.0</td>\n",
       "      <td>Roberto Firmino Barbosa de Oliveira</td>\n",
       "      <td>31</td>\n",
       "    </tr>\n",
       "    <tr>\n",
       "      <th>13</th>\n",
       "      <td>4090.0</td>\n",
       "      <td>Adam David Lallana</td>\n",
       "      <td>27</td>\n",
       "    </tr>\n",
       "    <tr>\n",
       "      <th>15</th>\n",
       "      <td>4590.0</td>\n",
       "      <td>Nathaniel Edwin Clyne</td>\n",
       "      <td>25</td>\n",
       "    </tr>\n",
       "  </tbody>\n",
       "</table>\n",
       "</div>"
      ],
      "text/plain": [
       "    player_id                               player  shot_assist_count\n",
       "2      3473.0                  James Philip Milner                 42\n",
       "6      3501.0            Philippe Coutinho Correia                 41\n",
       "10     3535.0  Roberto Firmino Barbosa de Oliveira                 31\n",
       "13     4090.0                   Adam David Lallana                 27\n",
       "15     4590.0                Nathaniel Edwin Clyne                 25"
      ]
     },
     "execution_count": 18,
     "metadata": {},
     "output_type": "execute_result"
    }
   ],
   "source": [
    "cb_assist_p_df.head()"
   ]
  },
  {
   "cell_type": "markdown",
   "id": "c5e3f84f",
   "metadata": {},
   "source": [
    "## Which Liverpool player applied the most counterpressures?"
   ]
  },
  {
   "cell_type": "code",
   "execution_count": 19,
   "id": "a1a32555",
   "metadata": {},
   "outputs": [],
   "source": [
    "counterpress_player_df = (\n",
    "    df[(df[\"counterpress\"]) & (df[\"team_id\"] == chosen_team)]\n",
    "    .groupby(by=[\"player_id\", \"player\"])\n",
    "    .size()\n",
    "    .reset_index(name=\"counterpressure_count\")\n",
    "    .sort_values(by=\"counterpressure_count\", ascending=False)\n",
    ")"
   ]
  },
  {
   "cell_type": "code",
   "execution_count": 20,
   "id": "a228bf54",
   "metadata": {},
   "outputs": [
    {
     "data": {
      "application/vnd.microsoft.datawrangler.viewer.v0+json": {
       "columns": [
        {
         "name": "index",
         "rawType": "int64",
         "type": "integer"
        },
        {
         "name": "player_id",
         "rawType": "float64",
         "type": "float"
        },
        {
         "name": "player",
         "rawType": "object",
         "type": "string"
        },
        {
         "name": "counterpressure_count",
         "rawType": "int64",
         "type": "integer"
        }
       ],
       "ref": "58c01a31-da5a-45d4-849e-1ad4c9187ade",
       "rows": [
        [
         "18",
         "7780.0",
         "Lucas Pezzini Leiva",
         "257"
        ],
        [
         "2",
         "3473.0",
         "James Philip Milner",
         "252"
        ],
        [
         "4",
         "3493.0",
         "Emre Can",
         "248"
        ],
        [
         "10",
         "3535.0",
         "Roberto Firmino Barbosa de Oliveira",
         "240"
        ],
        [
         "13",
         "4090.0",
         "Adam David Lallana",
         "211"
        ]
       ],
       "shape": {
        "columns": 3,
        "rows": 5
       }
      },
      "text/html": [
       "<div>\n",
       "<style scoped>\n",
       "    .dataframe tbody tr th:only-of-type {\n",
       "        vertical-align: middle;\n",
       "    }\n",
       "\n",
       "    .dataframe tbody tr th {\n",
       "        vertical-align: top;\n",
       "    }\n",
       "\n",
       "    .dataframe thead th {\n",
       "        text-align: right;\n",
       "    }\n",
       "</style>\n",
       "<table border=\"1\" class=\"dataframe\">\n",
       "  <thead>\n",
       "    <tr style=\"text-align: right;\">\n",
       "      <th></th>\n",
       "      <th>player_id</th>\n",
       "      <th>player</th>\n",
       "      <th>counterpressure_count</th>\n",
       "    </tr>\n",
       "  </thead>\n",
       "  <tbody>\n",
       "    <tr>\n",
       "      <th>18</th>\n",
       "      <td>7780.0</td>\n",
       "      <td>Lucas Pezzini Leiva</td>\n",
       "      <td>257</td>\n",
       "    </tr>\n",
       "    <tr>\n",
       "      <th>2</th>\n",
       "      <td>3473.0</td>\n",
       "      <td>James Philip Milner</td>\n",
       "      <td>252</td>\n",
       "    </tr>\n",
       "    <tr>\n",
       "      <th>4</th>\n",
       "      <td>3493.0</td>\n",
       "      <td>Emre Can</td>\n",
       "      <td>248</td>\n",
       "    </tr>\n",
       "    <tr>\n",
       "      <th>10</th>\n",
       "      <td>3535.0</td>\n",
       "      <td>Roberto Firmino Barbosa de Oliveira</td>\n",
       "      <td>240</td>\n",
       "    </tr>\n",
       "    <tr>\n",
       "      <th>13</th>\n",
       "      <td>4090.0</td>\n",
       "      <td>Adam David Lallana</td>\n",
       "      <td>211</td>\n",
       "    </tr>\n",
       "  </tbody>\n",
       "</table>\n",
       "</div>"
      ],
      "text/plain": [
       "    player_id                               player  counterpressure_count\n",
       "18     7780.0                  Lucas Pezzini Leiva                    257\n",
       "2      3473.0                  James Philip Milner                    252\n",
       "4      3493.0                             Emre Can                    248\n",
       "10     3535.0  Roberto Firmino Barbosa de Oliveira                    240\n",
       "13     4090.0                   Adam David Lallana                    211"
      ]
     },
     "execution_count": 20,
     "metadata": {},
     "output_type": "execute_result"
    }
   ],
   "source": [
    "counterpress_player_df.head()"
   ]
  },
  {
   "cell_type": "markdown",
   "id": "e2918b6d",
   "metadata": {},
   "source": [
    "# Task 2"
   ]
  },
  {
   "cell_type": "markdown",
   "id": "fc7686bf",
   "metadata": {},
   "source": [
    "## Aerial Wins"
   ]
  },
  {
   "cell_type": "code",
   "execution_count": 21,
   "id": "af9bb652",
   "metadata": {},
   "outputs": [],
   "source": [
    "def get_aerial_wins(df: pd.DataFrame) -> pd.DataFrame:\n",
    "    \"\"\"Extract the number of aerial wins for player.\n",
    "\n",
    "    Parameters\n",
    "    ----------\n",
    "    df : pd.DataFrame\n",
    "        Event data\n",
    "\n",
    "    Returns\n",
    "    -------\n",
    "    pd.DataFrame\n",
    "        DataFrame with player_id, aerial_win_count as columns\n",
    "    \"\"\"\n",
    "    return (\n",
    "        df[\n",
    "            (df[\"clearance_aerial_won\"])\n",
    "            | (df[\"miscontrol_aerial_won\"])\n",
    "            | (df[\"pass_aerial_won\"])\n",
    "            | (df[\"shot_aerial_won\"])\n",
    "        ]\n",
    "        .groupby(by=[\"player_id\",\"player\"])\n",
    "        .size()\n",
    "        .reset_index(name=\"aerial_win_count\")\n",
    "        .sort_values(by=\"aerial_win_count\", ascending=False, ignore_index=True)\n",
    "    )"
   ]
  },
  {
   "cell_type": "code",
   "execution_count": 22,
   "id": "75d0b505",
   "metadata": {},
   "outputs": [],
   "source": [
    "aerial_win_players = get_aerial_wins(df=df)"
   ]
  },
  {
   "cell_type": "markdown",
   "id": "e40b7bee",
   "metadata": {},
   "source": [
    "### Best 5 players according to Aerial Wins"
   ]
  },
  {
   "cell_type": "code",
   "execution_count": 23,
   "id": "2bd2c3ea",
   "metadata": {},
   "outputs": [
    {
     "data": {
      "application/vnd.microsoft.datawrangler.viewer.v0+json": {
       "columns": [
        {
         "name": "index",
         "rawType": "int64",
         "type": "integer"
        },
        {
         "name": "player_id",
         "rawType": "float64",
         "type": "float"
        },
        {
         "name": "player",
         "rawType": "object",
         "type": "string"
        },
        {
         "name": "aerial_win_count",
         "rawType": "int64",
         "type": "integer"
        }
       ],
       "ref": "a84c2611-4c92-4545-ab1a-f275fadcec70",
       "rows": [
        [
         "0",
         "3454.0",
         "Troy Deeney",
         "278"
        ],
        [
         "1",
         "19362.0",
         "Rudy Gestede",
         "239"
        ],
        [
         "2",
         "3669.0",
         "Virgil van Dijk",
         "203"
        ],
        [
         "3",
         "10958.0",
         "Chris Smalling",
         "199"
        ],
        [
         "4",
         "3523.0",
         "Craig Dawson",
         "157"
        ]
       ],
       "shape": {
        "columns": 3,
        "rows": 5
       }
      },
      "text/html": [
       "<div>\n",
       "<style scoped>\n",
       "    .dataframe tbody tr th:only-of-type {\n",
       "        vertical-align: middle;\n",
       "    }\n",
       "\n",
       "    .dataframe tbody tr th {\n",
       "        vertical-align: top;\n",
       "    }\n",
       "\n",
       "    .dataframe thead th {\n",
       "        text-align: right;\n",
       "    }\n",
       "</style>\n",
       "<table border=\"1\" class=\"dataframe\">\n",
       "  <thead>\n",
       "    <tr style=\"text-align: right;\">\n",
       "      <th></th>\n",
       "      <th>player_id</th>\n",
       "      <th>player</th>\n",
       "      <th>aerial_win_count</th>\n",
       "    </tr>\n",
       "  </thead>\n",
       "  <tbody>\n",
       "    <tr>\n",
       "      <th>0</th>\n",
       "      <td>3454.0</td>\n",
       "      <td>Troy Deeney</td>\n",
       "      <td>278</td>\n",
       "    </tr>\n",
       "    <tr>\n",
       "      <th>1</th>\n",
       "      <td>19362.0</td>\n",
       "      <td>Rudy Gestede</td>\n",
       "      <td>239</td>\n",
       "    </tr>\n",
       "    <tr>\n",
       "      <th>2</th>\n",
       "      <td>3669.0</td>\n",
       "      <td>Virgil van Dijk</td>\n",
       "      <td>203</td>\n",
       "    </tr>\n",
       "    <tr>\n",
       "      <th>3</th>\n",
       "      <td>10958.0</td>\n",
       "      <td>Chris Smalling</td>\n",
       "      <td>199</td>\n",
       "    </tr>\n",
       "    <tr>\n",
       "      <th>4</th>\n",
       "      <td>3523.0</td>\n",
       "      <td>Craig Dawson</td>\n",
       "      <td>157</td>\n",
       "    </tr>\n",
       "  </tbody>\n",
       "</table>\n",
       "</div>"
      ],
      "text/plain": [
       "   player_id           player  aerial_win_count\n",
       "0     3454.0      Troy Deeney               278\n",
       "1    19362.0     Rudy Gestede               239\n",
       "2     3669.0  Virgil van Dijk               203\n",
       "3    10958.0   Chris Smalling               199\n",
       "4     3523.0     Craig Dawson               157"
      ]
     },
     "execution_count": 23,
     "metadata": {},
     "output_type": "execute_result"
    }
   ],
   "source": [
    "aerial_win_players.head(5)"
   ]
  },
  {
   "cell_type": "markdown",
   "id": "6b472bb0",
   "metadata": {},
   "source": [
    "## Aerial Win Percentage"
   ]
  },
  {
   "cell_type": "code",
   "execution_count": 24,
   "id": "a972cccf",
   "metadata": {},
   "outputs": [],
   "source": [
    "def get_aerial_wins_perc(df: pd.DataFrame) -> pd.DataFrame:\n",
    "    \"\"\"First, extract the Aerial Win count with the method 'get_aerial_wins'.\n",
    "    Then, extract the number of lost aerial duels using the feature 'duel_type'\n",
    "    with value \"Aerial Lost\" (id = 10); I did not use the feature 'is_aerial_won' = False\n",
    "    because it is set to false also for all the events, even those which are not duels.\n",
    "    Eventually, compute the percentage.\n",
    "\n",
    "    Parameters\n",
    "    ----------\n",
    "    df : pd.DataFrame\n",
    "        Event data\n",
    "\n",
    "    Returns\n",
    "    -------\n",
    "    pd.DataFrame\n",
    "        DataFrame with player_id, aerial_win_percentage\n",
    "    \"\"\"\n",
    "    # Get the Aerial wins for each player with the get_aerial_wins method\n",
    "    aerial_wins_df = get_aerial_wins(df=df)\n",
    "    # Get only the aerial lost events\n",
    "    aerial_lost_df = (\n",
    "        df[\n",
    "            (df[\"duel_type\"] == \"Aerial Lost\")  # Duel of type \"Aerial Lost\"\n",
    "        ]\n",
    "        .groupby(by=\"player_id\")\n",
    "        .size()\n",
    "        .reset_index(name=\"aerial_lost_count\")\n",
    "    )\n",
    "    # Join the two dataframes with aerial wins and lost counts\n",
    "    aerial_w_l_df = pd.merge(\n",
    "        left=aerial_wins_df, right=aerial_lost_df, how=\"inner\", on=\"player_id\"\n",
    "    )\n",
    "    # Compute the percentage\n",
    "    aerial_w_l_df[\"aerial_total_count\"] = (\n",
    "        aerial_w_l_df[\"aerial_win_count\"] + aerial_w_l_df[\"aerial_lost_count\"]\n",
    "    )\n",
    "    aerial_w_l_df[\"aerial_win_percentage\"] = (\n",
    "        aerial_w_l_df[\"aerial_win_count\"] / aerial_w_l_df[\"aerial_total_count\"]\n",
    "    )\n",
    "\n",
    "    aerial_w_l_df = aerial_w_l_df.drop(\n",
    "        columns=[\"aerial_win_count\", \"aerial_lost_count\", \"aerial_total_count\"]\n",
    "    )\n",
    "\n",
    "    return aerial_w_l_df.sort_values(\n",
    "        by=\"aerial_win_percentage\", ascending=False, ignore_index=True\n",
    "    )"
   ]
  },
  {
   "cell_type": "code",
   "execution_count": 25,
   "id": "585ba2e3",
   "metadata": {},
   "outputs": [],
   "source": [
    "aerial_win_perc_players = get_aerial_wins_perc(df=df)"
   ]
  },
  {
   "cell_type": "code",
   "execution_count": 26,
   "id": "bab4a690",
   "metadata": {},
   "outputs": [
    {
     "data": {
      "application/vnd.microsoft.datawrangler.viewer.v0+json": {
       "columns": [
        {
         "name": "index",
         "rawType": "int64",
         "type": "integer"
        },
        {
         "name": "player_id",
         "rawType": "float64",
         "type": "float"
        },
        {
         "name": "player",
         "rawType": "object",
         "type": "string"
        },
        {
         "name": "aerial_win_percentage",
         "rawType": "float64",
         "type": "float"
        }
       ],
       "ref": "c6fedb65-ea9a-4d0e-a1c0-f974f42e4b92",
       "rows": [
        [
         "0",
         "4428.0",
         "Mathieu Debuchy",
         "0.875"
        ],
        [
         "1",
         "3101.0",
         "Vincent Kompany",
         "0.8636363636363636"
        ],
        [
         "2",
         "42946.0",
         "Guangtai Jiang",
         "0.8333333333333334"
        ],
        [
         "3",
         "3471.0",
         "Dejan Lovren",
         "0.8071428571428572"
        ],
        [
         "4",
         "4826.0",
         "Yohan Benalouane",
         "0.8"
        ]
       ],
       "shape": {
        "columns": 3,
        "rows": 5
       }
      },
      "text/html": [
       "<div>\n",
       "<style scoped>\n",
       "    .dataframe tbody tr th:only-of-type {\n",
       "        vertical-align: middle;\n",
       "    }\n",
       "\n",
       "    .dataframe tbody tr th {\n",
       "        vertical-align: top;\n",
       "    }\n",
       "\n",
       "    .dataframe thead th {\n",
       "        text-align: right;\n",
       "    }\n",
       "</style>\n",
       "<table border=\"1\" class=\"dataframe\">\n",
       "  <thead>\n",
       "    <tr style=\"text-align: right;\">\n",
       "      <th></th>\n",
       "      <th>player_id</th>\n",
       "      <th>player</th>\n",
       "      <th>aerial_win_percentage</th>\n",
       "    </tr>\n",
       "  </thead>\n",
       "  <tbody>\n",
       "    <tr>\n",
       "      <th>0</th>\n",
       "      <td>4428.0</td>\n",
       "      <td>Mathieu Debuchy</td>\n",
       "      <td>0.875000</td>\n",
       "    </tr>\n",
       "    <tr>\n",
       "      <th>1</th>\n",
       "      <td>3101.0</td>\n",
       "      <td>Vincent Kompany</td>\n",
       "      <td>0.863636</td>\n",
       "    </tr>\n",
       "    <tr>\n",
       "      <th>2</th>\n",
       "      <td>42946.0</td>\n",
       "      <td>Guangtai Jiang</td>\n",
       "      <td>0.833333</td>\n",
       "    </tr>\n",
       "    <tr>\n",
       "      <th>3</th>\n",
       "      <td>3471.0</td>\n",
       "      <td>Dejan Lovren</td>\n",
       "      <td>0.807143</td>\n",
       "    </tr>\n",
       "    <tr>\n",
       "      <th>4</th>\n",
       "      <td>4826.0</td>\n",
       "      <td>Yohan Benalouane</td>\n",
       "      <td>0.800000</td>\n",
       "    </tr>\n",
       "  </tbody>\n",
       "</table>\n",
       "</div>"
      ],
      "text/plain": [
       "   player_id            player  aerial_win_percentage\n",
       "0     4428.0   Mathieu Debuchy               0.875000\n",
       "1     3101.0   Vincent Kompany               0.863636\n",
       "2    42946.0    Guangtai Jiang               0.833333\n",
       "3     3471.0      Dejan Lovren               0.807143\n",
       "4     4826.0  Yohan Benalouane               0.800000"
      ]
     },
     "execution_count": 26,
     "metadata": {},
     "output_type": "execute_result"
    }
   ],
   "source": [
    "aerial_win_perc_players.head()"
   ]
  },
  {
   "cell_type": "markdown",
   "id": "10654452",
   "metadata": {},
   "source": [
    "## Long Balls"
   ]
  },
  {
   "cell_type": "markdown",
   "id": "22b1f8fa",
   "metadata": {},
   "source": [
    "Make sure that the completed passes have the outcome feature equal to null."
   ]
  },
  {
   "cell_type": "code",
   "execution_count": 27,
   "id": "606dfc4d",
   "metadata": {},
   "outputs": [],
   "source": [
    "def get_long_balls(df: pd.DataFrame) -> pd.DataFrame:\n",
    "    \"\"\"Extract the completed passes with length more than 35 yards.\n",
    "    The completed passes are those with the outcome equal to null, as specified on\n",
    "    https://statsbomb.com/wp-content/uploads/2022/08/Working-with-R.pdf.\n",
    "\n",
    "    Parameters\n",
    "    ----------\n",
    "    df : pd.DataFrame\n",
    "        Event data\n",
    "\n",
    "    Returns\n",
    "    -------\n",
    "    pd.DataFrame\n",
    "        DataFrame with player_id, long_balls\n",
    "    \"\"\"\n",
    "    return (\n",
    "        df[\n",
    "            (df[\"type\"] == \"Pass\")  # Pass id\n",
    "            & (df[\"pass_length\"] >= 35)\n",
    "            & (df[\"pass_outcome\"].isna())\n",
    "        ]\n",
    "        .groupby(by=[\"player_id\",\"player\"])\n",
    "        .size()\n",
    "        .reset_index(name=\"long_balls\")\n",
    "        .sort_values(by=\"long_balls\", ascending=False, ignore_index=True)\n",
    "    )"
   ]
  },
  {
   "cell_type": "code",
   "execution_count": 28,
   "id": "bc12eede",
   "metadata": {},
   "outputs": [],
   "source": [
    "long_balls_players = get_long_balls(df=df)"
   ]
  },
  {
   "cell_type": "code",
   "execution_count": 29,
   "id": "b72161da",
   "metadata": {},
   "outputs": [
    {
     "data": {
      "application/vnd.microsoft.datawrangler.viewer.v0+json": {
       "columns": [
        {
         "name": "index",
         "rawType": "int64",
         "type": "integer"
        },
        {
         "name": "player_id",
         "rawType": "float64",
         "type": "float"
        },
        {
         "name": "player",
         "rawType": "object",
         "type": "string"
        },
        {
         "name": "long_balls",
         "rawType": "int64",
         "type": "integer"
        }
       ],
       "ref": "16c577b0-603c-47ab-9e90-bfa8a6bfbe4e",
       "rows": [
        [
         "0",
         "3522.0",
         "Heurelho da Silva Gomes",
         "387"
        ],
        [
         "1",
         "3815.0",
         "Kasper Schmeichel",
         "359"
        ],
        [
         "2",
         "3461.0",
         "Petr Čech",
         "316"
        ],
        [
         "3",
         "20005.0",
         "Toby Alderweireld",
         "315"
        ],
        [
         "4",
         "3262.0",
         "Łukasz Fabiański",
         "296"
        ]
       ],
       "shape": {
        "columns": 3,
        "rows": 5
       }
      },
      "text/html": [
       "<div>\n",
       "<style scoped>\n",
       "    .dataframe tbody tr th:only-of-type {\n",
       "        vertical-align: middle;\n",
       "    }\n",
       "\n",
       "    .dataframe tbody tr th {\n",
       "        vertical-align: top;\n",
       "    }\n",
       "\n",
       "    .dataframe thead th {\n",
       "        text-align: right;\n",
       "    }\n",
       "</style>\n",
       "<table border=\"1\" class=\"dataframe\">\n",
       "  <thead>\n",
       "    <tr style=\"text-align: right;\">\n",
       "      <th></th>\n",
       "      <th>player_id</th>\n",
       "      <th>player</th>\n",
       "      <th>long_balls</th>\n",
       "    </tr>\n",
       "  </thead>\n",
       "  <tbody>\n",
       "    <tr>\n",
       "      <th>0</th>\n",
       "      <td>3522.0</td>\n",
       "      <td>Heurelho da Silva Gomes</td>\n",
       "      <td>387</td>\n",
       "    </tr>\n",
       "    <tr>\n",
       "      <th>1</th>\n",
       "      <td>3815.0</td>\n",
       "      <td>Kasper Schmeichel</td>\n",
       "      <td>359</td>\n",
       "    </tr>\n",
       "    <tr>\n",
       "      <th>2</th>\n",
       "      <td>3461.0</td>\n",
       "      <td>Petr Čech</td>\n",
       "      <td>316</td>\n",
       "    </tr>\n",
       "    <tr>\n",
       "      <th>3</th>\n",
       "      <td>20005.0</td>\n",
       "      <td>Toby Alderweireld</td>\n",
       "      <td>315</td>\n",
       "    </tr>\n",
       "    <tr>\n",
       "      <th>4</th>\n",
       "      <td>3262.0</td>\n",
       "      <td>Łukasz Fabiański</td>\n",
       "      <td>296</td>\n",
       "    </tr>\n",
       "  </tbody>\n",
       "</table>\n",
       "</div>"
      ],
      "text/plain": [
       "   player_id                   player  long_balls\n",
       "0     3522.0  Heurelho da Silva Gomes         387\n",
       "1     3815.0        Kasper Schmeichel         359\n",
       "2     3461.0                Petr Čech         316\n",
       "3    20005.0        Toby Alderweireld         315\n",
       "4     3262.0         Łukasz Fabiański         296"
      ]
     },
     "execution_count": 29,
     "metadata": {},
     "output_type": "execute_result"
    }
   ],
   "source": [
    "long_balls_players.head(5)"
   ]
  },
  {
   "cell_type": "markdown",
   "id": "3cf65ff1",
   "metadata": {},
   "source": [
    "## Final Pass"
   ]
  },
  {
   "cell_type": "markdown",
   "id": "e4683c98",
   "metadata": {},
   "source": [
    "*Final Pass* is defined as the ability to create goal-scoring opportunities for teammates by passing the ball."
   ]
  },
  {
   "cell_type": "markdown",
   "id": "2bb4573a",
   "metadata": {},
   "source": [
    "I used the following metrics to assess the players' Final Pass capabilities:\n",
    "- Assists.\n",
    "- xG Assisted.\n",
    "- Key passes.\n",
    "- Key passes under pressure.\n",
    "- Progressive passes.\n",
    "\n"
   ]
  },
  {
   "cell_type": "markdown",
   "id": "5a44aec1",
   "metadata": {},
   "source": [
    "### Assist"
   ]
  },
  {
   "cell_type": "code",
   "execution_count": 30,
   "id": "00745413",
   "metadata": {},
   "outputs": [],
   "source": [
    "def get_assist(df: pd.DataFrame) -> pd.DataFrame:\n",
    "    \"\"\"Get the number of goals assisted.\n",
    "\n",
    "    Parameters\n",
    "    ----------\n",
    "    df : pd.DataFrame\n",
    "        Event data\n",
    "\n",
    "    Returns\n",
    "    -------\n",
    "    pd.DataFrame\n",
    "        DataFrame with player_id, assists\n",
    "    \"\"\"\n",
    "    return (\n",
    "        df[df[\"pass_goal_assist\"]==True]\n",
    "        .groupby(by=[\"player_id\", \"player\"])\n",
    "        .size()\n",
    "        .reset_index(name=\"assists\")\n",
    "        .sort_values(by=\"assists\", ascending=False, ignore_index=False)\n",
    "    )"
   ]
  },
  {
   "cell_type": "code",
   "execution_count": 31,
   "id": "6a566745",
   "metadata": {},
   "outputs": [],
   "source": [
    "assist_players = get_assist(df=df)"
   ]
  },
  {
   "cell_type": "code",
   "execution_count": 32,
   "id": "5ff52a83",
   "metadata": {},
   "outputs": [
    {
     "data": {
      "application/vnd.microsoft.datawrangler.viewer.v0+json": {
       "columns": [
        {
         "name": "index",
         "rawType": "int64",
         "type": "integer"
        },
        {
         "name": "player_id",
         "rawType": "float64",
         "type": "float"
        },
        {
         "name": "player",
         "rawType": "object",
         "type": "string"
        },
        {
         "name": "assists",
         "rawType": "int64",
         "type": "integer"
        }
       ],
       "ref": "95472dfe-989b-4e6a-b160-98c3a1d0ec6d",
       "rows": [
        [
         "70",
         "3496.0",
         "Mesut Özil",
         "19"
        ],
        [
         "68",
         "3491.0",
         "Dimitri Payet",
         "12"
        ],
        [
         "3",
         "3043.0",
         "Christian Dannemann Eriksen",
         "12"
        ],
        [
         "65",
         "3473.0",
         "James Philip Milner",
         "11"
        ],
        [
         "132",
         "3831.0",
         "Dušan Tadić",
         "11"
        ]
       ],
       "shape": {
        "columns": 3,
        "rows": 5
       }
      },
      "text/html": [
       "<div>\n",
       "<style scoped>\n",
       "    .dataframe tbody tr th:only-of-type {\n",
       "        vertical-align: middle;\n",
       "    }\n",
       "\n",
       "    .dataframe tbody tr th {\n",
       "        vertical-align: top;\n",
       "    }\n",
       "\n",
       "    .dataframe thead th {\n",
       "        text-align: right;\n",
       "    }\n",
       "</style>\n",
       "<table border=\"1\" class=\"dataframe\">\n",
       "  <thead>\n",
       "    <tr style=\"text-align: right;\">\n",
       "      <th></th>\n",
       "      <th>player_id</th>\n",
       "      <th>player</th>\n",
       "      <th>assists</th>\n",
       "    </tr>\n",
       "  </thead>\n",
       "  <tbody>\n",
       "    <tr>\n",
       "      <th>70</th>\n",
       "      <td>3496.0</td>\n",
       "      <td>Mesut Özil</td>\n",
       "      <td>19</td>\n",
       "    </tr>\n",
       "    <tr>\n",
       "      <th>68</th>\n",
       "      <td>3491.0</td>\n",
       "      <td>Dimitri Payet</td>\n",
       "      <td>12</td>\n",
       "    </tr>\n",
       "    <tr>\n",
       "      <th>3</th>\n",
       "      <td>3043.0</td>\n",
       "      <td>Christian Dannemann Eriksen</td>\n",
       "      <td>12</td>\n",
       "    </tr>\n",
       "    <tr>\n",
       "      <th>65</th>\n",
       "      <td>3473.0</td>\n",
       "      <td>James Philip Milner</td>\n",
       "      <td>11</td>\n",
       "    </tr>\n",
       "    <tr>\n",
       "      <th>132</th>\n",
       "      <td>3831.0</td>\n",
       "      <td>Dušan Tadić</td>\n",
       "      <td>11</td>\n",
       "    </tr>\n",
       "  </tbody>\n",
       "</table>\n",
       "</div>"
      ],
      "text/plain": [
       "     player_id                       player  assists\n",
       "70      3496.0                   Mesut Özil       19\n",
       "68      3491.0                Dimitri Payet       12\n",
       "3       3043.0  Christian Dannemann Eriksen       12\n",
       "65      3473.0          James Philip Milner       11\n",
       "132     3831.0                  Dušan Tadić       11"
      ]
     },
     "execution_count": 32,
     "metadata": {},
     "output_type": "execute_result"
    }
   ],
   "source": [
    "assist_players.head()"
   ]
  },
  {
   "cell_type": "markdown",
   "id": "3fe60b81",
   "metadata": {},
   "source": [
    "### xG assisted"
   ]
  },
  {
   "cell_type": "code",
   "execution_count": 33,
   "id": "a06fa920",
   "metadata": {},
   "outputs": [],
   "source": [
    "def get_xga(df: pd.DataFrame) -> pd.DataFrame:\n",
    "    \"\"\"Compute the xG of the shots assisted by each player.\n",
    "    Use the 'pass_assisted_shot_id' feature to have the corresponding shot for each assist.\n",
    "\n",
    "    Parameters\n",
    "    ----------\n",
    "    df : pd.DataFrame\n",
    "        Event data\n",
    "\n",
    "    Returns\n",
    "    -------\n",
    "    pd.DataFrame\n",
    "        DataFrame with player_id, xg_assist\n",
    "    \"\"\"\n",
    "    support_df = pd.merge(\n",
    "        left=df,\n",
    "        right=df,\n",
    "        left_on=\"pass_assisted_shot_id\",\n",
    "        right_on=\"id\",\n",
    "        how=\"inner\",\n",
    "        suffixes=[\"_assist\", \"_shot\"],\n",
    "    )\n",
    "\n",
    "    return (\n",
    "        support_df.groupby(by=[\"player_id_assist\", \"player_assist\"])\n",
    "        .agg({\"shot_statsbomb_xg_shot\": \"sum\"})\n",
    "        .reset_index()\n",
    "        .rename(\n",
    "            columns={\n",
    "                \"player_id_assist\": \"player_id\",\n",
    "                \"player_assist\": \"player\",\n",
    "                \"shot_statsbomb_xg_shot\": \"xg_assist\",\n",
    "            }\n",
    "        )\n",
    "        .sort_values(by=\"xg_assist\", ascending=False, ignore_index=True)\n",
    "    )"
   ]
  },
  {
   "cell_type": "code",
   "execution_count": 34,
   "id": "f5c7074f",
   "metadata": {},
   "outputs": [],
   "source": [
    "xga_players = get_xga(df=df)"
   ]
  },
  {
   "cell_type": "code",
   "execution_count": 35,
   "id": "45ba3d3d",
   "metadata": {},
   "outputs": [
    {
     "data": {
      "application/vnd.microsoft.datawrangler.viewer.v0+json": {
       "columns": [
        {
         "name": "index",
         "rawType": "int64",
         "type": "integer"
        },
        {
         "name": "player_id",
         "rawType": "float64",
         "type": "float"
        },
        {
         "name": "player",
         "rawType": "object",
         "type": "string"
        },
        {
         "name": "xg_assist",
         "rawType": "float64",
         "type": "float"
        }
       ],
       "ref": "1eca6973-00d2-466c-8a76-9670cbaf6700",
       "rows": [
        [
         "0",
         "3496.0",
         "Mesut Özil",
         "13.8245627795"
        ],
        [
         "1",
         "3491.0",
         "Dimitri Payet",
         "10.8740154985"
        ],
        [
         "2",
         "3814.0",
         "Riyad Mahrez",
         "9.525557537"
        ],
        [
         "3",
         "3089.0",
         "Kevin De Bruyne",
         "9.401009442"
        ],
        [
         "4",
         "3043.0",
         "Christian Dannemann Eriksen",
         "8.6744732293"
        ],
        [
         "5",
         "3585.0",
         "Erik Lamela",
         "8.588499676"
        ],
        [
         "6",
         "3454.0",
         "Troy Deeney",
         "8.2467848542"
        ],
        [
         "7",
         "3478.0",
         "Francesc Fàbregas i Soler",
         "8.067357749"
        ],
        [
         "8",
         "3385.0",
         "Alexis Alejandro Sánchez Sánchez",
         "7.617406035"
        ],
        [
         "9",
         "3307.0",
         "Marc Albrighton",
         "7.513881211"
        ]
       ],
       "shape": {
        "columns": 3,
        "rows": 10
       }
      },
      "text/html": [
       "<div>\n",
       "<style scoped>\n",
       "    .dataframe tbody tr th:only-of-type {\n",
       "        vertical-align: middle;\n",
       "    }\n",
       "\n",
       "    .dataframe tbody tr th {\n",
       "        vertical-align: top;\n",
       "    }\n",
       "\n",
       "    .dataframe thead th {\n",
       "        text-align: right;\n",
       "    }\n",
       "</style>\n",
       "<table border=\"1\" class=\"dataframe\">\n",
       "  <thead>\n",
       "    <tr style=\"text-align: right;\">\n",
       "      <th></th>\n",
       "      <th>player_id</th>\n",
       "      <th>player</th>\n",
       "      <th>xg_assist</th>\n",
       "    </tr>\n",
       "  </thead>\n",
       "  <tbody>\n",
       "    <tr>\n",
       "      <th>0</th>\n",
       "      <td>3496.0</td>\n",
       "      <td>Mesut Özil</td>\n",
       "      <td>13.824563</td>\n",
       "    </tr>\n",
       "    <tr>\n",
       "      <th>1</th>\n",
       "      <td>3491.0</td>\n",
       "      <td>Dimitri Payet</td>\n",
       "      <td>10.874015</td>\n",
       "    </tr>\n",
       "    <tr>\n",
       "      <th>2</th>\n",
       "      <td>3814.0</td>\n",
       "      <td>Riyad Mahrez</td>\n",
       "      <td>9.525558</td>\n",
       "    </tr>\n",
       "    <tr>\n",
       "      <th>3</th>\n",
       "      <td>3089.0</td>\n",
       "      <td>Kevin De Bruyne</td>\n",
       "      <td>9.401009</td>\n",
       "    </tr>\n",
       "    <tr>\n",
       "      <th>4</th>\n",
       "      <td>3043.0</td>\n",
       "      <td>Christian Dannemann Eriksen</td>\n",
       "      <td>8.674473</td>\n",
       "    </tr>\n",
       "    <tr>\n",
       "      <th>5</th>\n",
       "      <td>3585.0</td>\n",
       "      <td>Erik Lamela</td>\n",
       "      <td>8.588500</td>\n",
       "    </tr>\n",
       "    <tr>\n",
       "      <th>6</th>\n",
       "      <td>3454.0</td>\n",
       "      <td>Troy Deeney</td>\n",
       "      <td>8.246785</td>\n",
       "    </tr>\n",
       "    <tr>\n",
       "      <th>7</th>\n",
       "      <td>3478.0</td>\n",
       "      <td>Francesc Fàbregas i Soler</td>\n",
       "      <td>8.067358</td>\n",
       "    </tr>\n",
       "    <tr>\n",
       "      <th>8</th>\n",
       "      <td>3385.0</td>\n",
       "      <td>Alexis Alejandro Sánchez Sánchez</td>\n",
       "      <td>7.617406</td>\n",
       "    </tr>\n",
       "    <tr>\n",
       "      <th>9</th>\n",
       "      <td>3307.0</td>\n",
       "      <td>Marc Albrighton</td>\n",
       "      <td>7.513881</td>\n",
       "    </tr>\n",
       "  </tbody>\n",
       "</table>\n",
       "</div>"
      ],
      "text/plain": [
       "   player_id                            player  xg_assist\n",
       "0     3496.0                        Mesut Özil  13.824563\n",
       "1     3491.0                     Dimitri Payet  10.874015\n",
       "2     3814.0                      Riyad Mahrez   9.525558\n",
       "3     3089.0                   Kevin De Bruyne   9.401009\n",
       "4     3043.0       Christian Dannemann Eriksen   8.674473\n",
       "5     3585.0                       Erik Lamela   8.588500\n",
       "6     3454.0                       Troy Deeney   8.246785\n",
       "7     3478.0         Francesc Fàbregas i Soler   8.067358\n",
       "8     3385.0  Alexis Alejandro Sánchez Sánchez   7.617406\n",
       "9     3307.0                   Marc Albrighton   7.513881"
      ]
     },
     "execution_count": 35,
     "metadata": {},
     "output_type": "execute_result"
    }
   ],
   "source": [
    "xga_players.head(10)"
   ]
  },
  {
   "cell_type": "markdown",
   "id": "1324b3bc",
   "metadata": {},
   "source": [
    "### Key Passes"
   ]
  },
  {
   "cell_type": "code",
   "execution_count": 36,
   "id": "2992ed94",
   "metadata": {},
   "outputs": [],
   "source": [
    "def get_key_passes(df: pd.DataFrame) -> pd.DataFrame:\n",
    "    \"\"\"Extract the passes that lead to a shot or a goal, called key passes.\n",
    "\n",
    "    Parameters\n",
    "    ----------\n",
    "    df : pd.DataFrame\n",
    "        Event data dataframe\n",
    "\n",
    "    Returns\n",
    "    -------\n",
    "    pd.DataFrame\n",
    "        Dataframe with player_id and the number of key passes\n",
    "    \"\"\"\n",
    "    return (\n",
    "        df[\n",
    "            (df[\"pass_goal_assist\"]) | (df[\"pass_shot_assist\"])\n",
    "        ]\n",
    "        .groupby(by=[\"player_id\", \"player\"])\n",
    "        .size()\n",
    "        .reset_index(name=\"key_passes\")\n",
    "        .sort_values(by=\"key_passes\", ascending=False, ignore_index=True)\n",
    "    )"
   ]
  },
  {
   "cell_type": "code",
   "execution_count": 37,
   "id": "2d145e4c",
   "metadata": {},
   "outputs": [],
   "source": [
    "key_passes_players = get_key_passes(df=df)"
   ]
  },
  {
   "cell_type": "code",
   "execution_count": 38,
   "id": "413647ee",
   "metadata": {},
   "outputs": [
    {
     "data": {
      "application/vnd.microsoft.datawrangler.viewer.v0+json": {
       "columns": [
        {
         "name": "index",
         "rawType": "int64",
         "type": "integer"
        },
        {
         "name": "player_id",
         "rawType": "float64",
         "type": "float"
        },
        {
         "name": "player",
         "rawType": "object",
         "type": "string"
        },
        {
         "name": "key_passes",
         "rawType": "int64",
         "type": "integer"
        }
       ],
       "ref": "ca66a0d6-09fa-47da-9e63-f5319766158a",
       "rows": [
        [
         "0",
         "3496.0",
         "Mesut Özil",
         "19"
        ],
        [
         "1",
         "3491.0",
         "Dimitri Payet",
         "12"
        ],
        [
         "2",
         "3043.0",
         "Christian Dannemann Eriksen",
         "12"
        ],
        [
         "3",
         "3473.0",
         "James Philip Milner",
         "11"
        ],
        [
         "4",
         "3831.0",
         "Dušan Tadić",
         "11"
        ],
        [
         "5",
         "3064.0",
         "David Josué Jiménez Silva",
         "10"
        ],
        [
         "6",
         "3814.0",
         "Riyad Mahrez",
         "10"
        ],
        [
         "7",
         "3089.0",
         "Kevin De Bruyne",
         "9"
        ],
        [
         "8",
         "3726.0",
         "Gerard Deulofeu Lázaro",
         "9"
        ],
        [
         "9",
         "4275.0",
         "Ross Barkley",
         "8"
        ]
       ],
       "shape": {
        "columns": 3,
        "rows": 10
       }
      },
      "text/html": [
       "<div>\n",
       "<style scoped>\n",
       "    .dataframe tbody tr th:only-of-type {\n",
       "        vertical-align: middle;\n",
       "    }\n",
       "\n",
       "    .dataframe tbody tr th {\n",
       "        vertical-align: top;\n",
       "    }\n",
       "\n",
       "    .dataframe thead th {\n",
       "        text-align: right;\n",
       "    }\n",
       "</style>\n",
       "<table border=\"1\" class=\"dataframe\">\n",
       "  <thead>\n",
       "    <tr style=\"text-align: right;\">\n",
       "      <th></th>\n",
       "      <th>player_id</th>\n",
       "      <th>player</th>\n",
       "      <th>key_passes</th>\n",
       "    </tr>\n",
       "  </thead>\n",
       "  <tbody>\n",
       "    <tr>\n",
       "      <th>0</th>\n",
       "      <td>3496.0</td>\n",
       "      <td>Mesut Özil</td>\n",
       "      <td>19</td>\n",
       "    </tr>\n",
       "    <tr>\n",
       "      <th>1</th>\n",
       "      <td>3491.0</td>\n",
       "      <td>Dimitri Payet</td>\n",
       "      <td>12</td>\n",
       "    </tr>\n",
       "    <tr>\n",
       "      <th>2</th>\n",
       "      <td>3043.0</td>\n",
       "      <td>Christian Dannemann Eriksen</td>\n",
       "      <td>12</td>\n",
       "    </tr>\n",
       "    <tr>\n",
       "      <th>3</th>\n",
       "      <td>3473.0</td>\n",
       "      <td>James Philip Milner</td>\n",
       "      <td>11</td>\n",
       "    </tr>\n",
       "    <tr>\n",
       "      <th>4</th>\n",
       "      <td>3831.0</td>\n",
       "      <td>Dušan Tadić</td>\n",
       "      <td>11</td>\n",
       "    </tr>\n",
       "    <tr>\n",
       "      <th>5</th>\n",
       "      <td>3064.0</td>\n",
       "      <td>David Josué Jiménez Silva</td>\n",
       "      <td>10</td>\n",
       "    </tr>\n",
       "    <tr>\n",
       "      <th>6</th>\n",
       "      <td>3814.0</td>\n",
       "      <td>Riyad Mahrez</td>\n",
       "      <td>10</td>\n",
       "    </tr>\n",
       "    <tr>\n",
       "      <th>7</th>\n",
       "      <td>3089.0</td>\n",
       "      <td>Kevin De Bruyne</td>\n",
       "      <td>9</td>\n",
       "    </tr>\n",
       "    <tr>\n",
       "      <th>8</th>\n",
       "      <td>3726.0</td>\n",
       "      <td>Gerard Deulofeu Lázaro</td>\n",
       "      <td>9</td>\n",
       "    </tr>\n",
       "    <tr>\n",
       "      <th>9</th>\n",
       "      <td>4275.0</td>\n",
       "      <td>Ross Barkley</td>\n",
       "      <td>8</td>\n",
       "    </tr>\n",
       "  </tbody>\n",
       "</table>\n",
       "</div>"
      ],
      "text/plain": [
       "   player_id                       player  key_passes\n",
       "0     3496.0                   Mesut Özil          19\n",
       "1     3491.0                Dimitri Payet          12\n",
       "2     3043.0  Christian Dannemann Eriksen          12\n",
       "3     3473.0          James Philip Milner          11\n",
       "4     3831.0                  Dušan Tadić          11\n",
       "5     3064.0    David Josué Jiménez Silva          10\n",
       "6     3814.0                 Riyad Mahrez          10\n",
       "7     3089.0              Kevin De Bruyne           9\n",
       "8     3726.0       Gerard Deulofeu Lázaro           9\n",
       "9     4275.0                 Ross Barkley           8"
      ]
     },
     "execution_count": 38,
     "metadata": {},
     "output_type": "execute_result"
    }
   ],
   "source": [
    "key_passes_players.head(10)"
   ]
  },
  {
   "cell_type": "markdown",
   "id": "b078f353",
   "metadata": {},
   "source": [
    "### Under pressure key passes"
   ]
  },
  {
   "cell_type": "code",
   "execution_count": 39,
   "id": "efb98663",
   "metadata": {},
   "outputs": [],
   "source": [
    "def get_under_pressure_key_passes(df: pd.DataFrame) -> pd.DataFrame:\n",
    "    \"\"\"Extract the passes that lead to a shot or a goal, called key passes,\n",
    "    considering only those played under pressure.\n",
    "\n",
    "    Parameters\n",
    "    ----------\n",
    "    df : pd.DataFrame\n",
    "        Event data dataframe\n",
    "\n",
    "    Returns\n",
    "    -------\n",
    "    pd.DataFrame\n",
    "        Dataframe with player_id and the number of key passes under pressure\n",
    "        \n",
    "    \"\"\"\n",
    "    return (\n",
    "        df[\n",
    "            ((df[\"pass_goal_assist\"]) | (df[\"pass_shot_assist\"]))\n",
    "            & (df[\"under_pressure\"] == True)\n",
    "        ]\n",
    "        .groupby(by=[\"player_id\", \"player\"])\n",
    "        .size()\n",
    "        .reset_index(name=\"under_pressure_key_passes\")\n",
    "        .sort_values(by=\"under_pressure_key_passes\", ascending=False, ignore_index=True)\n",
    "    )"
   ]
  },
  {
   "cell_type": "code",
   "execution_count": 40,
   "id": "7afb55fb",
   "metadata": {},
   "outputs": [],
   "source": [
    "under_pressure_key_passes_players = get_under_pressure_key_passes(df=df)"
   ]
  },
  {
   "cell_type": "code",
   "execution_count": 41,
   "id": "815d5ea2",
   "metadata": {},
   "outputs": [
    {
     "data": {
      "application/vnd.microsoft.datawrangler.viewer.v0+json": {
       "columns": [
        {
         "name": "index",
         "rawType": "int64",
         "type": "integer"
        },
        {
         "name": "player_id",
         "rawType": "float64",
         "type": "float"
        },
        {
         "name": "player",
         "rawType": "object",
         "type": "string"
        },
        {
         "name": "under_pressure_key_passes",
         "rawType": "int64",
         "type": "integer"
        }
       ],
       "ref": "e51f8f1c-0a38-4ee3-992f-2ab6718144b4",
       "rows": [
        [
         "0",
         "3831.0",
         "Dušan Tadić",
         "4"
        ],
        [
         "1",
         "3094.0",
         "Bamidele Alli",
         "4"
        ],
        [
         "2",
         "11062.0",
         "Graziano Pellè",
         "4"
        ],
        [
         "3",
         "10960.0",
         "Jamie Vardy",
         "3"
        ],
        [
         "4",
         "4090.0",
         "Adam David Lallana",
         "3"
        ],
        [
         "5",
         "3604.0",
         "Olivier Giroud",
         "3"
        ],
        [
         "6",
         "3289.0",
         "Romelu Lukaku Menama",
         "3"
        ],
        [
         "7",
         "3325.0",
         "Marko Arnautović",
         "3"
        ],
        [
         "8",
         "4275.0",
         "Ross Barkley",
         "2"
        ],
        [
         "9",
         "3647.0",
         "Alex Iwobi",
         "2"
        ]
       ],
       "shape": {
        "columns": 3,
        "rows": 10
       }
      },
      "text/html": [
       "<div>\n",
       "<style scoped>\n",
       "    .dataframe tbody tr th:only-of-type {\n",
       "        vertical-align: middle;\n",
       "    }\n",
       "\n",
       "    .dataframe tbody tr th {\n",
       "        vertical-align: top;\n",
       "    }\n",
       "\n",
       "    .dataframe thead th {\n",
       "        text-align: right;\n",
       "    }\n",
       "</style>\n",
       "<table border=\"1\" class=\"dataframe\">\n",
       "  <thead>\n",
       "    <tr style=\"text-align: right;\">\n",
       "      <th></th>\n",
       "      <th>player_id</th>\n",
       "      <th>player</th>\n",
       "      <th>under_pressure_key_passes</th>\n",
       "    </tr>\n",
       "  </thead>\n",
       "  <tbody>\n",
       "    <tr>\n",
       "      <th>0</th>\n",
       "      <td>3831.0</td>\n",
       "      <td>Dušan Tadić</td>\n",
       "      <td>4</td>\n",
       "    </tr>\n",
       "    <tr>\n",
       "      <th>1</th>\n",
       "      <td>3094.0</td>\n",
       "      <td>Bamidele Alli</td>\n",
       "      <td>4</td>\n",
       "    </tr>\n",
       "    <tr>\n",
       "      <th>2</th>\n",
       "      <td>11062.0</td>\n",
       "      <td>Graziano Pellè</td>\n",
       "      <td>4</td>\n",
       "    </tr>\n",
       "    <tr>\n",
       "      <th>3</th>\n",
       "      <td>10960.0</td>\n",
       "      <td>Jamie Vardy</td>\n",
       "      <td>3</td>\n",
       "    </tr>\n",
       "    <tr>\n",
       "      <th>4</th>\n",
       "      <td>4090.0</td>\n",
       "      <td>Adam David Lallana</td>\n",
       "      <td>3</td>\n",
       "    </tr>\n",
       "    <tr>\n",
       "      <th>5</th>\n",
       "      <td>3604.0</td>\n",
       "      <td>Olivier Giroud</td>\n",
       "      <td>3</td>\n",
       "    </tr>\n",
       "    <tr>\n",
       "      <th>6</th>\n",
       "      <td>3289.0</td>\n",
       "      <td>Romelu Lukaku Menama</td>\n",
       "      <td>3</td>\n",
       "    </tr>\n",
       "    <tr>\n",
       "      <th>7</th>\n",
       "      <td>3325.0</td>\n",
       "      <td>Marko Arnautović</td>\n",
       "      <td>3</td>\n",
       "    </tr>\n",
       "    <tr>\n",
       "      <th>8</th>\n",
       "      <td>4275.0</td>\n",
       "      <td>Ross Barkley</td>\n",
       "      <td>2</td>\n",
       "    </tr>\n",
       "    <tr>\n",
       "      <th>9</th>\n",
       "      <td>3647.0</td>\n",
       "      <td>Alex Iwobi</td>\n",
       "      <td>2</td>\n",
       "    </tr>\n",
       "  </tbody>\n",
       "</table>\n",
       "</div>"
      ],
      "text/plain": [
       "   player_id                player  under_pressure_key_passes\n",
       "0     3831.0           Dušan Tadić                          4\n",
       "1     3094.0         Bamidele Alli                          4\n",
       "2    11062.0        Graziano Pellè                          4\n",
       "3    10960.0           Jamie Vardy                          3\n",
       "4     4090.0    Adam David Lallana                          3\n",
       "5     3604.0        Olivier Giroud                          3\n",
       "6     3289.0  Romelu Lukaku Menama                          3\n",
       "7     3325.0      Marko Arnautović                          3\n",
       "8     4275.0          Ross Barkley                          2\n",
       "9     3647.0            Alex Iwobi                          2"
      ]
     },
     "execution_count": 41,
     "metadata": {},
     "output_type": "execute_result"
    }
   ],
   "source": [
    "under_pressure_key_passes_players.head(10)"
   ]
  },
  {
   "cell_type": "markdown",
   "id": "694b0651",
   "metadata": {},
   "source": [
    "### Progressive passes"
   ]
  },
  {
   "cell_type": "code",
   "execution_count": 42,
   "id": "d33c522f",
   "metadata": {},
   "outputs": [],
   "source": [
    "def get_progressive_passes(df: pd.DataFrame) -> pd.DataFrame:\n",
    "    \"\"\"Completed open-play passes that move at least 25% closer to the goal from its origin.\n",
    "    Exclude passes from the defending 40% of the pitch.\n",
    "\n",
    "    Parameters\n",
    "    ----------\n",
    "    df : pd.DataFrame\n",
    "        Statsbomb Event data\n",
    "\n",
    "    Returns\n",
    "    -------\n",
    "    pd.DataFrame\n",
    "    \"\"\"\n",
    "    df_copy = df.copy()\n",
    "    df_copy = df_copy.dropna(subset='location')\n",
    "    passes = df_copy[\n",
    "        (df_copy[\"type\"] == \"Pass\")\n",
    "        & (df_copy[\"pass_outcome\"].isna())  # Only completed passes\n",
    "        & (df_copy[\"pass_type\"].isna())     # Only open-play passes\n",
    "    ]\n",
    "    # Excludes passes from the defending 40% of the pitch\n",
    "    x_not_def = 120 * 0.4\n",
    "    passes_not_def = passes[passes[\"location\"].apply(lambda x: x[0] > x_not_def)]\n",
    "    # Compute distance from the opposition goal for both origin and destination of the pass\n",
    "    passes_not_def[\"dist_origin\"] = passes_not_def[\"location\"].apply(\n",
    "        lambda loc: np.sqrt(np.square(120 - loc[0]) + np.square(40 - loc[1]))\n",
    "    )\n",
    "    passes_not_def[\"dist_dest\"] = passes_not_def[\"pass_end_location\"].apply(\n",
    "        lambda loc: np.sqrt(np.square(120 - loc[0]) + np.square(40 - loc[1]))\n",
    "    )\n",
    "    # Compute the ratio between dist_dest and dist_origin\n",
    "    passes_not_def[\"ratio_dist\"] = (\n",
    "        passes_not_def[\"dist_dest\"] / passes_not_def[\"dist_origin\"]\n",
    "    )\n",
    "    passes_not_def[\"is_progressive\"] = passes_not_def[\"ratio_dist\"] < 0.75\n",
    "    # Progressive passes only those passes that approach the opposition goal line of the 25%\n",
    "    prog_passes = passes_not_def[passes_not_def[\"is_progressive\"]]\n",
    "\n",
    "    return (\n",
    "        prog_passes.groupby(by=[\"player_id\",\"player\"])\n",
    "        .size()\n",
    "        .reset_index(name=\"prog_pass\")\n",
    "        .sort_values(by=\"prog_pass\", ascending=False, ignore_index=True)\n",
    "    )"
   ]
  },
  {
   "cell_type": "code",
   "execution_count": 43,
   "id": "4ea731bb",
   "metadata": {},
   "outputs": [
    {
     "name": "stderr",
     "output_type": "stream",
     "text": [
      "/var/folders/pt/p9_0myf16lx1rjjrf63vkx5w0000gp/T/ipykernel_86514/3224069199.py:25: SettingWithCopyWarning: \n",
      "A value is trying to be set on a copy of a slice from a DataFrame.\n",
      "Try using .loc[row_indexer,col_indexer] = value instead\n",
      "\n",
      "See the caveats in the documentation: https://pandas.pydata.org/pandas-docs/stable/user_guide/indexing.html#returning-a-view-versus-a-copy\n",
      "  passes_not_def[\"dist_origin\"] = passes_not_def[\"location\"].apply(\n",
      "/var/folders/pt/p9_0myf16lx1rjjrf63vkx5w0000gp/T/ipykernel_86514/3224069199.py:28: SettingWithCopyWarning: \n",
      "A value is trying to be set on a copy of a slice from a DataFrame.\n",
      "Try using .loc[row_indexer,col_indexer] = value instead\n",
      "\n",
      "See the caveats in the documentation: https://pandas.pydata.org/pandas-docs/stable/user_guide/indexing.html#returning-a-view-versus-a-copy\n",
      "  passes_not_def[\"dist_dest\"] = passes_not_def[\"pass_end_location\"].apply(\n",
      "/var/folders/pt/p9_0myf16lx1rjjrf63vkx5w0000gp/T/ipykernel_86514/3224069199.py:32: SettingWithCopyWarning: \n",
      "A value is trying to be set on a copy of a slice from a DataFrame.\n",
      "Try using .loc[row_indexer,col_indexer] = value instead\n",
      "\n",
      "See the caveats in the documentation: https://pandas.pydata.org/pandas-docs/stable/user_guide/indexing.html#returning-a-view-versus-a-copy\n",
      "  passes_not_def[\"ratio_dist\"] = (\n",
      "/var/folders/pt/p9_0myf16lx1rjjrf63vkx5w0000gp/T/ipykernel_86514/3224069199.py:35: SettingWithCopyWarning: \n",
      "A value is trying to be set on a copy of a slice from a DataFrame.\n",
      "Try using .loc[row_indexer,col_indexer] = value instead\n",
      "\n",
      "See the caveats in the documentation: https://pandas.pydata.org/pandas-docs/stable/user_guide/indexing.html#returning-a-view-versus-a-copy\n",
      "  passes_not_def[\"is_progressive\"] = passes_not_def[\"ratio_dist\"] < 0.75\n"
     ]
    }
   ],
   "source": [
    "prog_pass_players = get_progressive_passes(df=df)"
   ]
  },
  {
   "cell_type": "code",
   "execution_count": 44,
   "id": "1a50f8c5",
   "metadata": {},
   "outputs": [
    {
     "data": {
      "application/vnd.microsoft.datawrangler.viewer.v0+json": {
       "columns": [
        {
         "name": "index",
         "rawType": "int64",
         "type": "integer"
        },
        {
         "name": "player_id",
         "rawType": "float64",
         "type": "float"
        },
        {
         "name": "player",
         "rawType": "object",
         "type": "string"
        },
        {
         "name": "prog_pass",
         "rawType": "int64",
         "type": "integer"
        }
       ],
       "ref": "3709d870-8632-43f8-8159-aaf316bad56e",
       "rows": [
        [
         "0",
         "3478.0",
         "Francesc Fàbregas i Soler",
         "265"
        ],
        [
         "1",
         "3496.0",
         "Mesut Özil",
         "259"
        ],
        [
         "2",
         "3633.0",
         "Gareth Barry",
         "181"
        ],
        [
         "3",
         "3385.0",
         "Alexis Alejandro Sánchez Sánchez",
         "178"
        ],
        [
         "4",
         "3831.0",
         "Dušan Tadić",
         "168"
        ],
        [
         "5",
         "3043.0",
         "Christian Dannemann Eriksen",
         "165"
        ],
        [
         "6",
         "3473.0",
         "James Philip Milner",
         "156"
        ],
        [
         "7",
         "3517.0",
         "Aaron Ramsey",
         "154"
        ],
        [
         "8",
         "4751.0",
         "Michael Carrick",
         "154"
        ],
        [
         "9",
         "3472.0",
         "Willian Borges da Silva",
         "152"
        ]
       ],
       "shape": {
        "columns": 3,
        "rows": 10
       }
      },
      "text/html": [
       "<div>\n",
       "<style scoped>\n",
       "    .dataframe tbody tr th:only-of-type {\n",
       "        vertical-align: middle;\n",
       "    }\n",
       "\n",
       "    .dataframe tbody tr th {\n",
       "        vertical-align: top;\n",
       "    }\n",
       "\n",
       "    .dataframe thead th {\n",
       "        text-align: right;\n",
       "    }\n",
       "</style>\n",
       "<table border=\"1\" class=\"dataframe\">\n",
       "  <thead>\n",
       "    <tr style=\"text-align: right;\">\n",
       "      <th></th>\n",
       "      <th>player_id</th>\n",
       "      <th>player</th>\n",
       "      <th>prog_pass</th>\n",
       "    </tr>\n",
       "  </thead>\n",
       "  <tbody>\n",
       "    <tr>\n",
       "      <th>0</th>\n",
       "      <td>3478.0</td>\n",
       "      <td>Francesc Fàbregas i Soler</td>\n",
       "      <td>265</td>\n",
       "    </tr>\n",
       "    <tr>\n",
       "      <th>1</th>\n",
       "      <td>3496.0</td>\n",
       "      <td>Mesut Özil</td>\n",
       "      <td>259</td>\n",
       "    </tr>\n",
       "    <tr>\n",
       "      <th>2</th>\n",
       "      <td>3633.0</td>\n",
       "      <td>Gareth Barry</td>\n",
       "      <td>181</td>\n",
       "    </tr>\n",
       "    <tr>\n",
       "      <th>3</th>\n",
       "      <td>3385.0</td>\n",
       "      <td>Alexis Alejandro Sánchez Sánchez</td>\n",
       "      <td>178</td>\n",
       "    </tr>\n",
       "    <tr>\n",
       "      <th>4</th>\n",
       "      <td>3831.0</td>\n",
       "      <td>Dušan Tadić</td>\n",
       "      <td>168</td>\n",
       "    </tr>\n",
       "    <tr>\n",
       "      <th>5</th>\n",
       "      <td>3043.0</td>\n",
       "      <td>Christian Dannemann Eriksen</td>\n",
       "      <td>165</td>\n",
       "    </tr>\n",
       "    <tr>\n",
       "      <th>6</th>\n",
       "      <td>3473.0</td>\n",
       "      <td>James Philip Milner</td>\n",
       "      <td>156</td>\n",
       "    </tr>\n",
       "    <tr>\n",
       "      <th>7</th>\n",
       "      <td>3517.0</td>\n",
       "      <td>Aaron Ramsey</td>\n",
       "      <td>154</td>\n",
       "    </tr>\n",
       "    <tr>\n",
       "      <th>8</th>\n",
       "      <td>4751.0</td>\n",
       "      <td>Michael Carrick</td>\n",
       "      <td>154</td>\n",
       "    </tr>\n",
       "    <tr>\n",
       "      <th>9</th>\n",
       "      <td>3472.0</td>\n",
       "      <td>Willian Borges da Silva</td>\n",
       "      <td>152</td>\n",
       "    </tr>\n",
       "  </tbody>\n",
       "</table>\n",
       "</div>"
      ],
      "text/plain": [
       "   player_id                            player  prog_pass\n",
       "0     3478.0         Francesc Fàbregas i Soler        265\n",
       "1     3496.0                        Mesut Özil        259\n",
       "2     3633.0                      Gareth Barry        181\n",
       "3     3385.0  Alexis Alejandro Sánchez Sánchez        178\n",
       "4     3831.0                       Dušan Tadić        168\n",
       "5     3043.0       Christian Dannemann Eriksen        165\n",
       "6     3473.0               James Philip Milner        156\n",
       "7     3517.0                      Aaron Ramsey        154\n",
       "8     4751.0                   Michael Carrick        154\n",
       "9     3472.0           Willian Borges da Silva        152"
      ]
     },
     "execution_count": 44,
     "metadata": {},
     "output_type": "execute_result"
    }
   ],
   "source": [
    "prog_pass_players.head(10)"
   ]
  },
  {
   "cell_type": "markdown",
   "id": "53a3d8f3",
   "metadata": {},
   "source": [
    "## Box Positioning"
   ]
  },
  {
   "cell_type": "markdown",
   "id": "051a9402",
   "metadata": {},
   "source": [
    "*Box Positioning* is defined as the ability to move into goal-scoring\n",
    "positions in valuable pitch locations by clever positioning in and around the opponent\n",
    "penalty area at the right time."
   ]
  },
  {
   "cell_type": "markdown",
   "id": "1303386c",
   "metadata": {},
   "source": [
    "I considered the number of ball receipts in the penalty box and in the Zone 14, i.e., the zone located in the middle of the pitch immediately outside the penalty area appears crucial for goal scoring (Taylor et al., 2002), that indicates how well players are positioned near the opposition goal to receive the passes. Then, the number of non-penalty expected goals indicates how dangerous players are positioned when they shot the ball."
   ]
  },
  {
   "cell_type": "markdown",
   "id": "c0a7b1d4",
   "metadata": {},
   "source": [
    "### Penalty box receipts"
   ]
  },
  {
   "cell_type": "code",
   "execution_count": 45,
   "id": "6e1461a3",
   "metadata": {},
   "outputs": [],
   "source": [
    "def get_penalty_box_receipts(df: pd.DataFrame) -> pd.DataFrame:\n",
    "    succ_ball_rec = df[\n",
    "        (df[\"ball_receipt_outcome\"].isna())  # Successful receipt\n",
    "        & (df[\"type\"] == \"Ball Receipt*\")\n",
    "    ]\n",
    "    \n",
    "    pen_box_receipts = succ_ball_rec[\n",
    "        succ_ball_rec[\"location\"].apply(\n",
    "            lambda loc: loc[0] >= 102 and loc[1] >= 18 and loc[1] >= 62\n",
    "    )]\n",
    "\n",
    "    return (\n",
    "        pen_box_receipts.groupby(by=[\"player_id\", \"player\"])\n",
    "        .size()\n",
    "        .reset_index(name=\"penalty_receipts\")\n",
    "        .sort_values(by=\"penalty_receipts\", ascending=False, ignore_index=True)\n",
    "    )"
   ]
  },
  {
   "cell_type": "code",
   "execution_count": 46,
   "id": "d7234051",
   "metadata": {},
   "outputs": [],
   "source": [
    "penalty_box_receipts_players = get_penalty_box_receipts(df=df)"
   ]
  },
  {
   "cell_type": "code",
   "execution_count": 47,
   "id": "2b308a10",
   "metadata": {},
   "outputs": [
    {
     "data": {
      "application/vnd.microsoft.datawrangler.viewer.v0+json": {
       "columns": [
        {
         "name": "index",
         "rawType": "int64",
         "type": "integer"
        },
        {
         "name": "player_id",
         "rawType": "float64",
         "type": "float"
        },
        {
         "name": "player",
         "rawType": "object",
         "type": "string"
        },
        {
         "name": "penalty_receipts",
         "rawType": "int64",
         "type": "integer"
        }
       ],
       "ref": "da133d3a-69ac-4c1a-a8bf-dc421f912c65",
       "rows": [
        [
         "0",
         "6821.0",
         "Jesús Navas González",
         "151"
        ],
        [
         "1",
         "7110.0",
         "Bacary Sagna",
         "112"
        ],
        [
         "2",
         "3650.0",
         "Daryl Janmaat",
         "106"
        ],
        [
         "3",
         "3091.0",
         "Moussa Sissoko",
         "105"
        ],
        [
         "4",
         "3523.0",
         "Craig Dawson",
         "101"
        ]
       ],
       "shape": {
        "columns": 3,
        "rows": 5
       }
      },
      "text/html": [
       "<div>\n",
       "<style scoped>\n",
       "    .dataframe tbody tr th:only-of-type {\n",
       "        vertical-align: middle;\n",
       "    }\n",
       "\n",
       "    .dataframe tbody tr th {\n",
       "        vertical-align: top;\n",
       "    }\n",
       "\n",
       "    .dataframe thead th {\n",
       "        text-align: right;\n",
       "    }\n",
       "</style>\n",
       "<table border=\"1\" class=\"dataframe\">\n",
       "  <thead>\n",
       "    <tr style=\"text-align: right;\">\n",
       "      <th></th>\n",
       "      <th>player_id</th>\n",
       "      <th>player</th>\n",
       "      <th>penalty_receipts</th>\n",
       "    </tr>\n",
       "  </thead>\n",
       "  <tbody>\n",
       "    <tr>\n",
       "      <th>0</th>\n",
       "      <td>6821.0</td>\n",
       "      <td>Jesús Navas González</td>\n",
       "      <td>151</td>\n",
       "    </tr>\n",
       "    <tr>\n",
       "      <th>1</th>\n",
       "      <td>7110.0</td>\n",
       "      <td>Bacary Sagna</td>\n",
       "      <td>112</td>\n",
       "    </tr>\n",
       "    <tr>\n",
       "      <th>2</th>\n",
       "      <td>3650.0</td>\n",
       "      <td>Daryl Janmaat</td>\n",
       "      <td>106</td>\n",
       "    </tr>\n",
       "    <tr>\n",
       "      <th>3</th>\n",
       "      <td>3091.0</td>\n",
       "      <td>Moussa Sissoko</td>\n",
       "      <td>105</td>\n",
       "    </tr>\n",
       "    <tr>\n",
       "      <th>4</th>\n",
       "      <td>3523.0</td>\n",
       "      <td>Craig Dawson</td>\n",
       "      <td>101</td>\n",
       "    </tr>\n",
       "  </tbody>\n",
       "</table>\n",
       "</div>"
      ],
      "text/plain": [
       "   player_id                player  penalty_receipts\n",
       "0     6821.0  Jesús Navas González               151\n",
       "1     7110.0          Bacary Sagna               112\n",
       "2     3650.0         Daryl Janmaat               106\n",
       "3     3091.0        Moussa Sissoko               105\n",
       "4     3523.0          Craig Dawson               101"
      ]
     },
     "execution_count": 47,
     "metadata": {},
     "output_type": "execute_result"
    }
   ],
   "source": [
    "penalty_box_receipts_players.head()"
   ]
  },
  {
   "cell_type": "markdown",
   "id": "e6c5247f",
   "metadata": {},
   "source": [
    "### Zone 14 receipts"
   ]
  },
  {
   "cell_type": "code",
   "execution_count": 48,
   "id": "893d4c52",
   "metadata": {},
   "outputs": [],
   "source": [
    "def get_zone14_receipts(df: pd.DataFrame) -> pd.DataFrame:\n",
    "    zone_14_x1 = (120 / 6) * 4\n",
    "    zone_14_x2 = (120 / 6) * 5\n",
    "    zone_14_y1 = 80 / 3\n",
    "    zone_14_y2 = (80 / 3) * 2\n",
    "    # Consider only the events in the Zone 14\n",
    "    succ_ball_rec = df[\n",
    "        (df[\"ball_receipt_outcome\"].isna())  # Successful receipt\n",
    "        & (df[\"type\"] == \"Ball Receipt*\")\n",
    "    ]\n",
    "    zone_14_receipts_df = succ_ball_rec[\n",
    "        succ_ball_rec[\"location\"].apply(\n",
    "            lambda loc: loc[0] >= zone_14_x1 and\n",
    "                        loc[0] <= zone_14_x2 and\n",
    "                        loc[1] >= zone_14_y1 and\n",
    "                        loc[1] <= zone_14_y2\n",
    "        )\n",
    "    ]\n",
    "\n",
    "    return (\n",
    "        zone_14_receipts_df.groupby(by=[\"player_id\", \"player\"])\n",
    "        .size()\n",
    "        .reset_index(name=\"zone14_receipts\")\n",
    "        .sort_values(by=\"zone14_receipts\", ascending=False, ignore_index=True)\n",
    "    )"
   ]
  },
  {
   "cell_type": "code",
   "execution_count": 49,
   "id": "73c9fdc9",
   "metadata": {},
   "outputs": [],
   "source": [
    "zone14_receipts_players = get_zone14_receipts(df=df)"
   ]
  },
  {
   "cell_type": "code",
   "execution_count": 50,
   "id": "e58f506a",
   "metadata": {},
   "outputs": [
    {
     "data": {
      "application/vnd.microsoft.datawrangler.viewer.v0+json": {
       "columns": [
        {
         "name": "index",
         "rawType": "int64",
         "type": "integer"
        },
        {
         "name": "player_id",
         "rawType": "float64",
         "type": "float"
        },
        {
         "name": "player",
         "rawType": "object",
         "type": "string"
        },
        {
         "name": "zone14_receipts",
         "rawType": "int64",
         "type": "integer"
        }
       ],
       "ref": "e0713ef3-f3a3-455f-bd95-717a723ffd35",
       "rows": [
        [
         "0",
         "3289.0",
         "Romelu Lukaku Menama",
         "216"
        ],
        [
         "1",
         "3454.0",
         "Troy Deeney",
         "190"
        ],
        [
         "2",
         "5458.0",
         "Odion Jude Ighalo",
         "181"
        ],
        [
         "3",
         "3496.0",
         "Mesut Özil",
         "163"
        ],
        [
         "4",
         "4275.0",
         "Ross Barkley",
         "154"
        ]
       ],
       "shape": {
        "columns": 3,
        "rows": 5
       }
      },
      "text/html": [
       "<div>\n",
       "<style scoped>\n",
       "    .dataframe tbody tr th:only-of-type {\n",
       "        vertical-align: middle;\n",
       "    }\n",
       "\n",
       "    .dataframe tbody tr th {\n",
       "        vertical-align: top;\n",
       "    }\n",
       "\n",
       "    .dataframe thead th {\n",
       "        text-align: right;\n",
       "    }\n",
       "</style>\n",
       "<table border=\"1\" class=\"dataframe\">\n",
       "  <thead>\n",
       "    <tr style=\"text-align: right;\">\n",
       "      <th></th>\n",
       "      <th>player_id</th>\n",
       "      <th>player</th>\n",
       "      <th>zone14_receipts</th>\n",
       "    </tr>\n",
       "  </thead>\n",
       "  <tbody>\n",
       "    <tr>\n",
       "      <th>0</th>\n",
       "      <td>3289.0</td>\n",
       "      <td>Romelu Lukaku Menama</td>\n",
       "      <td>216</td>\n",
       "    </tr>\n",
       "    <tr>\n",
       "      <th>1</th>\n",
       "      <td>3454.0</td>\n",
       "      <td>Troy Deeney</td>\n",
       "      <td>190</td>\n",
       "    </tr>\n",
       "    <tr>\n",
       "      <th>2</th>\n",
       "      <td>5458.0</td>\n",
       "      <td>Odion Jude Ighalo</td>\n",
       "      <td>181</td>\n",
       "    </tr>\n",
       "    <tr>\n",
       "      <th>3</th>\n",
       "      <td>3496.0</td>\n",
       "      <td>Mesut Özil</td>\n",
       "      <td>163</td>\n",
       "    </tr>\n",
       "    <tr>\n",
       "      <th>4</th>\n",
       "      <td>4275.0</td>\n",
       "      <td>Ross Barkley</td>\n",
       "      <td>154</td>\n",
       "    </tr>\n",
       "  </tbody>\n",
       "</table>\n",
       "</div>"
      ],
      "text/plain": [
       "   player_id                player  zone14_receipts\n",
       "0     3289.0  Romelu Lukaku Menama              216\n",
       "1     3454.0           Troy Deeney              190\n",
       "2     5458.0     Odion Jude Ighalo              181\n",
       "3     3496.0            Mesut Özil              163\n",
       "4     4275.0          Ross Barkley              154"
      ]
     },
     "execution_count": 50,
     "metadata": {},
     "output_type": "execute_result"
    }
   ],
   "source": [
    "zone14_receipts_players.head()"
   ]
  },
  {
   "cell_type": "markdown",
   "id": "66bcdb62",
   "metadata": {},
   "source": [
    "### Non-penalty xG"
   ]
  },
  {
   "cell_type": "code",
   "execution_count": 51,
   "id": "ef77ad66",
   "metadata": {},
   "outputs": [],
   "source": [
    "def get_tot_players_statsbomb_openplayxg(df: pd.DataFrame) -> pd.DataFrame:\n",
    "    \"\"\"Compute the total number of open-play expected goals of each player.\n",
    "\n",
    "    Parameters\n",
    "    ----------\n",
    "    df : pd.DataFrame\n",
    "        The Statsbomb event data\n",
    "\n",
    "    Returns\n",
    "    -------\n",
    "    pd.DataFrame\n",
    "        player_id, tot_npxg\n",
    "    \"\"\"\n",
    "    return (\n",
    "        df[df['shot_type'] == \"Open Play\"]\n",
    "        .groupby(by=[\"player_id\", \"player\"])\n",
    "        .agg({\"shot_statsbomb_xg\": \"sum\"})\n",
    "        .reset_index()\n",
    "        .rename(columns={\"shot_statsbomb_xg\": \"tot_npxg\"})\n",
    "        .sort_values(by=\"tot_npxg\", ascending=False, ignore_index=True)\n",
    "    )"
   ]
  },
  {
   "cell_type": "code",
   "execution_count": 52,
   "id": "78863181",
   "metadata": {},
   "outputs": [],
   "source": [
    "openplay_xg_players = get_tot_players_statsbomb_openplayxg(df=df)"
   ]
  },
  {
   "cell_type": "code",
   "execution_count": 53,
   "id": "a1b77b91",
   "metadata": {},
   "outputs": [
    {
     "data": {
      "application/vnd.microsoft.datawrangler.viewer.v0+json": {
       "columns": [
        {
         "name": "index",
         "rawType": "int64",
         "type": "integer"
        },
        {
         "name": "player_id",
         "rawType": "float64",
         "type": "float"
        },
        {
         "name": "player",
         "rawType": "object",
         "type": "string"
        },
        {
         "name": "tot_npxg",
         "rawType": "float64",
         "type": "float"
        }
       ],
       "ref": "93d8659a-3c4c-4401-ac98-cae122022de8",
       "rows": [
        [
         "0",
         "10955.0",
         "Harry Kane",
         "17.7086960478"
        ],
        [
         "1",
         "10960.0",
         "Jamie Vardy",
         "17.551589856"
        ],
        [
         "2",
         "5458.0",
         "Odion Jude Ighalo",
         "16.9192775224"
        ],
        [
         "3",
         "3289.0",
         "Romelu Lukaku Menama",
         "16.2680070277"
        ],
        [
         "4",
         "3237.0",
         "Sergio Leonel Agüero del Castillo",
         "13.7090166355"
        ],
        [
         "5",
         "3337.0",
         "Jermain Defoe",
         "12.4263756745"
        ],
        [
         "6",
         "3604.0",
         "Olivier Giroud",
         "12.234202893"
        ],
        [
         "7",
         "5198.0",
         "Diego da Silva Costa",
         "11.809203979"
        ],
        [
         "8",
         "3629.0",
         "Sadio Mané",
         "11.268578225"
        ],
        [
         "9",
         "3385.0",
         "Alexis Alejandro Sánchez Sánchez",
         "10.7003509884"
        ]
       ],
       "shape": {
        "columns": 3,
        "rows": 10
       }
      },
      "text/html": [
       "<div>\n",
       "<style scoped>\n",
       "    .dataframe tbody tr th:only-of-type {\n",
       "        vertical-align: middle;\n",
       "    }\n",
       "\n",
       "    .dataframe tbody tr th {\n",
       "        vertical-align: top;\n",
       "    }\n",
       "\n",
       "    .dataframe thead th {\n",
       "        text-align: right;\n",
       "    }\n",
       "</style>\n",
       "<table border=\"1\" class=\"dataframe\">\n",
       "  <thead>\n",
       "    <tr style=\"text-align: right;\">\n",
       "      <th></th>\n",
       "      <th>player_id</th>\n",
       "      <th>player</th>\n",
       "      <th>tot_npxg</th>\n",
       "    </tr>\n",
       "  </thead>\n",
       "  <tbody>\n",
       "    <tr>\n",
       "      <th>0</th>\n",
       "      <td>10955.0</td>\n",
       "      <td>Harry Kane</td>\n",
       "      <td>17.708696</td>\n",
       "    </tr>\n",
       "    <tr>\n",
       "      <th>1</th>\n",
       "      <td>10960.0</td>\n",
       "      <td>Jamie Vardy</td>\n",
       "      <td>17.551590</td>\n",
       "    </tr>\n",
       "    <tr>\n",
       "      <th>2</th>\n",
       "      <td>5458.0</td>\n",
       "      <td>Odion Jude Ighalo</td>\n",
       "      <td>16.919278</td>\n",
       "    </tr>\n",
       "    <tr>\n",
       "      <th>3</th>\n",
       "      <td>3289.0</td>\n",
       "      <td>Romelu Lukaku Menama</td>\n",
       "      <td>16.268007</td>\n",
       "    </tr>\n",
       "    <tr>\n",
       "      <th>4</th>\n",
       "      <td>3237.0</td>\n",
       "      <td>Sergio Leonel Agüero del Castillo</td>\n",
       "      <td>13.709017</td>\n",
       "    </tr>\n",
       "    <tr>\n",
       "      <th>5</th>\n",
       "      <td>3337.0</td>\n",
       "      <td>Jermain Defoe</td>\n",
       "      <td>12.426376</td>\n",
       "    </tr>\n",
       "    <tr>\n",
       "      <th>6</th>\n",
       "      <td>3604.0</td>\n",
       "      <td>Olivier Giroud</td>\n",
       "      <td>12.234203</td>\n",
       "    </tr>\n",
       "    <tr>\n",
       "      <th>7</th>\n",
       "      <td>5198.0</td>\n",
       "      <td>Diego da Silva Costa</td>\n",
       "      <td>11.809204</td>\n",
       "    </tr>\n",
       "    <tr>\n",
       "      <th>8</th>\n",
       "      <td>3629.0</td>\n",
       "      <td>Sadio Mané</td>\n",
       "      <td>11.268578</td>\n",
       "    </tr>\n",
       "    <tr>\n",
       "      <th>9</th>\n",
       "      <td>3385.0</td>\n",
       "      <td>Alexis Alejandro Sánchez Sánchez</td>\n",
       "      <td>10.700351</td>\n",
       "    </tr>\n",
       "  </tbody>\n",
       "</table>\n",
       "</div>"
      ],
      "text/plain": [
       "   player_id                             player   tot_npxg\n",
       "0    10955.0                         Harry Kane  17.708696\n",
       "1    10960.0                        Jamie Vardy  17.551590\n",
       "2     5458.0                  Odion Jude Ighalo  16.919278\n",
       "3     3289.0               Romelu Lukaku Menama  16.268007\n",
       "4     3237.0  Sergio Leonel Agüero del Castillo  13.709017\n",
       "5     3337.0                      Jermain Defoe  12.426376\n",
       "6     3604.0                     Olivier Giroud  12.234203\n",
       "7     5198.0               Diego da Silva Costa  11.809204\n",
       "8     3629.0                         Sadio Mané  11.268578\n",
       "9     3385.0   Alexis Alejandro Sánchez Sánchez  10.700351"
      ]
     },
     "execution_count": 53,
     "metadata": {},
     "output_type": "execute_result"
    }
   ],
   "source": [
    "openplay_xg_players.head(10)"
   ]
  },
  {
   "cell_type": "markdown",
   "id": "14deb0b8",
   "metadata": {},
   "source": [
    "### Final Pass and Box Positioning evaluation"
   ]
  },
  {
   "cell_type": "markdown",
   "id": "37394202",
   "metadata": {},
   "source": [
    "All the metrics to assess Final Pass and Box Positioning capabilities are rescaled between 0 and 1 and averaged to get an unique metric, called *fin_pass_box_pos*."
   ]
  },
  {
   "cell_type": "code",
   "execution_count": 54,
   "id": "92497758",
   "metadata": {},
   "outputs": [],
   "source": [
    "def join_metrics(metric_df_list: list[pd.DataFrame]) -> pd.DataFrame:\n",
    "    \"\"\"Method to join together all the Final Pass and Box Positioning metrics.\n",
    "\n",
    "    Parameters\n",
    "    ----------\n",
    "    metric_df_list : list[pd.DataFrame]\n",
    "        List of the Final Pass and Box Positioning metrics\n",
    "\n",
    "    Returns\n",
    "    -------\n",
    "    Optional[pd.DataFrame]\n",
    "        A DataFrame with the player id and all the corresponding Final Pass and Box Positioning metrics\n",
    "    \"\"\"\n",
    "    if len(metric_df_list) < 2:\n",
    "        print(\"Add more metrics.\")\n",
    "        return pd.DataFrame()\n",
    "\n",
    "    df_to_ret = metric_df_list[0]\n",
    "\n",
    "    for i in range(1, len(metric_df_list)):\n",
    "        df_to_ret = pd.merge(df_to_ret, metric_df_list[i], on=\"player_id\", how=\"inner\", suffixes=[f\"_{i-1}\", f\"_{i}\"])\n",
    "\n",
    "    return df_to_ret"
   ]
  },
  {
   "cell_type": "code",
   "execution_count": 55,
   "id": "6c02e3bf",
   "metadata": {},
   "outputs": [],
   "source": [
    "# List of the Final Pass and Box Positioning metrics\n",
    "metric_df_list = [\n",
    "    assist_players,\n",
    "    xga_players,\n",
    "    key_passes_players,\n",
    "    under_pressure_key_passes_players,\n",
    "    prog_pass_players,\n",
    "    penalty_box_receipts_players,\n",
    "    zone14_receipts_players,\n",
    "    openplay_xg_players,\n",
    "]"
   ]
  },
  {
   "cell_type": "code",
   "execution_count": 56,
   "id": "1120f950",
   "metadata": {},
   "outputs": [],
   "source": [
    "# Join the dataframe with the single metrics\n",
    "finalpass_boxpos_metrics = join_metrics(metric_df_list=metric_df_list)\n",
    "# Save the player ids to later concatenate them with the rescaled metrics\n",
    "player_id = finalpass_boxpos_metrics[[\"player_id\", \"player_0\"]]\n",
    "\n",
    "finalpass_boxpos_metrics = finalpass_boxpos_metrics.drop(columns=\"player_id\")\n",
    "finalpass_boxpos_metrics = finalpass_boxpos_metrics.select_dtypes(exclude=\"object\")\n",
    "# Metrics rescaling\n",
    "scaled_finalpass_boxpos_metrics = (\n",
    "    finalpass_boxpos_metrics - finalpass_boxpos_metrics.min()\n",
    ") / (finalpass_boxpos_metrics.max() - finalpass_boxpos_metrics.min())\n",
    "# Get a unique metric that is the average of the other ones\n",
    "fin_pass_box_pos = (\n",
    "    scaled_finalpass_boxpos_metrics.mean(axis=1)\n",
    "    .reset_index(name=\"fin_pass_box_pos\")\n",
    "    .drop(columns=\"index\")\n",
    ")\n",
    "fin_pass_box_pos = pd.concat((fin_pass_box_pos, player_id), axis=1)\n",
    "fin_pass_box_pos = fin_pass_box_pos.rename(columns={\"player_0\": \"player\"})\n",
    "fin_pass_box_pos = fin_pass_box_pos.sort_values(\n",
    "    by=\"fin_pass_box_pos\", ascending=False, ignore_index=True\n",
    ")"
   ]
  },
  {
   "cell_type": "markdown",
   "id": "b840c1ba",
   "metadata": {},
   "source": [
    "### The top 5 Premier League 2015/2016 players according to Final Pass and Box Positioning capabilities"
   ]
  },
  {
   "cell_type": "code",
   "execution_count": 57,
   "id": "07e45992",
   "metadata": {},
   "outputs": [
    {
     "data": {
      "application/vnd.microsoft.datawrangler.viewer.v0+json": {
       "columns": [
        {
         "name": "index",
         "rawType": "int64",
         "type": "integer"
        },
        {
         "name": "fin_pass_box_pos",
         "rawType": "float64",
         "type": "float"
        },
        {
         "name": "player_id",
         "rawType": "float64",
         "type": "float"
        },
        {
         "name": "player",
         "rawType": "object",
         "type": "string"
        }
       ],
       "ref": "acbe28eb-f450-4faa-8f38-3fd5434ee59c",
       "rows": [
        [
         "0",
         "0.7176725250980296",
         "3831.0",
         "Dušan Tadić"
        ],
        [
         "1",
         "0.5951710713007234",
         "3473.0",
         "James Philip Milner"
        ],
        [
         "2",
         "0.5881517517932956",
         "3814.0",
         "Riyad Mahrez"
        ],
        [
         "3",
         "0.5853680666776205",
         "3094.0",
         "Bamidele Alli"
        ],
        [
         "4",
         "0.5668325866103273",
         "3289.0",
         "Romelu Lukaku Menama"
        ],
        [
         "5",
         "0.5526000256947976",
         "3454.0",
         "Troy Deeney"
        ],
        [
         "6",
         "0.5414772961735923",
         "4275.0",
         "Ross Barkley"
        ],
        [
         "7",
         "0.48574987565772076",
         "11062.0",
         "Graziano Pellè"
        ],
        [
         "8",
         "0.4748609466770257",
         "3585.0",
         "Erik Lamela"
        ],
        [
         "9",
         "0.47457273116638987",
         "10960.0",
         "Jamie Vardy"
        ]
       ],
       "shape": {
        "columns": 3,
        "rows": 10
       }
      },
      "text/html": [
       "<div>\n",
       "<style scoped>\n",
       "    .dataframe tbody tr th:only-of-type {\n",
       "        vertical-align: middle;\n",
       "    }\n",
       "\n",
       "    .dataframe tbody tr th {\n",
       "        vertical-align: top;\n",
       "    }\n",
       "\n",
       "    .dataframe thead th {\n",
       "        text-align: right;\n",
       "    }\n",
       "</style>\n",
       "<table border=\"1\" class=\"dataframe\">\n",
       "  <thead>\n",
       "    <tr style=\"text-align: right;\">\n",
       "      <th></th>\n",
       "      <th>fin_pass_box_pos</th>\n",
       "      <th>player_id</th>\n",
       "      <th>player</th>\n",
       "    </tr>\n",
       "  </thead>\n",
       "  <tbody>\n",
       "    <tr>\n",
       "      <th>0</th>\n",
       "      <td>0.717673</td>\n",
       "      <td>3831.0</td>\n",
       "      <td>Dušan Tadić</td>\n",
       "    </tr>\n",
       "    <tr>\n",
       "      <th>1</th>\n",
       "      <td>0.595171</td>\n",
       "      <td>3473.0</td>\n",
       "      <td>James Philip Milner</td>\n",
       "    </tr>\n",
       "    <tr>\n",
       "      <th>2</th>\n",
       "      <td>0.588152</td>\n",
       "      <td>3814.0</td>\n",
       "      <td>Riyad Mahrez</td>\n",
       "    </tr>\n",
       "    <tr>\n",
       "      <th>3</th>\n",
       "      <td>0.585368</td>\n",
       "      <td>3094.0</td>\n",
       "      <td>Bamidele Alli</td>\n",
       "    </tr>\n",
       "    <tr>\n",
       "      <th>4</th>\n",
       "      <td>0.566833</td>\n",
       "      <td>3289.0</td>\n",
       "      <td>Romelu Lukaku Menama</td>\n",
       "    </tr>\n",
       "    <tr>\n",
       "      <th>5</th>\n",
       "      <td>0.552600</td>\n",
       "      <td>3454.0</td>\n",
       "      <td>Troy Deeney</td>\n",
       "    </tr>\n",
       "    <tr>\n",
       "      <th>6</th>\n",
       "      <td>0.541477</td>\n",
       "      <td>4275.0</td>\n",
       "      <td>Ross Barkley</td>\n",
       "    </tr>\n",
       "    <tr>\n",
       "      <th>7</th>\n",
       "      <td>0.485750</td>\n",
       "      <td>11062.0</td>\n",
       "      <td>Graziano Pellè</td>\n",
       "    </tr>\n",
       "    <tr>\n",
       "      <th>8</th>\n",
       "      <td>0.474861</td>\n",
       "      <td>3585.0</td>\n",
       "      <td>Erik Lamela</td>\n",
       "    </tr>\n",
       "    <tr>\n",
       "      <th>9</th>\n",
       "      <td>0.474573</td>\n",
       "      <td>10960.0</td>\n",
       "      <td>Jamie Vardy</td>\n",
       "    </tr>\n",
       "  </tbody>\n",
       "</table>\n",
       "</div>"
      ],
      "text/plain": [
       "   fin_pass_box_pos  player_id                player\n",
       "0          0.717673     3831.0           Dušan Tadić\n",
       "1          0.595171     3473.0   James Philip Milner\n",
       "2          0.588152     3814.0          Riyad Mahrez\n",
       "3          0.585368     3094.0         Bamidele Alli\n",
       "4          0.566833     3289.0  Romelu Lukaku Menama\n",
       "5          0.552600     3454.0           Troy Deeney\n",
       "6          0.541477     4275.0          Ross Barkley\n",
       "7          0.485750    11062.0        Graziano Pellè\n",
       "8          0.474861     3585.0           Erik Lamela\n",
       "9          0.474573    10960.0           Jamie Vardy"
      ]
     },
     "execution_count": 57,
     "metadata": {},
     "output_type": "execute_result"
    }
   ],
   "source": [
    "fin_pass_box_pos.head(10)"
   ]
  }
 ],
 "metadata": {
  "kernelspec": {
   "display_name": ".venv",
   "language": "python",
   "name": "python3"
  },
  "language_info": {
   "codemirror_mode": {
    "name": "ipython",
    "version": 3
   },
   "file_extension": ".py",
   "mimetype": "text/x-python",
   "name": "python",
   "nbconvert_exporter": "python",
   "pygments_lexer": "ipython3",
   "version": "3.12.4"
  }
 },
 "nbformat": 4,
 "nbformat_minor": 5
}
