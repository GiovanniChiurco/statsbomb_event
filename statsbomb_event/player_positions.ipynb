{
 "cells": [
  {
   "cell_type": "markdown",
   "id": "a5d1220e",
   "metadata": {},
   "source": [
    "# Importing libraries"
   ]
  },
  {
   "cell_type": "code",
   "execution_count": 7,
   "id": "c37d04e7",
   "metadata": {},
   "outputs": [],
   "source": [
    "import pandas as pd\n",
    "from common_fun import *"
   ]
  },
  {
   "cell_type": "markdown",
   "id": "9779d97f",
   "metadata": {},
   "source": [
    "# Read parquet file"
   ]
  },
  {
   "cell_type": "code",
   "execution_count": 2,
   "id": "6e11219a",
   "metadata": {},
   "outputs": [],
   "source": [
    "file_path = \"../data/eng_1516_events.parquet\""
   ]
  },
  {
   "cell_type": "code",
   "execution_count": 3,
   "id": "983d18b0",
   "metadata": {},
   "outputs": [],
   "source": [
    "df = pd.read_parquet(file_path)"
   ]
  },
  {
   "cell_type": "code",
   "execution_count": 6,
   "id": "5d482041",
   "metadata": {},
   "outputs": [],
   "source": [
    "group_pos = pd.read_csv('../data/expanded_positions.csv')"
   ]
  },
  {
   "cell_type": "markdown",
   "id": "c9ec14f4",
   "metadata": {},
   "source": [
    "Saving column names"
   ]
  },
  {
   "cell_type": "code",
   "execution_count": 4,
   "id": "7653b78f",
   "metadata": {},
   "outputs": [],
   "source": [
    "column_list = df.columns.tolist()"
   ]
  },
  {
   "cell_type": "code",
   "execution_count": 13,
   "id": "e455c91b",
   "metadata": {},
   "outputs": [],
   "source": [
    "group_pos_df = pd.merge(\n",
    "    df,\n",
    "    group_pos,\n",
    "    left_on='position',\n",
    "    right_on='Position Name'\n",
    ")\n",
    "group_pos_df = group_pos_df.drop(columns=['Position Number','Position Abbreviation', 'Position Name'])\n",
    "group_pos_df = group_pos_df.rename(columns={'Position Category': 'position_group_name'})"
   ]
  },
  {
   "cell_type": "code",
   "execution_count": 16,
   "id": "facf3f52",
   "metadata": {},
   "outputs": [],
   "source": [
    "def get_player_pos_match(event_data: pd.DataFrame) -> pd.DataFrame:\n",
    "    \"\"\"Count how many times over all the matches each player assumed\n",
    "    each position.\n",
    "\n",
    "    Parameters\n",
    "    ----------\n",
    "    event_data : pd.DataFrame\n",
    "        Statsbomb event data of all the matches\n",
    "\n",
    "    Returns\n",
    "    -------\n",
    "    pd.DataFrame\n",
    "        Dataframe with player_id, player, position_group_name, pos_count\n",
    "    \"\"\"\n",
    "    player_pos = pd.DataFrame(columns=['match_id','player_id','player','position_group_name'])\n",
    "    # Iterate over each match and save the players' positions\n",
    "    for match_id, match_df in event_data.groupby(by='match_id'):\n",
    "        curr_player_pos = match_df[['player_id','player','position_group_name']].drop_duplicates(ignore_index=True).dropna()\n",
    "        curr_player_pos['match_id'] = match_id\n",
    "        player_pos = pd.concat([player_pos, curr_player_pos], ignore_index=True)\n",
    "    # Exclude the Substitute position\n",
    "    player_pos = player_pos[player_pos['position_group_name'] != 'Substitute']\n",
    "    # For each player count how many times he assumed each position\n",
    "    player_pos = player_pos.groupby(by=['player_id','player']) \\\n",
    "                            ['position_group_name'].value_counts() \\\n",
    "                            .reset_index(name='pos_count')\n",
    "    return player_pos"
   ]
  },
  {
   "cell_type": "code",
   "execution_count": 17,
   "id": "001bbd1a",
   "metadata": {},
   "outputs": [],
   "source": [
    "def get_player_position(event_data: pd.DataFrame) -> pd.DataFrame:\n",
    "    \"\"\"Get the main player's position. First, count how many times over\n",
    "    matches a player had a certain position; then, keep only the position(s)\n",
    "    with the maximum count (in case of tied values keep all the positions with\n",
    "    the maximum). The main player's position is the position that he had one \n",
    "    time more of the other ones.\n",
    "\n",
    "    Parameters\n",
    "    ----------\n",
    "    event_data : pd.DataFrame\n",
    "        Statsbomb event data of all the matches\n",
    "\n",
    "    Returns\n",
    "    -------\n",
    "    pd.DataFrame\n",
    "        Dataframe with player_id, player_name, position_group_name\n",
    "    \"\"\"\n",
    "    player_pos_count = get_player_pos_match(event_data=event_data)\n",
    "    # Find the maximum position count for each player\n",
    "    max_counts = player_pos_count.groupby(['player_id', 'player'])['pos_count'].transform('max')\n",
    "    p_pos = player_pos_count[player_pos_count['pos_count'] == max_counts]\n",
    "    p_pos = p_pos.drop(columns='pos_count')\n",
    "    return p_pos"
   ]
  },
  {
   "cell_type": "code",
   "execution_count": 18,
   "id": "4db4d8f7",
   "metadata": {},
   "outputs": [
    {
     "name": "stderr",
     "output_type": "stream",
     "text": [
      "/var/folders/pt/p9_0myf16lx1rjjrf63vkx5w0000gp/T/ipykernel_66645/1716800334.py:20: FutureWarning: The behavior of DataFrame concatenation with empty or all-NA entries is deprecated. In a future version, this will no longer exclude empty or all-NA columns when determining the result dtypes. To retain the old behavior, exclude the relevant entries before the concat operation.\n",
      "  player_pos = pd.concat([player_pos, curr_player_pos], ignore_index=True)\n"
     ]
    }
   ],
   "source": [
    "player_positions = get_player_position(event_data=group_pos_df)"
   ]
  },
  {
   "cell_type": "code",
   "execution_count": 19,
   "id": "8d1dae0e",
   "metadata": {},
   "outputs": [],
   "source": [
    "player_positions.to_csv('../data/player_positions.csv', index=False)"
   ]
  },
  {
   "cell_type": "code",
   "execution_count": null,
   "id": "a5a775eb",
   "metadata": {},
   "outputs": [],
   "source": []
  }
 ],
 "metadata": {
  "kernelspec": {
   "display_name": ".venv",
   "language": "python",
   "name": "python3"
  },
  "language_info": {
   "codemirror_mode": {
    "name": "ipython",
    "version": 3
   },
   "file_extension": ".py",
   "mimetype": "text/x-python",
   "name": "python",
   "nbconvert_exporter": "python",
   "pygments_lexer": "ipython3",
   "version": "3.12.4"
  }
 },
 "nbformat": 4,
 "nbformat_minor": 5
}
