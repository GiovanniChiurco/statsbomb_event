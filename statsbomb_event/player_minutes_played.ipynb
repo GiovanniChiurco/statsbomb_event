{
 "cells": [
  {
   "cell_type": "code",
   "execution_count": 1,
   "id": "7a9501d4",
   "metadata": {},
   "outputs": [],
   "source": [
    "import pandas as pd\n",
    "from common_fun import *\n",
    "from datetime import datetime, timedelta\n",
    "import numpy as np"
   ]
  },
  {
   "cell_type": "markdown",
   "id": "0dfc84c6",
   "metadata": {},
   "source": [
    "# Read parquet file"
   ]
  },
  {
   "cell_type": "code",
   "execution_count": 2,
   "id": "a4e74fd9",
   "metadata": {},
   "outputs": [],
   "source": [
    "file_path = \"../data/eng_1516_events.parquet\""
   ]
  },
  {
   "cell_type": "code",
   "execution_count": 3,
   "id": "9a4ebeb6",
   "metadata": {},
   "outputs": [],
   "source": [
    "df = pd.read_parquet(file_path)"
   ]
  },
  {
   "cell_type": "markdown",
   "id": "468453b8",
   "metadata": {},
   "source": [
    "### Saving column names"
   ]
  },
  {
   "cell_type": "code",
   "execution_count": 4,
   "id": "bf2743e0",
   "metadata": {},
   "outputs": [],
   "source": [
    "column_list = df.columns.tolist()"
   ]
  },
  {
   "cell_type": "markdown",
   "id": "cfdfbd21",
   "metadata": {},
   "source": [
    "### Utility functions"
   ]
  },
  {
   "cell_type": "code",
   "execution_count": 5,
   "id": "fdb1740d",
   "metadata": {},
   "outputs": [],
   "source": [
    "players_df = df[[\"player_id\", \"player\"]].drop_duplicates().dropna()"
   ]
  },
  {
   "cell_type": "markdown",
   "id": "c231af87",
   "metadata": {},
   "source": [
    "# Compute total time played by each player"
   ]
  },
  {
   "cell_type": "markdown",
   "id": "743e4e8c",
   "metadata": {},
   "source": [
    "## Get total time played each game"
   ]
  },
  {
   "cell_type": "code",
   "execution_count": 6,
   "id": "54c0aef2",
   "metadata": {},
   "outputs": [],
   "source": [
    "def timestamp_to_timedelta(timestamp_str: str) -> timedelta:\n",
    "    \"\"\"Convert timestamp string to timedelta object.\"\"\"\n",
    "    ts = datetime.strptime(timestamp_str, \"%H:%M:%S.%f\")\n",
    "    return timedelta(hours=ts.hour, minutes=ts.minute, seconds=ts.second, microseconds=ts.microsecond)\n",
    "\n",
    "\n",
    "def process_substitutions(subs_df: pd.DataFrame, players_data: dict, out_sub: set, in_sub: dict):\n",
    "    \"\"\"Process substitutions for a given period and update player data.\"\"\"\n",
    "    if subs_df.empty:\n",
    "        return\n",
    "    \n",
    "    for i, row in subs_df.iterrows():\n",
    "        curr_p_id = row.player_id\n",
    "        curr_ts = timestamp_to_timedelta(row.timestamp)\n",
    "        \n",
    "        # Add time played for outgoing player\n",
    "        players_data[curr_p_id]['time_played'] += curr_ts\n",
    "        players_data[curr_p_id]['is_sub_out'] = True\n",
    "        out_sub.add(curr_p_id)\n",
    "        \n",
    "        # Add incoming substitute to players_data\n",
    "        sub_id = row.substitution_replacement_id\n",
    "        players_data[sub_id] = {\n",
    "            'position_id': 0,\n",
    "            'time_played': timedelta(),\n",
    "            'is_starting': False,\n",
    "            'is_sub_in': True,\n",
    "            'is_sub_out': False\n",
    "        }\n",
    "        in_sub[sub_id] = curr_ts\n",
    "\n",
    "\n",
    "def update_remaining_players_time(players_data: dict, period_end_ts: timedelta, out_sub: set, in_sub: dict):\n",
    "    \"\"\"Update time played for players who weren't substituted out during the period.\"\"\"\n",
    "    for p_id, p_data in players_data.items():\n",
    "        if p_id not in out_sub:\n",
    "            if p_id in in_sub:\n",
    "                p_data['time_played'] += period_end_ts - in_sub[p_id]\n",
    "            else:\n",
    "                p_data['time_played'] += period_end_ts\n",
    "\n",
    "\n",
    "def get_match_player_minutes(match_data: pd.DataFrame):\n",
    "    players_data = {}\n",
    "    match_id = match_data.iloc[0]['match_id']\n",
    "    teams_list = match_data['team_id'].unique().tolist()\n",
    "    \n",
    "    # Initialize starting lineup\n",
    "    for team in teams_list:\n",
    "        curr_team_lineup = match_data[\n",
    "            (match_data['type'] == 'Starting XI') &\n",
    "            (match_data['team_id'] == team)\n",
    "        ].tactics.values[0]['lineup']\n",
    "        for player in curr_team_lineup:\n",
    "            p_id = player['player']['id']\n",
    "            p_jn = player['jersey_number']\n",
    "            p_pos_id = player['position']['id']\n",
    "            players_data[p_id] = {\n",
    "                'jersey_number': p_jn,\n",
    "                'position_id': p_pos_id,\n",
    "                'time_played': timedelta(),\n",
    "                'is_starting': True,\n",
    "                'is_sub_in': False,\n",
    "                'is_sub_out': False\n",
    "            }\n",
    "    \n",
    "    subs = match_data[match_data['type'] == 'Substitution'].dropna(axis=1)\n",
    "    half_ends = match_data[match_data['type'] == 'Half End'].dropna(axis=1)\n",
    "    out_sub = set()\n",
    "    in_sub = {}\n",
    "    \n",
    "    # Process first half substitutions\n",
    "    fh_subs = subs[subs['period'] == 1]\n",
    "    process_substitutions(fh_subs, players_data, out_sub, in_sub)\n",
    "    \n",
    "    # Update remaining players' time at first half end\n",
    "    fh_end_ts = timestamp_to_timedelta(half_ends[half_ends['period'] == 1].iloc[0].timestamp)\n",
    "    update_remaining_players_time(players_data, fh_end_ts, out_sub, in_sub)\n",
    "    \n",
    "    # Process second half substitutions\n",
    "    sh_subs = subs[subs['period'] == 2]\n",
    "    process_substitutions(sh_subs, players_data, out_sub, in_sub)\n",
    "    \n",
    "    # Update remaining players' time at second half end\n",
    "    sh_end_ts = timestamp_to_timedelta(half_ends[half_ends['period'] == 2].iloc[0].timestamp)\n",
    "    update_remaining_players_time(players_data, sh_end_ts, out_sub, in_sub)\n",
    "    \n",
    "    # Create final DataFrame\n",
    "    match_time_played = pd.DataFrame(\n",
    "        data=players_data.values(),\n",
    "        index=list(players_data.keys())\n",
    "    )\n",
    "    match_time_played['match_id'] = match_id\n",
    "    match_time_played = match_time_played.reset_index(names='player_id')\n",
    "    match_time_played['player_id'] = match_time_played['player_id'].astype('int')\n",
    "    \n",
    "    return match_time_played"
   ]
  },
  {
   "cell_type": "markdown",
   "id": "3fe8415c",
   "metadata": {},
   "source": [
    "## Get total playing time over all matches for each player"
   ]
  },
  {
   "cell_type": "code",
   "execution_count": 7,
   "id": "7a6d0879",
   "metadata": {},
   "outputs": [],
   "source": [
    "def get_player_minutes(event_data: pd.DataFrame) -> pd.DataFrame:\n",
    "    player_minutes = pd.DataFrame()\n",
    "    for match_id, match_data in event_data.groupby(by='match_id'):\n",
    "        curr_md = get_match_player_minutes(match_data=match_data)\n",
    "        player_minutes = pd.concat([player_minutes, curr_md])\n",
    "    return player_minutes"
   ]
  },
  {
   "cell_type": "code",
   "execution_count": 8,
   "id": "a234e4ec",
   "metadata": {},
   "outputs": [],
   "source": [
    "players_minutes = get_player_minutes(event_data=df)"
   ]
  },
  {
   "cell_type": "markdown",
   "id": "e91fc770",
   "metadata": {},
   "source": [
    "### Save playing time over season"
   ]
  },
  {
   "cell_type": "markdown",
   "id": "edc4ff56",
   "metadata": {},
   "source": [
    "*time_played* in minutes"
   ]
  },
  {
   "cell_type": "code",
   "execution_count": 9,
   "id": "6fe2db43",
   "metadata": {},
   "outputs": [],
   "source": [
    "tot_player_time_path = '../data/tot_player_time.csv'"
   ]
  },
  {
   "cell_type": "code",
   "execution_count": 10,
   "id": "2ac41c9f",
   "metadata": {},
   "outputs": [],
   "source": [
    "tot_player_time = players_minutes.groupby(by='player_id') \\\n",
    "                                    .agg({'time_played':'sum'}).reset_index() \\\n",
    "                                    .sort_values(by='time_played', ascending=False)\n",
    "tot_player_time['time_played'] = tot_player_time['time_played'].apply(lambda tp: tp.total_seconds() / 60)"
   ]
  },
  {
   "cell_type": "code",
   "execution_count": 11,
   "id": "7ba4aa13",
   "metadata": {},
   "outputs": [],
   "source": [
    "tot_player_time.to_csv(tot_player_time_path, index=False)"
   ]
  },
  {
   "cell_type": "markdown",
   "id": "9ecb1253",
   "metadata": {},
   "source": [
    "### Save playing time per match"
   ]
  },
  {
   "cell_type": "markdown",
   "id": "feafdeea",
   "metadata": {},
   "source": [
    "*time_played* in seconds"
   ]
  },
  {
   "cell_type": "code",
   "execution_count": 12,
   "id": "8f52a341",
   "metadata": {},
   "outputs": [],
   "source": [
    "playing_time_match_path = '../data/players_playing_time_match.csv'"
   ]
  },
  {
   "cell_type": "code",
   "execution_count": 13,
   "id": "4e97c7f6",
   "metadata": {},
   "outputs": [],
   "source": [
    "players_minutes['time_played'] = players_minutes['time_played'].apply(lambda tp: tp.total_seconds())\n",
    "players_minutes.to_csv(playing_time_match_path, index=False)"
   ]
  }
 ],
 "metadata": {
  "kernelspec": {
   "display_name": ".venv",
   "language": "python",
   "name": "python3"
  },
  "language_info": {
   "codemirror_mode": {
    "name": "ipython",
    "version": 3
   },
   "file_extension": ".py",
   "mimetype": "text/x-python",
   "name": "python",
   "nbconvert_exporter": "python",
   "pygments_lexer": "ipython3",
   "version": "3.12.4"
  }
 },
 "nbformat": 4,
 "nbformat_minor": 5
}
